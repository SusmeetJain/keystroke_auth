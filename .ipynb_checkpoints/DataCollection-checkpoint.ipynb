{
 "cells": [
  {
   "cell_type": "raw",
   "metadata": {},
   "source": [
    "\n"
   ]
  },
  {
   "cell_type": "code",
   "execution_count": null,
   "metadata": {},
   "outputs": [],
   "source": [
    "from pynput import keyboard \n",
    "import time\n",
    "\n",
    "def callb(key): #what to do on key-release\n",
    "    ti1 = str(time.time() - t)[0:7] #converting float to str, slicing the float\n",
    "    print(\"The key\",key,\" is pressed for\",ti1,'seconds -- HOLD TIME')\n",
    "    return False #stop detecting more key-releases\n",
    "def callb1(key): #what to do on key-press\n",
    "    return False #stop detecting more key-presses\n",
    "\n",
    "def callb2(key): \n",
    "\n",
    "    return False \n",
    "\n",
    "\n",
    "for i in range(1,6):\n",
    "    with keyboard.Listener(on_press = callb1) as listener1: #setting code for listening key-press\n",
    "        listener1.join()\n",
    "\n",
    "    t = time.time() #reading time in sec\n",
    "\n",
    "    with keyboard.Listener(on_release = callb) as listener: #setting code for listening key-release\n",
    "        listener.join()\n",
    "        \n",
    "    \n",
    "    \n",
    "  \n",
    "        \n",
    "        "
   ]
  },
  {
   "cell_type": "markdown",
   "metadata": {},
   "source": []
  },
  {
   "cell_type": "code",
   "execution_count": null,
   "metadata": {},
   "outputs": [],
   "source": [
    "## hold time and duration \n",
    "\n",
    "from pynput import keyboard \n",
    "import time\n",
    "\n",
    "def callb(key): #what to do on key-release\n",
    "    ti1 = str(time.time() - t)[0:7] #converting float to str, slicing the float\n",
    "    print(\"The key\",key,\" is pressed for\",ti1,'seconds --DURATION')\n",
    "    return False #stop detecting more key-releases\n",
    "def callb1(key): #what to do on key-press\n",
    "    return False #stop detecting more key-presses\n",
    "\n",
    "def callb2(key): \n",
    "   \n",
    "    return False \n",
    "\n",
    "\n",
    "for i in range(1,6):\n",
    "    \n",
    "    with keyboard.Listener(on_release = callb) as listener: #setting code for listening key-release\n",
    "        listener.join()\n",
    "        \n",
    "    t = time.time() #reading time in sec\n",
    "    \n",
    "    with keyboard.Listener(on_press = callb1) as listener1: #setting code for listening key-press\n",
    "        listener1.join()\n",
    "\n",
    "    \n",
    "\n",
    "    \n",
    "    \n",
    "  "
   ]
  },
  {
   "cell_type": "code",
   "execution_count": null,
   "metadata": {},
   "outputs": [
    {
     "name": "stdout",
     "output_type": "stream",
     "text": [
      "The duration between 0 and 'F'  is 44.9232 seconds --INTERVAL\n",
      "The key 'f'  is pressed for 0.10068 seconds --DURATION\n"
     ]
    }
   ],
   "source": [
    "## hold time and duration \n",
    "\n",
    "from pynput import keyboard \n",
    "import time\n",
    "f=0\n",
    "prev ='0'\n",
    "def callb(key): #what to do on key-release\n",
    "    if f==0:\n",
    "        ti1 = str(time.time() - t)[0:7] #converting float to str, slicing the float\n",
    "        print(\"The key\",key,\" is pressed for\",ti1,'seconds --DURATION')\n",
    "    return False #stop detecting more key-releases\n",
    "def callb1(key): #what to do on key-press\n",
    "    if f==1:\n",
    "        prev ='0'\n",
    "    ti1 = str(time.time() - t)[0:7] #converting float to str, slicing the float\n",
    "    print(\"The duration between\",prev,\"and\",key,\" is\",ti1,'seconds --INTERVAL')\n",
    "    prev = key\n",
    "\n",
    "    return False #stop detecting more key-presses\n",
    "\n",
    " \n",
    "\n",
    "\n",
    "for i in range(1,6):\n",
    "    \n",
    "    if i==1:\n",
    "        f=1\n",
    "    with keyboard.Listener(on_press = callb1) as listener1: #setting code for listening key-press\n",
    "        listener1.join()\n",
    "\n",
    "    t = time.time() #reading time in sec\n",
    "    \n",
    "    f=0\n",
    "    with keyboard.Listener(on_release = callb) as listener: #setting code for listening key-release\n",
    "        listener.join()\n",
    "        \n",
    "    t = time.time() #reading time in sec    \n",
    "        \n",
    "    \n"
   ]
  },
  {
   "cell_type": "markdown",
   "metadata": {},
   "source": []
  },
  {
   "cell_type": "code",
   "execution_count": null,
   "metadata": {},
   "outputs": [],
   "source": []
  },
  {
   "cell_type": "code",
   "execution_count": null,
   "metadata": {},
   "outputs": [],
   "source": []
  },
  {
   "cell_type": "code",
   "execution_count": null,
   "metadata": {},
   "outputs": [],
   "source": []
  },
  {
   "cell_type": "code",
   "execution_count": null,
   "metadata": {},
   "outputs": [],
   "source": []
  },
  {
   "cell_type": "code",
   "execution_count": null,
   "metadata": {},
   "outputs": [],
   "source": []
  },
  {
   "cell_type": "code",
   "execution_count": null,
   "metadata": {},
   "outputs": [],
   "source": []
  },
  {
   "cell_type": "code",
   "execution_count": null,
   "metadata": {},
   "outputs": [],
   "source": []
  },
  {
   "cell_type": "code",
   "execution_count": null,
   "metadata": {},
   "outputs": [],
   "source": []
  },
  {
   "cell_type": "code",
   "execution_count": null,
   "metadata": {},
   "outputs": [],
   "source": []
  },
  {
   "cell_type": "code",
   "execution_count": null,
   "metadata": {},
   "outputs": [],
   "source": []
  },
  {
   "cell_type": "code",
   "execution_count": null,
   "metadata": {},
   "outputs": [],
   "source": []
  },
  {
   "cell_type": "code",
   "execution_count": null,
   "metadata": {},
   "outputs": [],
   "source": []
  },
  {
   "cell_type": "code",
   "execution_count": null,
   "metadata": {},
   "outputs": [],
   "source": []
  },
  {
   "cell_type": "code",
   "execution_count": null,
   "metadata": {},
   "outputs": [],
   "source": []
  },
  {
   "cell_type": "code",
   "execution_count": null,
   "metadata": {},
   "outputs": [],
   "source": []
  },
  {
   "cell_type": "code",
   "execution_count": null,
   "metadata": {},
   "outputs": [],
   "source": []
  },
  {
   "cell_type": "code",
   "execution_count": null,
   "metadata": {},
   "outputs": [],
   "source": []
  },
  {
   "cell_type": "code",
   "execution_count": null,
   "metadata": {},
   "outputs": [],
   "source": []
  },
  {
   "cell_type": "code",
   "execution_count": null,
   "metadata": {},
   "outputs": [],
   "source": []
  },
  {
   "cell_type": "code",
   "execution_count": null,
   "metadata": {},
   "outputs": [],
   "source": []
  },
  {
   "cell_type": "code",
   "execution_count": null,
   "metadata": {},
   "outputs": [],
   "source": []
  },
  {
   "cell_type": "code",
   "execution_count": null,
   "metadata": {},
   "outputs": [],
   "source": []
  }
 ],
 "metadata": {
  "kernelspec": {
   "display_name": "Python 3",
   "language": "python",
   "name": "python3"
  },
  "language_info": {
   "codemirror_mode": {
    "name": "ipython",
    "version": 3
   },
   "file_extension": ".py",
   "mimetype": "text/x-python",
   "name": "python",
   "nbconvert_exporter": "python",
   "pygments_lexer": "ipython3",
   "version": "3.7.3"
  }
 },
 "nbformat": 4,
 "nbformat_minor": 2
}
