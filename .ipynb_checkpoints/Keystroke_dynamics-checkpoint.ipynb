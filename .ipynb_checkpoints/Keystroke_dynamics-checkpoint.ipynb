{
 "cells": [
  {
   "cell_type": "markdown",
   "metadata": {},
   "source": [
    "# Keystroke dynamics based biometric authentication\n",
    "\n",
    "dataset: http://www.cs.cmu.edu/~keystroke/"
   ]
  },
  {
   "cell_type": "code",
   "execution_count": 1,
   "metadata": {},
   "outputs": [],
   "source": [
    "import pandas as pd\n",
    "import numpy as np\n",
    "from matplotlib import pyplot as plt\n",
    "\n",
    "%matplotlib inline"
   ]
  },
  {
   "cell_type": "code",
   "execution_count": 2,
   "metadata": {},
   "outputs": [],
   "source": [
    "data = pd.read_csv('DSL-StrongPasswordData.csv')"
   ]
  },
  {
   "cell_type": "code",
   "execution_count": 3,
   "metadata": {},
   "outputs": [
    {
     "data": {
      "text/html": [
       "<div>\n",
       "<style scoped>\n",
       "    .dataframe tbody tr th:only-of-type {\n",
       "        vertical-align: middle;\n",
       "    }\n",
       "\n",
       "    .dataframe tbody tr th {\n",
       "        vertical-align: top;\n",
       "    }\n",
       "\n",
       "    .dataframe thead th {\n",
       "        text-align: right;\n",
       "    }\n",
       "</style>\n",
       "<table border=\"1\" class=\"dataframe\">\n",
       "  <thead>\n",
       "    <tr style=\"text-align: right;\">\n",
       "      <th></th>\n",
       "      <th>subject</th>\n",
       "      <th>sessionIndex</th>\n",
       "      <th>rep</th>\n",
       "      <th>H.period</th>\n",
       "      <th>DD.period.t</th>\n",
       "      <th>UD.period.t</th>\n",
       "      <th>H.t</th>\n",
       "      <th>DD.t.i</th>\n",
       "      <th>UD.t.i</th>\n",
       "      <th>H.i</th>\n",
       "      <th>...</th>\n",
       "      <th>H.a</th>\n",
       "      <th>DD.a.n</th>\n",
       "      <th>UD.a.n</th>\n",
       "      <th>H.n</th>\n",
       "      <th>DD.n.l</th>\n",
       "      <th>UD.n.l</th>\n",
       "      <th>H.l</th>\n",
       "      <th>DD.l.Return</th>\n",
       "      <th>UD.l.Return</th>\n",
       "      <th>H.Return</th>\n",
       "    </tr>\n",
       "  </thead>\n",
       "  <tbody>\n",
       "    <tr>\n",
       "      <th>0</th>\n",
       "      <td>s002</td>\n",
       "      <td>1</td>\n",
       "      <td>1</td>\n",
       "      <td>0.1491</td>\n",
       "      <td>0.3979</td>\n",
       "      <td>0.2488</td>\n",
       "      <td>0.1069</td>\n",
       "      <td>0.1674</td>\n",
       "      <td>0.0605</td>\n",
       "      <td>0.1169</td>\n",
       "      <td>...</td>\n",
       "      <td>0.1349</td>\n",
       "      <td>0.1484</td>\n",
       "      <td>0.0135</td>\n",
       "      <td>0.0932</td>\n",
       "      <td>0.3515</td>\n",
       "      <td>0.2583</td>\n",
       "      <td>0.1338</td>\n",
       "      <td>0.3509</td>\n",
       "      <td>0.2171</td>\n",
       "      <td>0.0742</td>\n",
       "    </tr>\n",
       "    <tr>\n",
       "      <th>1</th>\n",
       "      <td>s002</td>\n",
       "      <td>1</td>\n",
       "      <td>2</td>\n",
       "      <td>0.1111</td>\n",
       "      <td>0.3451</td>\n",
       "      <td>0.2340</td>\n",
       "      <td>0.0694</td>\n",
       "      <td>0.1283</td>\n",
       "      <td>0.0589</td>\n",
       "      <td>0.0908</td>\n",
       "      <td>...</td>\n",
       "      <td>0.1412</td>\n",
       "      <td>0.2558</td>\n",
       "      <td>0.1146</td>\n",
       "      <td>0.1146</td>\n",
       "      <td>0.2642</td>\n",
       "      <td>0.1496</td>\n",
       "      <td>0.0839</td>\n",
       "      <td>0.2756</td>\n",
       "      <td>0.1917</td>\n",
       "      <td>0.0747</td>\n",
       "    </tr>\n",
       "    <tr>\n",
       "      <th>2</th>\n",
       "      <td>s002</td>\n",
       "      <td>1</td>\n",
       "      <td>3</td>\n",
       "      <td>0.1328</td>\n",
       "      <td>0.2072</td>\n",
       "      <td>0.0744</td>\n",
       "      <td>0.0731</td>\n",
       "      <td>0.1291</td>\n",
       "      <td>0.0560</td>\n",
       "      <td>0.0821</td>\n",
       "      <td>...</td>\n",
       "      <td>0.1621</td>\n",
       "      <td>0.2332</td>\n",
       "      <td>0.0711</td>\n",
       "      <td>0.1172</td>\n",
       "      <td>0.2705</td>\n",
       "      <td>0.1533</td>\n",
       "      <td>0.1085</td>\n",
       "      <td>0.2847</td>\n",
       "      <td>0.1762</td>\n",
       "      <td>0.0945</td>\n",
       "    </tr>\n",
       "    <tr>\n",
       "      <th>3</th>\n",
       "      <td>s002</td>\n",
       "      <td>1</td>\n",
       "      <td>4</td>\n",
       "      <td>0.1291</td>\n",
       "      <td>0.2515</td>\n",
       "      <td>0.1224</td>\n",
       "      <td>0.1059</td>\n",
       "      <td>0.2495</td>\n",
       "      <td>0.1436</td>\n",
       "      <td>0.1040</td>\n",
       "      <td>...</td>\n",
       "      <td>0.1457</td>\n",
       "      <td>0.1629</td>\n",
       "      <td>0.0172</td>\n",
       "      <td>0.0866</td>\n",
       "      <td>0.2341</td>\n",
       "      <td>0.1475</td>\n",
       "      <td>0.0845</td>\n",
       "      <td>0.3232</td>\n",
       "      <td>0.2387</td>\n",
       "      <td>0.0813</td>\n",
       "    </tr>\n",
       "    <tr>\n",
       "      <th>4</th>\n",
       "      <td>s002</td>\n",
       "      <td>1</td>\n",
       "      <td>5</td>\n",
       "      <td>0.1249</td>\n",
       "      <td>0.2317</td>\n",
       "      <td>0.1068</td>\n",
       "      <td>0.0895</td>\n",
       "      <td>0.1676</td>\n",
       "      <td>0.0781</td>\n",
       "      <td>0.0903</td>\n",
       "      <td>...</td>\n",
       "      <td>0.1312</td>\n",
       "      <td>0.1582</td>\n",
       "      <td>0.0270</td>\n",
       "      <td>0.0884</td>\n",
       "      <td>0.2517</td>\n",
       "      <td>0.1633</td>\n",
       "      <td>0.0903</td>\n",
       "      <td>0.2517</td>\n",
       "      <td>0.1614</td>\n",
       "      <td>0.0818</td>\n",
       "    </tr>\n",
       "  </tbody>\n",
       "</table>\n",
       "<p>5 rows × 34 columns</p>\n",
       "</div>"
      ],
      "text/plain": [
       "  subject  sessionIndex  rep  H.period  DD.period.t  UD.period.t     H.t  \\\n",
       "0    s002             1    1    0.1491       0.3979       0.2488  0.1069   \n",
       "1    s002             1    2    0.1111       0.3451       0.2340  0.0694   \n",
       "2    s002             1    3    0.1328       0.2072       0.0744  0.0731   \n",
       "3    s002             1    4    0.1291       0.2515       0.1224  0.1059   \n",
       "4    s002             1    5    0.1249       0.2317       0.1068  0.0895   \n",
       "\n",
       "   DD.t.i  UD.t.i     H.i  ...     H.a  DD.a.n  UD.a.n     H.n  DD.n.l  \\\n",
       "0  0.1674  0.0605  0.1169  ...  0.1349  0.1484  0.0135  0.0932  0.3515   \n",
       "1  0.1283  0.0589  0.0908  ...  0.1412  0.2558  0.1146  0.1146  0.2642   \n",
       "2  0.1291  0.0560  0.0821  ...  0.1621  0.2332  0.0711  0.1172  0.2705   \n",
       "3  0.2495  0.1436  0.1040  ...  0.1457  0.1629  0.0172  0.0866  0.2341   \n",
       "4  0.1676  0.0781  0.0903  ...  0.1312  0.1582  0.0270  0.0884  0.2517   \n",
       "\n",
       "   UD.n.l     H.l  DD.l.Return  UD.l.Return  H.Return  \n",
       "0  0.2583  0.1338       0.3509       0.2171    0.0742  \n",
       "1  0.1496  0.0839       0.2756       0.1917    0.0747  \n",
       "2  0.1533  0.1085       0.2847       0.1762    0.0945  \n",
       "3  0.1475  0.0845       0.3232       0.2387    0.0813  \n",
       "4  0.1633  0.0903       0.2517       0.1614    0.0818  \n",
       "\n",
       "[5 rows x 34 columns]"
      ]
     },
     "execution_count": 3,
     "metadata": {},
     "output_type": "execute_result"
    }
   ],
   "source": [
    "data.head()"
   ]
  },
  {
   "cell_type": "code",
   "execution_count": 4,
   "metadata": {},
   "outputs": [
    {
     "data": {
      "text/plain": [
       "Index(['subject', 'sessionIndex', 'rep', 'H.period', 'DD.period.t',\n",
       "       'UD.period.t', 'H.t', 'DD.t.i', 'UD.t.i', 'H.i', 'DD.i.e', 'UD.i.e',\n",
       "       'H.e', 'DD.e.five', 'UD.e.five', 'H.five', 'DD.five.Shift.r',\n",
       "       'UD.five.Shift.r', 'H.Shift.r', 'DD.Shift.r.o', 'UD.Shift.r.o', 'H.o',\n",
       "       'DD.o.a', 'UD.o.a', 'H.a', 'DD.a.n', 'UD.a.n', 'H.n', 'DD.n.l',\n",
       "       'UD.n.l', 'H.l', 'DD.l.Return', 'UD.l.Return', 'H.Return'],\n",
       "      dtype='object')"
      ]
     },
     "execution_count": 4,
     "metadata": {},
     "output_type": "execute_result"
    }
   ],
   "source": [
    "data.columns"
   ]
  },
  {
   "cell_type": "code",
   "execution_count": 4,
   "metadata": {},
   "outputs": [
    {
     "data": {
      "text/plain": [
       "(20400, 34)"
      ]
     },
     "execution_count": 4,
     "metadata": {},
     "output_type": "execute_result"
    }
   ],
   "source": [
    "data.shape"
   ]
  },
  {
   "cell_type": "code",
   "execution_count": 5,
   "metadata": {},
   "outputs": [
    {
     "data": {
      "text/plain": [
       "array(['s002', 's003', 's004', 's005', 's007', 's008', 's010', 's011',\n",
       "       's012', 's013', 's015', 's016', 's017', 's018', 's019', 's020',\n",
       "       's021', 's022', 's024', 's025', 's026', 's027', 's028', 's029',\n",
       "       's030', 's031', 's032', 's033', 's034', 's035', 's036', 's037',\n",
       "       's038', 's039', 's040', 's041', 's042', 's043', 's044', 's046',\n",
       "       's047', 's048', 's049', 's050', 's051', 's052', 's053', 's054',\n",
       "       's055', 's056', 's057'], dtype=object)"
      ]
     },
     "execution_count": 5,
     "metadata": {},
     "output_type": "execute_result"
    }
   ],
   "source": [
    "subjects = data[\"subject\"].unique()\n",
    "subjects"
   ]
  },
  {
   "cell_type": "markdown",
   "metadata": {},
   "source": [
    "## Approach\n",
    "\n",
    "1. Out of 400 samples for each user, 200 used for training \n",
    "\n",
    "2. For testing rest 200 will be used along with 5 samples each from the rest 50 users for each user, so a total of 450 samples for testing\n",
    "\n",
    "3. compare the testing results, both the user's itself and the others for each user and see the difference (intuition: less the difference, more likely) (difference can be in terms of distance or error or anything of that sort)\n",
    "\n",
    "4. for loops are used, a model is made for each user\n",
    "\n",
    "## To decide\n",
    "\n",
    "1. which model to use (simple manhattan distance can give intuition to start, try SVM, then try NN)\n",
    "\n",
    "2. What metric to use for finding accuracy or misclassification "
   ]
  },
  {
   "cell_type": "markdown",
   "metadata": {},
   "source": [
    "### 1. One Class SVM\n",
    "\n",
    "What if you only have data of one class and the goal is to test new data and found out whether it is alike or not like the training data? A method for this task, which gained much popularity the last two decades, is the One-Class Support Vector Machine. \n",
    "\n",
    "It basically separates all the data points from the origin (in feature space F) and maximizes the distance from this hyperplane to the origin. This results in a binary function which captures regions in the input space where the probability density of the data lives. Thus the function returns +1 in a “small” region (capturing the training data points) and −1 elsewhere.\n",
    "\n",
    "http://rvlasveld.github.io/blog/2013/07/12/introduction-to-one-class-support-vector-machines/"
   ]
  },
  {
   "cell_type": "code",
   "execution_count": null,
   "metadata": {},
   "outputs": [],
   "source": [
    "from sklearn import metrics\n",
    "from sklearn.svm import OneClassSVM"
   ]
  },
  {
   "cell_type": "markdown",
   "metadata": {},
   "source": [
    "### Equal error rate (ERR)\n",
    "\n",
    "Equal error rate (EER) is a biometric security system algorithm used to predetermines the threshold values for its false acceptance rate and its false rejection rate. When the rates are equal, the common value is referred to as the equal error rate. The value indicates that the proportion of false acceptances is equal to the proportion of false rejections. The lower the equal error rate value, the higher the accuracy of the biometric system.\n",
    "\n",
    "FAR(FalseAcceptanceRate) = Numberoffalseacceptance / Numberofidentificationattempt\n",
    "\n",
    "FRR(FalseRejectionRate) = Numberoffalserejection / Numberofidentificationattempt\n",
    "\n",
    "ERR = (FAR + FRR) / 2\n",
    "\n",
    "ACC = 100 - ERR"
   ]
  },
  {
   "cell_type": "code",
   "execution_count": null,
   "metadata": {},
   "outputs": [],
   "source": [
    "def evaluateEER(user_scores, imposter_scores):\n",
    "    labels = [0]*len(user_scores) + [1]*len(imposter_scores)\n",
    "    fpr, tpr, thresholds = metrics.roc_curve(labels, user_scores + imposter_scores)\n",
    "    frrates = 1 - tpr\n",
    "    farates = fpr\n",
    "    dists = frrates - farates\n",
    "    idx1 = np.argmin(dists[dists >= 0])\n",
    "    idx2 = np.argmax(dists[dists < 0])\n",
    "    x = [frrates[idx1], farates[idx1]]\n",
    "    y = [frrates[idx2], farates[idx2]]\n",
    "    a = ( x[0] - x[1] ) / ( y[1] - x[1] - y[0] + x[0] )\n",
    "    eer = x[0] + a * ( y[0] - x[0] )\n",
    "    acc = 1 - eer\n",
    "    return eer, acc"
   ]
  },
  {
   "cell_type": "code",
   "execution_count": null,
   "metadata": {
    "scrolled": true
   },
   "outputs": [],
   "source": [
    "# preparing training and testing data for each user\n",
    "eers = []\n",
    "accs = []\n",
    "for subj in subjects:\n",
    "    user_data = data.loc[data.subject == subj, 'H.period':'H.Return']\n",
    "    train_data = user_data[:200]\n",
    "    user_test_data = user_data[200:]\n",
    "    imposter_test_data = data.loc[data.subject != subj,:]\n",
    "    imposter_test_data = imposter_test_data.groupby('subject').head(5).loc[:, \"H.period\":\"H.Return\"]\n",
    "    test_data = user_test_data.append(imposter_test_data)\n",
    "    clf = OneClassSVM(kernel='linear',gamma=0.001, nu=0.95)\n",
    "    clf.fit(train_data)\n",
    "    u_scores = clf.decision_function(user_test_data)\n",
    "    i_scores = clf.decision_function(imposter_test_data)\n",
    "    u_scores = list(u_scores)\n",
    "    i_scores = list(i_scores)\n",
    "    fraud_pred = clf.predict(test_data)\n",
    "    eer, acc = evaluateEER(u_scores, i_scores)\n",
    "    eers.append(eer)\n",
    "    accs.append(acc)\n",
    "print(np.mean(eers))\n",
    "print(np.mean(accs))\n"
   ]
  },
  {
   "cell_type": "code",
   "execution_count": null,
   "metadata": {},
   "outputs": [],
   "source": [
    "i_scores"
   ]
  },
  {
   "cell_type": "markdown",
   "metadata": {},
   "source": [
    "### 2. Neural Network"
   ]
  },
  {
   "cell_type": "code",
   "execution_count": 6,
   "metadata": {},
   "outputs": [],
   "source": [
    "from sklearn.model_selection import train_test_split"
   ]
  },
  {
   "cell_type": "code",
   "execution_count": 25,
   "metadata": {},
   "outputs": [],
   "source": [
    "x = data.loc[data.subject == 's002', 'H.period':'H.Return']\n",
    "y = data.loc[data.subject == 's002', 'subject']\n",
    "for subj in subjects[1:10]:\n",
    "    x = x.append(data.loc[data.subject == subj, 'H.period':'H.Return'])\n",
    "    y = y.append(data.loc[data.subject == subj, 'subject'])"
   ]
  },
  {
   "cell_type": "code",
   "execution_count": 22,
   "metadata": {},
   "outputs": [],
   "source": [
    "from sklearn import preprocessing"
   ]
  },
  {
   "cell_type": "code",
   "execution_count": 27,
   "metadata": {},
   "outputs": [
    {
     "data": {
      "text/plain": [
       "(4000, 1)"
      ]
     },
     "execution_count": 27,
     "metadata": {},
     "output_type": "execute_result"
    }
   ],
   "source": [
    "y = pd.DataFrame(y)\n",
    "y.shape"
   ]
  },
  {
   "cell_type": "code",
   "execution_count": 30,
   "metadata": {},
   "outputs": [
    {
     "data": {
      "text/html": [
       "<div>\n",
       "<style scoped>\n",
       "    .dataframe tbody tr th:only-of-type {\n",
       "        vertical-align: middle;\n",
       "    }\n",
       "\n",
       "    .dataframe tbody tr th {\n",
       "        vertical-align: top;\n",
       "    }\n",
       "\n",
       "    .dataframe thead th {\n",
       "        text-align: right;\n",
       "    }\n",
       "</style>\n",
       "<table border=\"1\" class=\"dataframe\">\n",
       "  <thead>\n",
       "    <tr style=\"text-align: right;\">\n",
       "      <th></th>\n",
       "      <th>subject</th>\n",
       "    </tr>\n",
       "  </thead>\n",
       "  <tbody>\n",
       "    <tr>\n",
       "      <td>0</td>\n",
       "      <td>0</td>\n",
       "    </tr>\n",
       "    <tr>\n",
       "      <td>1</td>\n",
       "      <td>0</td>\n",
       "    </tr>\n",
       "    <tr>\n",
       "      <td>2</td>\n",
       "      <td>0</td>\n",
       "    </tr>\n",
       "    <tr>\n",
       "      <td>3</td>\n",
       "      <td>0</td>\n",
       "    </tr>\n",
       "    <tr>\n",
       "      <td>4</td>\n",
       "      <td>0</td>\n",
       "    </tr>\n",
       "    <tr>\n",
       "      <td>...</td>\n",
       "      <td>...</td>\n",
       "    </tr>\n",
       "    <tr>\n",
       "      <td>3995</td>\n",
       "      <td>9</td>\n",
       "    </tr>\n",
       "    <tr>\n",
       "      <td>3996</td>\n",
       "      <td>9</td>\n",
       "    </tr>\n",
       "    <tr>\n",
       "      <td>3997</td>\n",
       "      <td>9</td>\n",
       "    </tr>\n",
       "    <tr>\n",
       "      <td>3998</td>\n",
       "      <td>9</td>\n",
       "    </tr>\n",
       "    <tr>\n",
       "      <td>3999</td>\n",
       "      <td>9</td>\n",
       "    </tr>\n",
       "  </tbody>\n",
       "</table>\n",
       "<p>4000 rows × 1 columns</p>\n",
       "</div>"
      ],
      "text/plain": [
       "      subject\n",
       "0           0\n",
       "1           0\n",
       "2           0\n",
       "3           0\n",
       "4           0\n",
       "...       ...\n",
       "3995        9\n",
       "3996        9\n",
       "3997        9\n",
       "3998        9\n",
       "3999        9\n",
       "\n",
       "[4000 rows x 1 columns]"
      ]
     },
     "execution_count": 30,
     "metadata": {},
     "output_type": "execute_result"
    }
   ],
   "source": [
    "le = preprocessing.LabelEncoder()\n",
    "Y = y.apply(le.fit_transform)\n",
    "Y"
   ]
  },
  {
   "cell_type": "code",
   "execution_count": 31,
   "metadata": {},
   "outputs": [
    {
     "name": "stderr",
     "output_type": "stream",
     "text": [
      "C:\\Users\\Karthika\\Anaconda2\\envs\\jupyter36\\lib\\site-packages\\sklearn\\preprocessing\\_encoders.py:368: FutureWarning: The handling of integer data will change in version 0.22. Currently, the categories are determined based on the range [0, max(values)], while in the future they will be determined based on the unique values.\n",
      "If you want the future behaviour and silence this warning, you can specify \"categories='auto'\".\n",
      "In case you used a LabelEncoder before this OneHotEncoder to convert the categories to integers, then you can now use the OneHotEncoder directly.\n",
      "  warnings.warn(msg, FutureWarning)\n"
     ]
    },
    {
     "data": {
      "text/plain": [
       "(4000, 10)"
      ]
     },
     "execution_count": 31,
     "metadata": {},
     "output_type": "execute_result"
    }
   ],
   "source": [
    "enc = preprocessing.OneHotEncoder()\n",
    "enc.fit(Y)\n",
    "onehotlabels = enc.transform(Y).toarray()\n",
    "onehotlabels.shape"
   ]
  },
  {
   "cell_type": "code",
   "execution_count": 84,
   "metadata": {},
   "outputs": [
    {
     "data": {
      "text/plain": [
       "numpy.ndarray"
      ]
     },
     "execution_count": 84,
     "metadata": {},
     "output_type": "execute_result"
    }
   ],
   "source": [
    "type(onehotlabels)"
   ]
  },
  {
   "cell_type": "code",
   "execution_count": 85,
   "metadata": {},
   "outputs": [
    {
     "data": {
      "text/html": [
       "<div>\n",
       "<style scoped>\n",
       "    .dataframe tbody tr th:only-of-type {\n",
       "        vertical-align: middle;\n",
       "    }\n",
       "\n",
       "    .dataframe tbody tr th {\n",
       "        vertical-align: top;\n",
       "    }\n",
       "\n",
       "    .dataframe thead th {\n",
       "        text-align: right;\n",
       "    }\n",
       "</style>\n",
       "<table border=\"1\" class=\"dataframe\">\n",
       "  <thead>\n",
       "    <tr style=\"text-align: right;\">\n",
       "      <th></th>\n",
       "      <th>0</th>\n",
       "      <th>1</th>\n",
       "      <th>2</th>\n",
       "      <th>3</th>\n",
       "      <th>4</th>\n",
       "      <th>5</th>\n",
       "      <th>6</th>\n",
       "      <th>7</th>\n",
       "      <th>8</th>\n",
       "      <th>9</th>\n",
       "    </tr>\n",
       "  </thead>\n",
       "  <tbody>\n",
       "    <tr>\n",
       "      <td>0</td>\n",
       "      <td>1.0</td>\n",
       "      <td>0.0</td>\n",
       "      <td>0.0</td>\n",
       "      <td>0.0</td>\n",
       "      <td>0.0</td>\n",
       "      <td>0.0</td>\n",
       "      <td>0.0</td>\n",
       "      <td>0.0</td>\n",
       "      <td>0.0</td>\n",
       "      <td>0.0</td>\n",
       "    </tr>\n",
       "    <tr>\n",
       "      <td>1</td>\n",
       "      <td>1.0</td>\n",
       "      <td>0.0</td>\n",
       "      <td>0.0</td>\n",
       "      <td>0.0</td>\n",
       "      <td>0.0</td>\n",
       "      <td>0.0</td>\n",
       "      <td>0.0</td>\n",
       "      <td>0.0</td>\n",
       "      <td>0.0</td>\n",
       "      <td>0.0</td>\n",
       "    </tr>\n",
       "    <tr>\n",
       "      <td>2</td>\n",
       "      <td>1.0</td>\n",
       "      <td>0.0</td>\n",
       "      <td>0.0</td>\n",
       "      <td>0.0</td>\n",
       "      <td>0.0</td>\n",
       "      <td>0.0</td>\n",
       "      <td>0.0</td>\n",
       "      <td>0.0</td>\n",
       "      <td>0.0</td>\n",
       "      <td>0.0</td>\n",
       "    </tr>\n",
       "    <tr>\n",
       "      <td>3</td>\n",
       "      <td>1.0</td>\n",
       "      <td>0.0</td>\n",
       "      <td>0.0</td>\n",
       "      <td>0.0</td>\n",
       "      <td>0.0</td>\n",
       "      <td>0.0</td>\n",
       "      <td>0.0</td>\n",
       "      <td>0.0</td>\n",
       "      <td>0.0</td>\n",
       "      <td>0.0</td>\n",
       "    </tr>\n",
       "    <tr>\n",
       "      <td>4</td>\n",
       "      <td>1.0</td>\n",
       "      <td>0.0</td>\n",
       "      <td>0.0</td>\n",
       "      <td>0.0</td>\n",
       "      <td>0.0</td>\n",
       "      <td>0.0</td>\n",
       "      <td>0.0</td>\n",
       "      <td>0.0</td>\n",
       "      <td>0.0</td>\n",
       "      <td>0.0</td>\n",
       "    </tr>\n",
       "    <tr>\n",
       "      <td>...</td>\n",
       "      <td>...</td>\n",
       "      <td>...</td>\n",
       "      <td>...</td>\n",
       "      <td>...</td>\n",
       "      <td>...</td>\n",
       "      <td>...</td>\n",
       "      <td>...</td>\n",
       "      <td>...</td>\n",
       "      <td>...</td>\n",
       "      <td>...</td>\n",
       "    </tr>\n",
       "    <tr>\n",
       "      <td>3995</td>\n",
       "      <td>0.0</td>\n",
       "      <td>0.0</td>\n",
       "      <td>0.0</td>\n",
       "      <td>0.0</td>\n",
       "      <td>0.0</td>\n",
       "      <td>0.0</td>\n",
       "      <td>0.0</td>\n",
       "      <td>0.0</td>\n",
       "      <td>0.0</td>\n",
       "      <td>1.0</td>\n",
       "    </tr>\n",
       "    <tr>\n",
       "      <td>3996</td>\n",
       "      <td>0.0</td>\n",
       "      <td>0.0</td>\n",
       "      <td>0.0</td>\n",
       "      <td>0.0</td>\n",
       "      <td>0.0</td>\n",
       "      <td>0.0</td>\n",
       "      <td>0.0</td>\n",
       "      <td>0.0</td>\n",
       "      <td>0.0</td>\n",
       "      <td>1.0</td>\n",
       "    </tr>\n",
       "    <tr>\n",
       "      <td>3997</td>\n",
       "      <td>0.0</td>\n",
       "      <td>0.0</td>\n",
       "      <td>0.0</td>\n",
       "      <td>0.0</td>\n",
       "      <td>0.0</td>\n",
       "      <td>0.0</td>\n",
       "      <td>0.0</td>\n",
       "      <td>0.0</td>\n",
       "      <td>0.0</td>\n",
       "      <td>1.0</td>\n",
       "    </tr>\n",
       "    <tr>\n",
       "      <td>3998</td>\n",
       "      <td>0.0</td>\n",
       "      <td>0.0</td>\n",
       "      <td>0.0</td>\n",
       "      <td>0.0</td>\n",
       "      <td>0.0</td>\n",
       "      <td>0.0</td>\n",
       "      <td>0.0</td>\n",
       "      <td>0.0</td>\n",
       "      <td>0.0</td>\n",
       "      <td>1.0</td>\n",
       "    </tr>\n",
       "    <tr>\n",
       "      <td>3999</td>\n",
       "      <td>0.0</td>\n",
       "      <td>0.0</td>\n",
       "      <td>0.0</td>\n",
       "      <td>0.0</td>\n",
       "      <td>0.0</td>\n",
       "      <td>0.0</td>\n",
       "      <td>0.0</td>\n",
       "      <td>0.0</td>\n",
       "      <td>0.0</td>\n",
       "      <td>1.0</td>\n",
       "    </tr>\n",
       "  </tbody>\n",
       "</table>\n",
       "<p>4000 rows × 10 columns</p>\n",
       "</div>"
      ],
      "text/plain": [
       "        0    1    2    3    4    5    6    7    8    9\n",
       "0     1.0  0.0  0.0  0.0  0.0  0.0  0.0  0.0  0.0  0.0\n",
       "1     1.0  0.0  0.0  0.0  0.0  0.0  0.0  0.0  0.0  0.0\n",
       "2     1.0  0.0  0.0  0.0  0.0  0.0  0.0  0.0  0.0  0.0\n",
       "3     1.0  0.0  0.0  0.0  0.0  0.0  0.0  0.0  0.0  0.0\n",
       "4     1.0  0.0  0.0  0.0  0.0  0.0  0.0  0.0  0.0  0.0\n",
       "...   ...  ...  ...  ...  ...  ...  ...  ...  ...  ...\n",
       "3995  0.0  0.0  0.0  0.0  0.0  0.0  0.0  0.0  0.0  1.0\n",
       "3996  0.0  0.0  0.0  0.0  0.0  0.0  0.0  0.0  0.0  1.0\n",
       "3997  0.0  0.0  0.0  0.0  0.0  0.0  0.0  0.0  0.0  1.0\n",
       "3998  0.0  0.0  0.0  0.0  0.0  0.0  0.0  0.0  0.0  1.0\n",
       "3999  0.0  0.0  0.0  0.0  0.0  0.0  0.0  0.0  0.0  1.0\n",
       "\n",
       "[4000 rows x 10 columns]"
      ]
     },
     "execution_count": 85,
     "metadata": {},
     "output_type": "execute_result"
    }
   ],
   "source": [
    "onehotlabels = pd.DataFrame(onehotlabels)\n",
    "onehotlabels"
   ]
  },
  {
   "cell_type": "code",
   "execution_count": 86,
   "metadata": {
    "scrolled": true
   },
   "outputs": [
    {
     "data": {
      "text/plain": [
       "(4000, 31)"
      ]
     },
     "execution_count": 86,
     "metadata": {},
     "output_type": "execute_result"
    }
   ],
   "source": [
    "x.shape"
   ]
  },
  {
   "cell_type": "code",
   "execution_count": 87,
   "metadata": {},
   "outputs": [
    {
     "data": {
      "text/plain": [
       "(4000, 10)"
      ]
     },
     "execution_count": 87,
     "metadata": {},
     "output_type": "execute_result"
    }
   ],
   "source": [
    "onehotlabels.shape"
   ]
  },
  {
   "cell_type": "code",
   "execution_count": 88,
   "metadata": {},
   "outputs": [],
   "source": [
    "X_train, X_test, y_train, y_test = train_test_split(x, onehotlabels, test_size=0.3, random_state=0, stratify=onehotlabels)"
   ]
  },
  {
   "cell_type": "code",
   "execution_count": 90,
   "metadata": {},
   "outputs": [
    {
     "name": "stdout",
     "output_type": "stream",
     "text": [
      "(2800, 31)\n",
      "(2800, 10)\n",
      "(1200, 31)\n",
      "(1200, 10)\n"
     ]
    }
   ],
   "source": [
    "print(X_train.shape)\n",
    "print(y_train.shape)\n",
    "print(X_test.shape)\n",
    "print(y_test.shape)"
   ]
  },
  {
   "cell_type": "code",
   "execution_count": 91,
   "metadata": {},
   "outputs": [
    {
     "name": "stdout",
     "output_type": "stream",
     "text": [
      "_________________________________________________________________\n",
      "Layer (type)                 Output Shape              Param #   \n",
      "=================================================================\n",
      "dense_19 (Dense)             (None, 25)                800       \n",
      "_________________________________________________________________\n",
      "dense_20 (Dense)             (None, 25)                650       \n",
      "_________________________________________________________________\n",
      "dense_21 (Dense)             (None, 10)                260       \n",
      "=================================================================\n",
      "Total params: 1,710\n",
      "Trainable params: 1,710\n",
      "Non-trainable params: 0\n",
      "_________________________________________________________________\n"
     ]
    }
   ],
   "source": [
    "from keras.models import Sequential\n",
    "from keras.layers.core import Dense, Activation\n",
    "\n",
    "network = Sequential()\n",
    "network.add(Dense(25,input_dim=31,activation='relu'))\n",
    "network.add(Dense(25,activation='relu'))\n",
    "network.add(Dense(10, activation = 'softmax'))\n",
    "network.summary()"
   ]
  },
  {
   "cell_type": "code",
   "execution_count": 92,
   "metadata": {},
   "outputs": [
    {
     "name": "stdout",
     "output_type": "stream",
     "text": [
      "Train on 2240 samples, validate on 560 samples\n",
      "Epoch 1/100\n",
      "2240/2240 [==============================] - 2s 809us/step - loss: 0.0892 - acc: 0.1879 - val_loss: 0.0880 - val_acc: 0.2161\n",
      "Epoch 2/100\n",
      "2240/2240 [==============================] - 1s 320us/step - loss: 0.0852 - acc: 0.2571 - val_loss: 0.0811 - val_acc: 0.3500\n",
      "Epoch 3/100\n",
      "2240/2240 [==============================] - 1s 351us/step - loss: 0.0775 - acc: 0.3522 - val_loss: 0.0729 - val_acc: 0.3964\n",
      "Epoch 4/100\n",
      "2240/2240 [==============================] - 1s 321us/step - loss: 0.0698 - acc: 0.4254 - val_loss: 0.0654 - val_acc: 0.4750\n",
      "Epoch 5/100\n",
      "2240/2240 [==============================] - 1s 411us/step - loss: 0.0627 - acc: 0.5438 - val_loss: 0.0589 - val_acc: 0.6143\n",
      "Epoch 6/100\n",
      "2240/2240 [==============================] - 1s 331us/step - loss: 0.0560 - acc: 0.6317 - val_loss: 0.0529 - val_acc: 0.7036\n",
      "Epoch 7/100\n",
      "2240/2240 [==============================] - 1s 319us/step - loss: 0.0499 - acc: 0.6853 - val_loss: 0.0468 - val_acc: 0.7143\n",
      "Epoch 8/100\n",
      "2240/2240 [==============================] - 1s 362us/step - loss: 0.0446 - acc: 0.7433 - val_loss: 0.0418 - val_acc: 0.7750\n",
      "Epoch 9/100\n",
      "2240/2240 [==============================] - 1s 335us/step - loss: 0.0408 - acc: 0.7670 - val_loss: 0.0389 - val_acc: 0.8000\n",
      "Epoch 10/100\n",
      "2240/2240 [==============================] - 1s 338us/step - loss: 0.0376 - acc: 0.7871 - val_loss: 0.0359 - val_acc: 0.8107\n",
      "Epoch 11/100\n",
      "2240/2240 [==============================] - 1s 319us/step - loss: 0.0351 - acc: 0.7991 - val_loss: 0.0343 - val_acc: 0.8107\n",
      "Epoch 12/100\n",
      "2240/2240 [==============================] - 1s 321us/step - loss: 0.0330 - acc: 0.8129 - val_loss: 0.0316 - val_acc: 0.8286\n",
      "Epoch 13/100\n",
      "2240/2240 [==============================] - 1s 371us/step - loss: 0.0313 - acc: 0.8196 - val_loss: 0.0310 - val_acc: 0.8089\n",
      "Epoch 14/100\n",
      "2240/2240 [==============================] - 1s 357us/step - loss: 0.0299 - acc: 0.8259 - val_loss: 0.0285 - val_acc: 0.8429\n",
      "Epoch 15/100\n",
      "2240/2240 [==============================] - 1s 331us/step - loss: 0.0282 - acc: 0.8420 - val_loss: 0.0283 - val_acc: 0.8286\n",
      "Epoch 16/100\n",
      "2240/2240 [==============================] - 1s 325us/step - loss: 0.0275 - acc: 0.8451 - val_loss: 0.0269 - val_acc: 0.8536\n",
      "Epoch 17/100\n",
      "2240/2240 [==============================] - 1s 339us/step - loss: 0.0267 - acc: 0.8473 - val_loss: 0.0258 - val_acc: 0.8536\n",
      "Epoch 18/100\n",
      "2240/2240 [==============================] - 1s 355us/step - loss: 0.0257 - acc: 0.8487 - val_loss: 0.0252 - val_acc: 0.8589\n",
      "Epoch 19/100\n",
      "2240/2240 [==============================] - 1s 369us/step - loss: 0.0251 - acc: 0.8562 - val_loss: 0.0249 - val_acc: 0.8500\n",
      "Epoch 20/100\n",
      "2240/2240 [==============================] - 1s 336us/step - loss: 0.0243 - acc: 0.8580 - val_loss: 0.0241 - val_acc: 0.8571\n",
      "Epoch 21/100\n",
      "2240/2240 [==============================] - 1s 358us/step - loss: 0.0237 - acc: 0.8607 - val_loss: 0.0244 - val_acc: 0.8536\n",
      "Epoch 22/100\n",
      "2240/2240 [==============================] - 1s 361us/step - loss: 0.0231 - acc: 0.8634 - val_loss: 0.0232 - val_acc: 0.8607\n",
      "Epoch 23/100\n",
      "2240/2240 [==============================] - 1s 353us/step - loss: 0.0227 - acc: 0.8643 - val_loss: 0.0227 - val_acc: 0.8643\n",
      "Epoch 24/100\n",
      "2240/2240 [==============================] - 1s 353us/step - loss: 0.0224 - acc: 0.8679 - val_loss: 0.0230 - val_acc: 0.8589\n",
      "Epoch 25/100\n",
      "2240/2240 [==============================] - 1s 347us/step - loss: 0.0218 - acc: 0.8661 - val_loss: 0.0220 - val_acc: 0.8625\n",
      "Epoch 26/100\n",
      "2240/2240 [==============================] - 1s 318us/step - loss: 0.0213 - acc: 0.8714 - val_loss: 0.0215 - val_acc: 0.8732\n",
      "Epoch 27/100\n",
      "2240/2240 [==============================] - 1s 352us/step - loss: 0.0212 - acc: 0.8737 - val_loss: 0.0220 - val_acc: 0.8714\n",
      "Epoch 28/100\n",
      "2240/2240 [==============================] - 1s 348us/step - loss: 0.0207 - acc: 0.8777 - val_loss: 0.0214 - val_acc: 0.8732\n",
      "Epoch 29/100\n",
      "2240/2240 [==============================] - 1s 337us/step - loss: 0.0204 - acc: 0.8759 - val_loss: 0.0210 - val_acc: 0.8786\n",
      "Epoch 30/100\n",
      "2240/2240 [==============================] - 1s 343us/step - loss: 0.0202 - acc: 0.8768 - val_loss: 0.0205 - val_acc: 0.8786\n",
      "Epoch 31/100\n",
      "2240/2240 [==============================] - 1s 333us/step - loss: 0.0200 - acc: 0.8759 - val_loss: 0.0204 - val_acc: 0.8786\n",
      "Epoch 32/100\n",
      "2240/2240 [==============================] - 1s 375us/step - loss: 0.0195 - acc: 0.8839 - val_loss: 0.0209 - val_acc: 0.8768\n",
      "Epoch 33/100\n",
      "2240/2240 [==============================] - 1s 333us/step - loss: 0.0194 - acc: 0.8812 - val_loss: 0.0208 - val_acc: 0.8804\n",
      "Epoch 34/100\n",
      "2240/2240 [==============================] - 1s 349us/step - loss: 0.0193 - acc: 0.8817 - val_loss: 0.0196 - val_acc: 0.8821\n",
      "Epoch 35/100\n",
      "2240/2240 [==============================] - 1s 360us/step - loss: 0.0191 - acc: 0.8830 - val_loss: 0.0194 - val_acc: 0.8839\n",
      "Epoch 36/100\n",
      "2240/2240 [==============================] - 1s 355us/step - loss: 0.0189 - acc: 0.8857 - val_loss: 0.0197 - val_acc: 0.8875\n",
      "Epoch 37/100\n",
      "2240/2240 [==============================] - 1s 352us/step - loss: 0.0186 - acc: 0.8871 - val_loss: 0.0196 - val_acc: 0.8839\n",
      "Epoch 38/100\n",
      "2240/2240 [==============================] - 1s 306us/step - loss: 0.0182 - acc: 0.8888 - val_loss: 0.0191 - val_acc: 0.8857\n",
      "Epoch 39/100\n",
      "2240/2240 [==============================] - 1s 338us/step - loss: 0.0181 - acc: 0.8897 - val_loss: 0.0196 - val_acc: 0.8786\n",
      "Epoch 40/100\n",
      "2240/2240 [==============================] - 1s 359us/step - loss: 0.0180 - acc: 0.8893 - val_loss: 0.0187 - val_acc: 0.8929\n",
      "Epoch 41/100\n",
      "2240/2240 [==============================] - 1s 367us/step - loss: 0.0178 - acc: 0.8884 - val_loss: 0.0184 - val_acc: 0.8946\n",
      "Epoch 42/100\n",
      "2240/2240 [==============================] - 1s 347us/step - loss: 0.0177 - acc: 0.8929 - val_loss: 0.0184 - val_acc: 0.8911\n",
      "Epoch 43/100\n",
      "2240/2240 [==============================] - 1s 371us/step - loss: 0.0174 - acc: 0.8960 - val_loss: 0.0185 - val_acc: 0.8911\n",
      "Epoch 44/100\n",
      "2240/2240 [==============================] - 1s 355us/step - loss: 0.0173 - acc: 0.8937 - val_loss: 0.0186 - val_acc: 0.8875\n",
      "Epoch 45/100\n",
      "2240/2240 [==============================] - 1s 366us/step - loss: 0.0174 - acc: 0.8893 - val_loss: 0.0186 - val_acc: 0.8857\n",
      "Epoch 46/100\n",
      "2240/2240 [==============================] - 1s 382us/step - loss: 0.0170 - acc: 0.8987 - val_loss: 0.0182 - val_acc: 0.8857\n",
      "Epoch 47/100\n",
      "2240/2240 [==============================] - 1s 384us/step - loss: 0.0171 - acc: 0.8946 - val_loss: 0.0188 - val_acc: 0.8857\n",
      "Epoch 48/100\n",
      "2240/2240 [==============================] - 1s 352us/step - loss: 0.0166 - acc: 0.8996 - val_loss: 0.0179 - val_acc: 0.8964\n",
      "Epoch 49/100\n",
      "2240/2240 [==============================] - 1s 395us/step - loss: 0.0166 - acc: 0.9018 - val_loss: 0.0176 - val_acc: 0.8964\n",
      "Epoch 50/100\n",
      "2240/2240 [==============================] - 1s 380us/step - loss: 0.0165 - acc: 0.9013 - val_loss: 0.0181 - val_acc: 0.8929\n",
      "Epoch 51/100\n",
      "2240/2240 [==============================] - 1s 384us/step - loss: 0.0161 - acc: 0.9018 - val_loss: 0.0185 - val_acc: 0.8804\n",
      "Epoch 52/100\n",
      "2240/2240 [==============================] - 1s 376us/step - loss: 0.0160 - acc: 0.9000 - val_loss: 0.0171 - val_acc: 0.8929\n",
      "Epoch 53/100\n",
      "2240/2240 [==============================] - 1s 323us/step - loss: 0.0160 - acc: 0.9031 - val_loss: 0.0172 - val_acc: 0.8946\n",
      "Epoch 54/100\n",
      "2240/2240 [==============================] - 1s 355us/step - loss: 0.0157 - acc: 0.9045 - val_loss: 0.0172 - val_acc: 0.8946\n",
      "Epoch 55/100\n",
      "2240/2240 [==============================] - 1s 332us/step - loss: 0.0157 - acc: 0.9054 - val_loss: 0.0170 - val_acc: 0.8964\n",
      "Epoch 56/100\n",
      "2240/2240 [==============================] - 1s 364us/step - loss: 0.0155 - acc: 0.9085 - val_loss: 0.0166 - val_acc: 0.9036\n",
      "Epoch 57/100\n",
      "2240/2240 [==============================] - 1s 424us/step - loss: 0.0155 - acc: 0.9058 - val_loss: 0.0169 - val_acc: 0.9054\n",
      "Epoch 58/100\n",
      "2240/2240 [==============================] - 1s 339us/step - loss: 0.0156 - acc: 0.9071 - val_loss: 0.0170 - val_acc: 0.8964\n",
      "Epoch 59/100\n",
      "2240/2240 [==============================] - 1s 322us/step - loss: 0.0155 - acc: 0.9094 - val_loss: 0.0168 - val_acc: 0.8964\n",
      "Epoch 60/100\n"
     ]
    },
    {
     "name": "stdout",
     "output_type": "stream",
     "text": [
      "2240/2240 [==============================] - 1s 377us/step - loss: 0.0154 - acc: 0.9085 - val_loss: 0.0174 - val_acc: 0.8929\n",
      "Epoch 61/100\n",
      "2240/2240 [==============================] - 1s 359us/step - loss: 0.0150 - acc: 0.9112 - val_loss: 0.0166 - val_acc: 0.8946\n",
      "Epoch 62/100\n",
      "2240/2240 [==============================] - 1s 360us/step - loss: 0.0150 - acc: 0.9071 - val_loss: 0.0166 - val_acc: 0.9000\n",
      "Epoch 63/100\n",
      "2240/2240 [==============================] - 1s 363us/step - loss: 0.0149 - acc: 0.9112 - val_loss: 0.0161 - val_acc: 0.9071\n",
      "Epoch 64/100\n",
      "2240/2240 [==============================] - 1s 361us/step - loss: 0.0146 - acc: 0.9165 - val_loss: 0.0163 - val_acc: 0.9000\n",
      "Epoch 65/100\n",
      "2240/2240 [==============================] - 1s 354us/step - loss: 0.0148 - acc: 0.9071 - val_loss: 0.0165 - val_acc: 0.8982\n",
      "Epoch 66/100\n",
      "2240/2240 [==============================] - 1s 360us/step - loss: 0.0147 - acc: 0.9107 - val_loss: 0.0172 - val_acc: 0.9036\n",
      "Epoch 67/100\n",
      "2240/2240 [==============================] - 1s 355us/step - loss: 0.0148 - acc: 0.9094 - val_loss: 0.0162 - val_acc: 0.9000\n",
      "Epoch 68/100\n",
      "2240/2240 [==============================] - 1s 374us/step - loss: 0.0143 - acc: 0.9129 - val_loss: 0.0166 - val_acc: 0.9000\n",
      "Epoch 69/100\n",
      "2240/2240 [==============================] - 1s 366us/step - loss: 0.0144 - acc: 0.9174 - val_loss: 0.0160 - val_acc: 0.9036\n",
      "Epoch 70/100\n",
      "2240/2240 [==============================] - 1s 358us/step - loss: 0.0144 - acc: 0.9152 - val_loss: 0.0159 - val_acc: 0.9054\n",
      "Epoch 71/100\n",
      "2240/2240 [==============================] - 1s 364us/step - loss: 0.0142 - acc: 0.9134 - val_loss: 0.0160 - val_acc: 0.9054\n",
      "Epoch 72/100\n",
      "2240/2240 [==============================] - 1s 340us/step - loss: 0.0143 - acc: 0.9125 - val_loss: 0.0155 - val_acc: 0.9054\n",
      "Epoch 73/100\n",
      "2240/2240 [==============================] - 1s 361us/step - loss: 0.0142 - acc: 0.9138 - val_loss: 0.0155 - val_acc: 0.9125\n",
      "Epoch 74/100\n",
      "2240/2240 [==============================] - 1s 354us/step - loss: 0.0141 - acc: 0.9161 - val_loss: 0.0157 - val_acc: 0.9071\n",
      "Epoch 75/100\n",
      "2240/2240 [==============================] - 1s 375us/step - loss: 0.0139 - acc: 0.9179 - val_loss: 0.0154 - val_acc: 0.9071\n",
      "Epoch 76/100\n",
      "2240/2240 [==============================] - 1s 370us/step - loss: 0.0139 - acc: 0.9183 - val_loss: 0.0173 - val_acc: 0.8804\n",
      "Epoch 77/100\n",
      "2240/2240 [==============================] - 1s 365us/step - loss: 0.0137 - acc: 0.9170 - val_loss: 0.0167 - val_acc: 0.9000\n",
      "Epoch 78/100\n",
      "2240/2240 [==============================] - 1s 346us/step - loss: 0.0140 - acc: 0.9187 - val_loss: 0.0155 - val_acc: 0.9054\n",
      "Epoch 79/100\n",
      "2240/2240 [==============================] - 1s 335us/step - loss: 0.0137 - acc: 0.9174 - val_loss: 0.0153 - val_acc: 0.9071\n",
      "Epoch 80/100\n",
      "2240/2240 [==============================] - 1s 375us/step - loss: 0.0137 - acc: 0.9156 - val_loss: 0.0161 - val_acc: 0.8964\n",
      "Epoch 81/100\n",
      "2240/2240 [==============================] - 1s 346us/step - loss: 0.0138 - acc: 0.9165 - val_loss: 0.0151 - val_acc: 0.9071\n",
      "Epoch 82/100\n",
      "2240/2240 [==============================] - 1s 323us/step - loss: 0.0135 - acc: 0.9196 - val_loss: 0.0152 - val_acc: 0.9071\n",
      "Epoch 83/100\n",
      "2240/2240 [==============================] - 1s 366us/step - loss: 0.0135 - acc: 0.9179 - val_loss: 0.0165 - val_acc: 0.8964\n",
      "Epoch 84/100\n",
      "2240/2240 [==============================] - 1s 345us/step - loss: 0.0135 - acc: 0.9183 - val_loss: 0.0152 - val_acc: 0.9089\n",
      "Epoch 85/100\n",
      "2240/2240 [==============================] - 1s 364us/step - loss: 0.0135 - acc: 0.9170 - val_loss: 0.0152 - val_acc: 0.9018\n",
      "Epoch 86/100\n",
      "2240/2240 [==============================] - 1s 371us/step - loss: 0.0133 - acc: 0.9201 - val_loss: 0.0159 - val_acc: 0.9000\n",
      "Epoch 87/100\n",
      "2240/2240 [==============================] - 1s 357us/step - loss: 0.0132 - acc: 0.9232 - val_loss: 0.0152 - val_acc: 0.9089\n",
      "Epoch 88/100\n",
      "2240/2240 [==============================] - 1s 330us/step - loss: 0.0132 - acc: 0.9214 - val_loss: 0.0151 - val_acc: 0.9071\n",
      "Epoch 89/100\n",
      "2240/2240 [==============================] - 1s 357us/step - loss: 0.0132 - acc: 0.9187 - val_loss: 0.0150 - val_acc: 0.9054\n",
      "Epoch 90/100\n",
      "2240/2240 [==============================] - 1s 330us/step - loss: 0.0130 - acc: 0.9214 - val_loss: 0.0157 - val_acc: 0.9054\n",
      "Epoch 91/100\n",
      "2240/2240 [==============================] - 1s 366us/step - loss: 0.0130 - acc: 0.9241 - val_loss: 0.0149 - val_acc: 0.9089\n",
      "Epoch 92/100\n",
      "2240/2240 [==============================] - 1s 333us/step - loss: 0.0130 - acc: 0.9223 - val_loss: 0.0151 - val_acc: 0.9054\n",
      "Epoch 93/100\n",
      "2240/2240 [==============================] - 1s 338us/step - loss: 0.0129 - acc: 0.9214 - val_loss: 0.0149 - val_acc: 0.9107\n",
      "Epoch 94/100\n",
      "2240/2240 [==============================] - 1s 366us/step - loss: 0.0128 - acc: 0.9228 - val_loss: 0.0149 - val_acc: 0.9089\n",
      "Epoch 95/100\n",
      "2240/2240 [==============================] - 1s 355us/step - loss: 0.0128 - acc: 0.9250 - val_loss: 0.0155 - val_acc: 0.8982\n",
      "Epoch 96/100\n",
      "2240/2240 [==============================] - 1s 344us/step - loss: 0.0129 - acc: 0.9259 - val_loss: 0.0151 - val_acc: 0.9054\n",
      "Epoch 97/100\n",
      "2240/2240 [==============================] - 1s 362us/step - loss: 0.0126 - acc: 0.9228 - val_loss: 0.0155 - val_acc: 0.9071\n",
      "Epoch 98/100\n",
      "2240/2240 [==============================] - 1s 327us/step - loss: 0.0128 - acc: 0.9250 - val_loss: 0.0155 - val_acc: 0.8982\n",
      "Epoch 99/100\n",
      "2240/2240 [==============================] - 1s 343us/step - loss: 0.0128 - acc: 0.9237 - val_loss: 0.0150 - val_acc: 0.9071\n",
      "Epoch 100/100\n",
      "2240/2240 [==============================] - 1s 357us/step - loss: 0.0126 - acc: 0.9263 - val_loss: 0.0152 - val_acc: 0.9036\n"
     ]
    },
    {
     "data": {
      "text/plain": [
       "<keras.callbacks.History at 0x1ff78f597f0>"
      ]
     },
     "execution_count": 92,
     "metadata": {},
     "output_type": "execute_result"
    }
   ],
   "source": [
    "network.compile(loss='mean_squared_error',optimizer='adam', metrics = ['accuracy'])\n",
    "network.fit(X_train,y_train,epochs=100,batch_size=20,validation_split=0.2)"
   ]
  },
  {
   "cell_type": "code",
   "execution_count": 94,
   "metadata": {},
   "outputs": [
    {
     "name": "stdout",
     "output_type": "stream",
     "text": [
      "Test accuracy: 0.8816666666666667\n"
     ]
    }
   ],
   "source": [
    "test_scores = network.evaluate(X_test, y_test, verbose = 0)\n",
    "print('Test accuracy:', test_scores[1])"
   ]
  },
  {
   "cell_type": "code",
   "execution_count": 139,
   "metadata": {
    "scrolled": true
   },
   "outputs": [
    {
     "ename": "ValueError",
     "evalue": "Error when checking input: expected dense_19_input to have shape (31,) but got array with shape (1,)",
     "output_type": "error",
     "traceback": [
      "\u001b[1;31m---------------------------------------------------------------------------\u001b[0m",
      "\u001b[1;31mValueError\u001b[0m                                Traceback (most recent call last)",
      "\u001b[1;32m<ipython-input-139-0118ec1b7da9>\u001b[0m in \u001b[0;36m<module>\u001b[1;34m\u001b[0m\n\u001b[1;32m----> 1\u001b[1;33m \u001b[0my_pred\u001b[0m \u001b[1;33m=\u001b[0m \u001b[0mnetwork\u001b[0m\u001b[1;33m.\u001b[0m\u001b[0mpredict\u001b[0m\u001b[1;33m(\u001b[0m\u001b[0mnp\u001b[0m\u001b[1;33m.\u001b[0m\u001b[0marray\u001b[0m\u001b[1;33m(\u001b[0m\u001b[0mX_test\u001b[0m\u001b[1;33m.\u001b[0m\u001b[0mloc\u001b[0m\u001b[1;33m[\u001b[0m\u001b[1;36m3\u001b[0m\u001b[1;33m]\u001b[0m\u001b[1;33m)\u001b[0m\u001b[1;33m.\u001b[0m\u001b[0mT\u001b[0m\u001b[1;33m)\u001b[0m\u001b[1;33m\u001b[0m\u001b[1;33m\u001b[0m\u001b[0m\n\u001b[0m",
      "\u001b[1;32m~\\Anaconda2\\envs\\jupyter36\\lib\\site-packages\\keras\\engine\\training.py\u001b[0m in \u001b[0;36mpredict\u001b[1;34m(self, x, batch_size, verbose, steps)\u001b[0m\n\u001b[0;32m   1147\u001b[0m                              'argument.')\n\u001b[0;32m   1148\u001b[0m         \u001b[1;31m# Validate user data.\u001b[0m\u001b[1;33m\u001b[0m\u001b[1;33m\u001b[0m\u001b[1;33m\u001b[0m\u001b[0m\n\u001b[1;32m-> 1149\u001b[1;33m         \u001b[0mx\u001b[0m\u001b[1;33m,\u001b[0m \u001b[0m_\u001b[0m\u001b[1;33m,\u001b[0m \u001b[0m_\u001b[0m \u001b[1;33m=\u001b[0m \u001b[0mself\u001b[0m\u001b[1;33m.\u001b[0m\u001b[0m_standardize_user_data\u001b[0m\u001b[1;33m(\u001b[0m\u001b[0mx\u001b[0m\u001b[1;33m)\u001b[0m\u001b[1;33m\u001b[0m\u001b[1;33m\u001b[0m\u001b[0m\n\u001b[0m\u001b[0;32m   1150\u001b[0m         \u001b[1;32mif\u001b[0m \u001b[0mself\u001b[0m\u001b[1;33m.\u001b[0m\u001b[0mstateful\u001b[0m\u001b[1;33m:\u001b[0m\u001b[1;33m\u001b[0m\u001b[1;33m\u001b[0m\u001b[0m\n\u001b[0;32m   1151\u001b[0m             \u001b[1;32mif\u001b[0m \u001b[0mx\u001b[0m\u001b[1;33m[\u001b[0m\u001b[1;36m0\u001b[0m\u001b[1;33m]\u001b[0m\u001b[1;33m.\u001b[0m\u001b[0mshape\u001b[0m\u001b[1;33m[\u001b[0m\u001b[1;36m0\u001b[0m\u001b[1;33m]\u001b[0m \u001b[1;33m>\u001b[0m \u001b[0mbatch_size\u001b[0m \u001b[1;32mand\u001b[0m \u001b[0mx\u001b[0m\u001b[1;33m[\u001b[0m\u001b[1;36m0\u001b[0m\u001b[1;33m]\u001b[0m\u001b[1;33m.\u001b[0m\u001b[0mshape\u001b[0m\u001b[1;33m[\u001b[0m\u001b[1;36m0\u001b[0m\u001b[1;33m]\u001b[0m \u001b[1;33m%\u001b[0m \u001b[0mbatch_size\u001b[0m \u001b[1;33m!=\u001b[0m \u001b[1;36m0\u001b[0m\u001b[1;33m:\u001b[0m\u001b[1;33m\u001b[0m\u001b[1;33m\u001b[0m\u001b[0m\n",
      "\u001b[1;32m~\\Anaconda2\\envs\\jupyter36\\lib\\site-packages\\keras\\engine\\training.py\u001b[0m in \u001b[0;36m_standardize_user_data\u001b[1;34m(self, x, y, sample_weight, class_weight, check_array_lengths, batch_size)\u001b[0m\n\u001b[0;32m    749\u001b[0m             \u001b[0mfeed_input_shapes\u001b[0m\u001b[1;33m,\u001b[0m\u001b[1;33m\u001b[0m\u001b[1;33m\u001b[0m\u001b[0m\n\u001b[0;32m    750\u001b[0m             \u001b[0mcheck_batch_axis\u001b[0m\u001b[1;33m=\u001b[0m\u001b[1;32mFalse\u001b[0m\u001b[1;33m,\u001b[0m  \u001b[1;31m# Don't enforce the batch size.\u001b[0m\u001b[1;33m\u001b[0m\u001b[1;33m\u001b[0m\u001b[0m\n\u001b[1;32m--> 751\u001b[1;33m             exception_prefix='input')\n\u001b[0m\u001b[0;32m    752\u001b[0m \u001b[1;33m\u001b[0m\u001b[0m\n\u001b[0;32m    753\u001b[0m         \u001b[1;32mif\u001b[0m \u001b[0my\u001b[0m \u001b[1;32mis\u001b[0m \u001b[1;32mnot\u001b[0m \u001b[1;32mNone\u001b[0m\u001b[1;33m:\u001b[0m\u001b[1;33m\u001b[0m\u001b[1;33m\u001b[0m\u001b[0m\n",
      "\u001b[1;32m~\\Anaconda2\\envs\\jupyter36\\lib\\site-packages\\keras\\engine\\training_utils.py\u001b[0m in \u001b[0;36mstandardize_input_data\u001b[1;34m(data, names, shapes, check_batch_axis, exception_prefix)\u001b[0m\n\u001b[0;32m    136\u001b[0m                             \u001b[1;34m': expected '\u001b[0m \u001b[1;33m+\u001b[0m \u001b[0mnames\u001b[0m\u001b[1;33m[\u001b[0m\u001b[0mi\u001b[0m\u001b[1;33m]\u001b[0m \u001b[1;33m+\u001b[0m \u001b[1;34m' to have shape '\u001b[0m \u001b[1;33m+\u001b[0m\u001b[1;33m\u001b[0m\u001b[1;33m\u001b[0m\u001b[0m\n\u001b[0;32m    137\u001b[0m                             \u001b[0mstr\u001b[0m\u001b[1;33m(\u001b[0m\u001b[0mshape\u001b[0m\u001b[1;33m)\u001b[0m \u001b[1;33m+\u001b[0m \u001b[1;34m' but got array with shape '\u001b[0m \u001b[1;33m+\u001b[0m\u001b[1;33m\u001b[0m\u001b[1;33m\u001b[0m\u001b[0m\n\u001b[1;32m--> 138\u001b[1;33m                             str(data_shape))\n\u001b[0m\u001b[0;32m    139\u001b[0m     \u001b[1;32mreturn\u001b[0m \u001b[0mdata\u001b[0m\u001b[1;33m\u001b[0m\u001b[1;33m\u001b[0m\u001b[0m\n\u001b[0;32m    140\u001b[0m \u001b[1;33m\u001b[0m\u001b[0m\n",
      "\u001b[1;31mValueError\u001b[0m: Error when checking input: expected dense_19_input to have shape (31,) but got array with shape (1,)"
     ]
    }
   ],
   "source": [
    "y_pred = network.predict(np.array(X_test.loc[3]).T)"
   ]
  },
  {
   "cell_type": "code",
   "execution_count": 116,
   "metadata": {},
   "outputs": [],
   "source": [
    "test = X_test.reset_index()"
   ]
  },
  {
   "cell_type": "code",
   "execution_count": 128,
   "metadata": {},
   "outputs": [
    {
     "data": {
      "text/plain": [
       "index              1234.0000\n",
       "H.period              0.0750\n",
       "DD.period.t           0.2248\n",
       "UD.period.t           0.1498\n",
       "H.t                   0.1267\n",
       "DD.t.i                0.2529\n",
       "UD.t.i                0.1262\n",
       "H.i                   0.0900\n",
       "DD.i.e                0.2196\n",
       "UD.i.e                0.1296\n",
       "H.e                   0.1415\n",
       "DD.e.five             0.2550\n",
       "UD.e.five             0.1135\n",
       "H.five                0.1169\n",
       "DD.five.Shift.r       0.6725\n",
       "UD.five.Shift.r       0.5556\n",
       "H.Shift.r             0.1212\n",
       "DD.Shift.r.o          0.3698\n",
       "UD.Shift.r.o          0.2486\n",
       "H.o                   0.0937\n",
       "DD.o.a                0.1827\n",
       "UD.o.a                0.0890\n",
       "H.a                   0.1233\n",
       "DD.a.n                0.1659\n",
       "UD.a.n                0.0426\n",
       "H.n                   0.0813\n",
       "DD.n.l                0.2388\n",
       "UD.n.l                0.1575\n",
       "H.l                   0.0953\n",
       "DD.l.Return           0.4277\n",
       "UD.l.Return           0.3324\n",
       "H.Return              0.0985\n",
       "Name: 3, dtype: float64"
      ]
     },
     "execution_count": 128,
     "metadata": {},
     "output_type": "execute_result"
    }
   ],
   "source": [
    "test.loc[3]"
   ]
  },
  {
   "cell_type": "code",
   "execution_count": 108,
   "metadata": {},
   "outputs": [
    {
     "data": {
      "text/plain": [
       "H.period           0.0576\n",
       "DD.period.t        0.1921\n",
       "UD.period.t        0.1345\n",
       "H.t                0.0742\n",
       "DD.t.i             0.1436\n",
       "UD.t.i             0.0694\n",
       "H.i                0.0795\n",
       "DD.i.e             0.1260\n",
       "UD.i.e             0.0465\n",
       "H.e                0.0911\n",
       "DD.e.five          0.2618\n",
       "UD.e.five          0.1707\n",
       "H.five             0.0950\n",
       "DD.five.Shift.r    0.3394\n",
       "UD.five.Shift.r    0.2444\n",
       "H.Shift.r          0.0825\n",
       "DD.Shift.r.o       0.0695\n",
       "UD.Shift.r.o      -0.0130\n",
       "H.o                0.1099\n",
       "DD.o.a             0.1398\n",
       "UD.o.a             0.0299\n",
       "H.a                0.1101\n",
       "DD.a.n             0.0695\n",
       "UD.a.n            -0.0406\n",
       "H.n                0.1228\n",
       "DD.n.l             0.0884\n",
       "UD.n.l            -0.0344\n",
       "H.l                0.0962\n",
       "DD.l.Return        0.2228\n",
       "UD.l.Return        0.1266\n",
       "H.Return           0.1011\n",
       "Name: 2193, dtype: float64"
      ]
     },
     "execution_count": 108,
     "metadata": {},
     "output_type": "execute_result"
    }
   ],
   "source": [
    "X_test.iloc[0]"
   ]
  },
  {
   "cell_type": "code",
   "execution_count": 126,
   "metadata": {
    "scrolled": true
   },
   "outputs": [
    {
     "ename": "KeyError",
     "evalue": "1",
     "output_type": "error",
     "traceback": [
      "\u001b[1;31m---------------------------------------------------------------------------\u001b[0m",
      "\u001b[1;31mKeyError\u001b[0m                                  Traceback (most recent call last)",
      "\u001b[1;32m~\\Anaconda2\\envs\\jupyter36\\lib\\site-packages\\pandas\\core\\indexes\\base.py\u001b[0m in \u001b[0;36mget_loc\u001b[1;34m(self, key, method, tolerance)\u001b[0m\n\u001b[0;32m   2896\u001b[0m             \u001b[1;32mtry\u001b[0m\u001b[1;33m:\u001b[0m\u001b[1;33m\u001b[0m\u001b[1;33m\u001b[0m\u001b[0m\n\u001b[1;32m-> 2897\u001b[1;33m                 \u001b[1;32mreturn\u001b[0m \u001b[0mself\u001b[0m\u001b[1;33m.\u001b[0m\u001b[0m_engine\u001b[0m\u001b[1;33m.\u001b[0m\u001b[0mget_loc\u001b[0m\u001b[1;33m(\u001b[0m\u001b[0mkey\u001b[0m\u001b[1;33m)\u001b[0m\u001b[1;33m\u001b[0m\u001b[1;33m\u001b[0m\u001b[0m\n\u001b[0m\u001b[0;32m   2898\u001b[0m             \u001b[1;32mexcept\u001b[0m \u001b[0mKeyError\u001b[0m\u001b[1;33m:\u001b[0m\u001b[1;33m\u001b[0m\u001b[1;33m\u001b[0m\u001b[0m\n",
      "\u001b[1;32mpandas\\_libs\\index.pyx\u001b[0m in \u001b[0;36mpandas._libs.index.IndexEngine.get_loc\u001b[1;34m()\u001b[0m\n",
      "\u001b[1;32mpandas\\_libs\\index.pyx\u001b[0m in \u001b[0;36mpandas._libs.index.IndexEngine.get_loc\u001b[1;34m()\u001b[0m\n",
      "\u001b[1;32mpandas\\_libs\\hashtable_class_helper.pxi\u001b[0m in \u001b[0;36mpandas._libs.hashtable.PyObjectHashTable.get_item\u001b[1;34m()\u001b[0m\n",
      "\u001b[1;32mpandas\\_libs\\hashtable_class_helper.pxi\u001b[0m in \u001b[0;36mpandas._libs.hashtable.PyObjectHashTable.get_item\u001b[1;34m()\u001b[0m\n",
      "\u001b[1;31mKeyError\u001b[0m: 1",
      "\nDuring handling of the above exception, another exception occurred:\n",
      "\u001b[1;31mKeyError\u001b[0m                                  Traceback (most recent call last)",
      "\u001b[1;32m<ipython-input-126-b0e58e187214>\u001b[0m in \u001b[0;36m<module>\u001b[1;34m\u001b[0m\n\u001b[1;32m----> 1\u001b[1;33m \u001b[0mtest\u001b[0m\u001b[1;33m[\u001b[0m\u001b[1;36m1\u001b[0m\u001b[1;33m]\u001b[0m\u001b[1;33m\u001b[0m\u001b[1;33m\u001b[0m\u001b[0m\n\u001b[0m",
      "\u001b[1;32m~\\Anaconda2\\envs\\jupyter36\\lib\\site-packages\\pandas\\core\\frame.py\u001b[0m in \u001b[0;36m__getitem__\u001b[1;34m(self, key)\u001b[0m\n\u001b[0;32m   2978\u001b[0m             \u001b[1;32mif\u001b[0m \u001b[0mself\u001b[0m\u001b[1;33m.\u001b[0m\u001b[0mcolumns\u001b[0m\u001b[1;33m.\u001b[0m\u001b[0mnlevels\u001b[0m \u001b[1;33m>\u001b[0m \u001b[1;36m1\u001b[0m\u001b[1;33m:\u001b[0m\u001b[1;33m\u001b[0m\u001b[1;33m\u001b[0m\u001b[0m\n\u001b[0;32m   2979\u001b[0m                 \u001b[1;32mreturn\u001b[0m \u001b[0mself\u001b[0m\u001b[1;33m.\u001b[0m\u001b[0m_getitem_multilevel\u001b[0m\u001b[1;33m(\u001b[0m\u001b[0mkey\u001b[0m\u001b[1;33m)\u001b[0m\u001b[1;33m\u001b[0m\u001b[1;33m\u001b[0m\u001b[0m\n\u001b[1;32m-> 2980\u001b[1;33m             \u001b[0mindexer\u001b[0m \u001b[1;33m=\u001b[0m \u001b[0mself\u001b[0m\u001b[1;33m.\u001b[0m\u001b[0mcolumns\u001b[0m\u001b[1;33m.\u001b[0m\u001b[0mget_loc\u001b[0m\u001b[1;33m(\u001b[0m\u001b[0mkey\u001b[0m\u001b[1;33m)\u001b[0m\u001b[1;33m\u001b[0m\u001b[1;33m\u001b[0m\u001b[0m\n\u001b[0m\u001b[0;32m   2981\u001b[0m             \u001b[1;32mif\u001b[0m \u001b[0mis_integer\u001b[0m\u001b[1;33m(\u001b[0m\u001b[0mindexer\u001b[0m\u001b[1;33m)\u001b[0m\u001b[1;33m:\u001b[0m\u001b[1;33m\u001b[0m\u001b[1;33m\u001b[0m\u001b[0m\n\u001b[0;32m   2982\u001b[0m                 \u001b[0mindexer\u001b[0m \u001b[1;33m=\u001b[0m \u001b[1;33m[\u001b[0m\u001b[0mindexer\u001b[0m\u001b[1;33m]\u001b[0m\u001b[1;33m\u001b[0m\u001b[1;33m\u001b[0m\u001b[0m\n",
      "\u001b[1;32m~\\Anaconda2\\envs\\jupyter36\\lib\\site-packages\\pandas\\core\\indexes\\base.py\u001b[0m in \u001b[0;36mget_loc\u001b[1;34m(self, key, method, tolerance)\u001b[0m\n\u001b[0;32m   2897\u001b[0m                 \u001b[1;32mreturn\u001b[0m \u001b[0mself\u001b[0m\u001b[1;33m.\u001b[0m\u001b[0m_engine\u001b[0m\u001b[1;33m.\u001b[0m\u001b[0mget_loc\u001b[0m\u001b[1;33m(\u001b[0m\u001b[0mkey\u001b[0m\u001b[1;33m)\u001b[0m\u001b[1;33m\u001b[0m\u001b[1;33m\u001b[0m\u001b[0m\n\u001b[0;32m   2898\u001b[0m             \u001b[1;32mexcept\u001b[0m \u001b[0mKeyError\u001b[0m\u001b[1;33m:\u001b[0m\u001b[1;33m\u001b[0m\u001b[1;33m\u001b[0m\u001b[0m\n\u001b[1;32m-> 2899\u001b[1;33m                 \u001b[1;32mreturn\u001b[0m \u001b[0mself\u001b[0m\u001b[1;33m.\u001b[0m\u001b[0m_engine\u001b[0m\u001b[1;33m.\u001b[0m\u001b[0mget_loc\u001b[0m\u001b[1;33m(\u001b[0m\u001b[0mself\u001b[0m\u001b[1;33m.\u001b[0m\u001b[0m_maybe_cast_indexer\u001b[0m\u001b[1;33m(\u001b[0m\u001b[0mkey\u001b[0m\u001b[1;33m)\u001b[0m\u001b[1;33m)\u001b[0m\u001b[1;33m\u001b[0m\u001b[1;33m\u001b[0m\u001b[0m\n\u001b[0m\u001b[0;32m   2900\u001b[0m         \u001b[0mindexer\u001b[0m \u001b[1;33m=\u001b[0m \u001b[0mself\u001b[0m\u001b[1;33m.\u001b[0m\u001b[0mget_indexer\u001b[0m\u001b[1;33m(\u001b[0m\u001b[1;33m[\u001b[0m\u001b[0mkey\u001b[0m\u001b[1;33m]\u001b[0m\u001b[1;33m,\u001b[0m \u001b[0mmethod\u001b[0m\u001b[1;33m=\u001b[0m\u001b[0mmethod\u001b[0m\u001b[1;33m,\u001b[0m \u001b[0mtolerance\u001b[0m\u001b[1;33m=\u001b[0m\u001b[0mtolerance\u001b[0m\u001b[1;33m)\u001b[0m\u001b[1;33m\u001b[0m\u001b[1;33m\u001b[0m\u001b[0m\n\u001b[0;32m   2901\u001b[0m         \u001b[1;32mif\u001b[0m \u001b[0mindexer\u001b[0m\u001b[1;33m.\u001b[0m\u001b[0mndim\u001b[0m \u001b[1;33m>\u001b[0m \u001b[1;36m1\u001b[0m \u001b[1;32mor\u001b[0m \u001b[0mindexer\u001b[0m\u001b[1;33m.\u001b[0m\u001b[0msize\u001b[0m \u001b[1;33m>\u001b[0m \u001b[1;36m1\u001b[0m\u001b[1;33m:\u001b[0m\u001b[1;33m\u001b[0m\u001b[1;33m\u001b[0m\u001b[0m\n",
      "\u001b[1;32mpandas\\_libs\\index.pyx\u001b[0m in \u001b[0;36mpandas._libs.index.IndexEngine.get_loc\u001b[1;34m()\u001b[0m\n",
      "\u001b[1;32mpandas\\_libs\\index.pyx\u001b[0m in \u001b[0;36mpandas._libs.index.IndexEngine.get_loc\u001b[1;34m()\u001b[0m\n",
      "\u001b[1;32mpandas\\_libs\\hashtable_class_helper.pxi\u001b[0m in \u001b[0;36mpandas._libs.hashtable.PyObjectHashTable.get_item\u001b[1;34m()\u001b[0m\n",
      "\u001b[1;32mpandas\\_libs\\hashtable_class_helper.pxi\u001b[0m in \u001b[0;36mpandas._libs.hashtable.PyObjectHashTable.get_item\u001b[1;34m()\u001b[0m\n",
      "\u001b[1;31mKeyError\u001b[0m: 1"
     ]
    }
   ],
   "source": [
    "test[1]"
   ]
  },
  {
   "cell_type": "code",
   "execution_count": 124,
   "metadata": {},
   "outputs": [
    {
     "data": {
      "text/html": [
       "<div>\n",
       "<style scoped>\n",
       "    .dataframe tbody tr th:only-of-type {\n",
       "        vertical-align: middle;\n",
       "    }\n",
       "\n",
       "    .dataframe tbody tr th {\n",
       "        vertical-align: top;\n",
       "    }\n",
       "\n",
       "    .dataframe thead th {\n",
       "        text-align: right;\n",
       "    }\n",
       "</style>\n",
       "<table border=\"1\" class=\"dataframe\">\n",
       "  <thead>\n",
       "    <tr style=\"text-align: right;\">\n",
       "      <th></th>\n",
       "      <th>index</th>\n",
       "      <th>H.period</th>\n",
       "      <th>DD.period.t</th>\n",
       "      <th>UD.period.t</th>\n",
       "      <th>H.t</th>\n",
       "      <th>DD.t.i</th>\n",
       "      <th>UD.t.i</th>\n",
       "      <th>H.i</th>\n",
       "      <th>DD.i.e</th>\n",
       "      <th>UD.i.e</th>\n",
       "      <th>...</th>\n",
       "      <th>H.a</th>\n",
       "      <th>DD.a.n</th>\n",
       "      <th>UD.a.n</th>\n",
       "      <th>H.n</th>\n",
       "      <th>DD.n.l</th>\n",
       "      <th>UD.n.l</th>\n",
       "      <th>H.l</th>\n",
       "      <th>DD.l.Return</th>\n",
       "      <th>UD.l.Return</th>\n",
       "      <th>H.Return</th>\n",
       "    </tr>\n",
       "  </thead>\n",
       "  <tbody>\n",
       "    <tr>\n",
       "      <td>0</td>\n",
       "      <td>2193</td>\n",
       "      <td>0.0576</td>\n",
       "      <td>0.1921</td>\n",
       "      <td>0.1345</td>\n",
       "      <td>0.0742</td>\n",
       "      <td>0.1436</td>\n",
       "      <td>0.0694</td>\n",
       "      <td>0.0795</td>\n",
       "      <td>0.126</td>\n",
       "      <td>0.0465</td>\n",
       "      <td>...</td>\n",
       "      <td>0.1101</td>\n",
       "      <td>0.0695</td>\n",
       "      <td>-0.0406</td>\n",
       "      <td>0.1228</td>\n",
       "      <td>0.0884</td>\n",
       "      <td>-0.0344</td>\n",
       "      <td>0.0962</td>\n",
       "      <td>0.2228</td>\n",
       "      <td>0.1266</td>\n",
       "      <td>0.1011</td>\n",
       "    </tr>\n",
       "  </tbody>\n",
       "</table>\n",
       "<p>1 rows × 32 columns</p>\n",
       "</div>"
      ],
      "text/plain": [
       "   index  H.period  DD.period.t  UD.period.t     H.t  DD.t.i  UD.t.i     H.i  \\\n",
       "0   2193    0.0576       0.1921       0.1345  0.0742  0.1436  0.0694  0.0795   \n",
       "\n",
       "   DD.i.e  UD.i.e  ...     H.a  DD.a.n  UD.a.n     H.n  DD.n.l  UD.n.l  \\\n",
       "0   0.126  0.0465  ...  0.1101  0.0695 -0.0406  0.1228  0.0884 -0.0344   \n",
       "\n",
       "      H.l  DD.l.Return  UD.l.Return  H.Return  \n",
       "0  0.0962       0.2228       0.1266    0.1011  \n",
       "\n",
       "[1 rows x 32 columns]"
      ]
     },
     "execution_count": 124,
     "metadata": {},
     "output_type": "execute_result"
    }
   ],
   "source": [
    "test[:1]"
   ]
  },
  {
   "cell_type": "code",
   "execution_count": 118,
   "metadata": {
    "scrolled": true
   },
   "outputs": [
    {
     "ename": "KeyError",
     "evalue": "1",
     "output_type": "error",
     "traceback": [
      "\u001b[1;31m---------------------------------------------------------------------------\u001b[0m",
      "\u001b[1;31mKeyError\u001b[0m                                  Traceback (most recent call last)",
      "\u001b[1;32m~\\Anaconda2\\envs\\jupyter36\\lib\\site-packages\\pandas\\core\\indexes\\base.py\u001b[0m in \u001b[0;36mget_loc\u001b[1;34m(self, key, method, tolerance)\u001b[0m\n\u001b[0;32m   2896\u001b[0m             \u001b[1;32mtry\u001b[0m\u001b[1;33m:\u001b[0m\u001b[1;33m\u001b[0m\u001b[1;33m\u001b[0m\u001b[0m\n\u001b[1;32m-> 2897\u001b[1;33m                 \u001b[1;32mreturn\u001b[0m \u001b[0mself\u001b[0m\u001b[1;33m.\u001b[0m\u001b[0m_engine\u001b[0m\u001b[1;33m.\u001b[0m\u001b[0mget_loc\u001b[0m\u001b[1;33m(\u001b[0m\u001b[0mkey\u001b[0m\u001b[1;33m)\u001b[0m\u001b[1;33m\u001b[0m\u001b[1;33m\u001b[0m\u001b[0m\n\u001b[0m\u001b[0;32m   2898\u001b[0m             \u001b[1;32mexcept\u001b[0m \u001b[0mKeyError\u001b[0m\u001b[1;33m:\u001b[0m\u001b[1;33m\u001b[0m\u001b[1;33m\u001b[0m\u001b[0m\n",
      "\u001b[1;32mpandas\\_libs\\index.pyx\u001b[0m in \u001b[0;36mpandas._libs.index.IndexEngine.get_loc\u001b[1;34m()\u001b[0m\n",
      "\u001b[1;32mpandas\\_libs\\index.pyx\u001b[0m in \u001b[0;36mpandas._libs.index.IndexEngine.get_loc\u001b[1;34m()\u001b[0m\n",
      "\u001b[1;32mpandas\\_libs\\hashtable_class_helper.pxi\u001b[0m in \u001b[0;36mpandas._libs.hashtable.PyObjectHashTable.get_item\u001b[1;34m()\u001b[0m\n",
      "\u001b[1;32mpandas\\_libs\\hashtable_class_helper.pxi\u001b[0m in \u001b[0;36mpandas._libs.hashtable.PyObjectHashTable.get_item\u001b[1;34m()\u001b[0m\n",
      "\u001b[1;31mKeyError\u001b[0m: 1",
      "\nDuring handling of the above exception, another exception occurred:\n",
      "\u001b[1;31mKeyError\u001b[0m                                  Traceback (most recent call last)",
      "\u001b[1;32m<ipython-input-118-b0e58e187214>\u001b[0m in \u001b[0;36m<module>\u001b[1;34m\u001b[0m\n\u001b[1;32m----> 1\u001b[1;33m \u001b[0mtest\u001b[0m\u001b[1;33m[\u001b[0m\u001b[1;36m1\u001b[0m\u001b[1;33m]\u001b[0m\u001b[1;33m\u001b[0m\u001b[1;33m\u001b[0m\u001b[0m\n\u001b[0m",
      "\u001b[1;32m~\\Anaconda2\\envs\\jupyter36\\lib\\site-packages\\pandas\\core\\frame.py\u001b[0m in \u001b[0;36m__getitem__\u001b[1;34m(self, key)\u001b[0m\n\u001b[0;32m   2978\u001b[0m             \u001b[1;32mif\u001b[0m \u001b[0mself\u001b[0m\u001b[1;33m.\u001b[0m\u001b[0mcolumns\u001b[0m\u001b[1;33m.\u001b[0m\u001b[0mnlevels\u001b[0m \u001b[1;33m>\u001b[0m \u001b[1;36m1\u001b[0m\u001b[1;33m:\u001b[0m\u001b[1;33m\u001b[0m\u001b[1;33m\u001b[0m\u001b[0m\n\u001b[0;32m   2979\u001b[0m                 \u001b[1;32mreturn\u001b[0m \u001b[0mself\u001b[0m\u001b[1;33m.\u001b[0m\u001b[0m_getitem_multilevel\u001b[0m\u001b[1;33m(\u001b[0m\u001b[0mkey\u001b[0m\u001b[1;33m)\u001b[0m\u001b[1;33m\u001b[0m\u001b[1;33m\u001b[0m\u001b[0m\n\u001b[1;32m-> 2980\u001b[1;33m             \u001b[0mindexer\u001b[0m \u001b[1;33m=\u001b[0m \u001b[0mself\u001b[0m\u001b[1;33m.\u001b[0m\u001b[0mcolumns\u001b[0m\u001b[1;33m.\u001b[0m\u001b[0mget_loc\u001b[0m\u001b[1;33m(\u001b[0m\u001b[0mkey\u001b[0m\u001b[1;33m)\u001b[0m\u001b[1;33m\u001b[0m\u001b[1;33m\u001b[0m\u001b[0m\n\u001b[0m\u001b[0;32m   2981\u001b[0m             \u001b[1;32mif\u001b[0m \u001b[0mis_integer\u001b[0m\u001b[1;33m(\u001b[0m\u001b[0mindexer\u001b[0m\u001b[1;33m)\u001b[0m\u001b[1;33m:\u001b[0m\u001b[1;33m\u001b[0m\u001b[1;33m\u001b[0m\u001b[0m\n\u001b[0;32m   2982\u001b[0m                 \u001b[0mindexer\u001b[0m \u001b[1;33m=\u001b[0m \u001b[1;33m[\u001b[0m\u001b[0mindexer\u001b[0m\u001b[1;33m]\u001b[0m\u001b[1;33m\u001b[0m\u001b[1;33m\u001b[0m\u001b[0m\n",
      "\u001b[1;32m~\\Anaconda2\\envs\\jupyter36\\lib\\site-packages\\pandas\\core\\indexes\\base.py\u001b[0m in \u001b[0;36mget_loc\u001b[1;34m(self, key, method, tolerance)\u001b[0m\n\u001b[0;32m   2897\u001b[0m                 \u001b[1;32mreturn\u001b[0m \u001b[0mself\u001b[0m\u001b[1;33m.\u001b[0m\u001b[0m_engine\u001b[0m\u001b[1;33m.\u001b[0m\u001b[0mget_loc\u001b[0m\u001b[1;33m(\u001b[0m\u001b[0mkey\u001b[0m\u001b[1;33m)\u001b[0m\u001b[1;33m\u001b[0m\u001b[1;33m\u001b[0m\u001b[0m\n\u001b[0;32m   2898\u001b[0m             \u001b[1;32mexcept\u001b[0m \u001b[0mKeyError\u001b[0m\u001b[1;33m:\u001b[0m\u001b[1;33m\u001b[0m\u001b[1;33m\u001b[0m\u001b[0m\n\u001b[1;32m-> 2899\u001b[1;33m                 \u001b[1;32mreturn\u001b[0m \u001b[0mself\u001b[0m\u001b[1;33m.\u001b[0m\u001b[0m_engine\u001b[0m\u001b[1;33m.\u001b[0m\u001b[0mget_loc\u001b[0m\u001b[1;33m(\u001b[0m\u001b[0mself\u001b[0m\u001b[1;33m.\u001b[0m\u001b[0m_maybe_cast_indexer\u001b[0m\u001b[1;33m(\u001b[0m\u001b[0mkey\u001b[0m\u001b[1;33m)\u001b[0m\u001b[1;33m)\u001b[0m\u001b[1;33m\u001b[0m\u001b[1;33m\u001b[0m\u001b[0m\n\u001b[0m\u001b[0;32m   2900\u001b[0m         \u001b[0mindexer\u001b[0m \u001b[1;33m=\u001b[0m \u001b[0mself\u001b[0m\u001b[1;33m.\u001b[0m\u001b[0mget_indexer\u001b[0m\u001b[1;33m(\u001b[0m\u001b[1;33m[\u001b[0m\u001b[0mkey\u001b[0m\u001b[1;33m]\u001b[0m\u001b[1;33m,\u001b[0m \u001b[0mmethod\u001b[0m\u001b[1;33m=\u001b[0m\u001b[0mmethod\u001b[0m\u001b[1;33m,\u001b[0m \u001b[0mtolerance\u001b[0m\u001b[1;33m=\u001b[0m\u001b[0mtolerance\u001b[0m\u001b[1;33m)\u001b[0m\u001b[1;33m\u001b[0m\u001b[1;33m\u001b[0m\u001b[0m\n\u001b[0;32m   2901\u001b[0m         \u001b[1;32mif\u001b[0m \u001b[0mindexer\u001b[0m\u001b[1;33m.\u001b[0m\u001b[0mndim\u001b[0m \u001b[1;33m>\u001b[0m \u001b[1;36m1\u001b[0m \u001b[1;32mor\u001b[0m \u001b[0mindexer\u001b[0m\u001b[1;33m.\u001b[0m\u001b[0msize\u001b[0m \u001b[1;33m>\u001b[0m \u001b[1;36m1\u001b[0m\u001b[1;33m:\u001b[0m\u001b[1;33m\u001b[0m\u001b[1;33m\u001b[0m\u001b[0m\n",
      "\u001b[1;32mpandas\\_libs\\index.pyx\u001b[0m in \u001b[0;36mpandas._libs.index.IndexEngine.get_loc\u001b[1;34m()\u001b[0m\n",
      "\u001b[1;32mpandas\\_libs\\index.pyx\u001b[0m in \u001b[0;36mpandas._libs.index.IndexEngine.get_loc\u001b[1;34m()\u001b[0m\n",
      "\u001b[1;32mpandas\\_libs\\hashtable_class_helper.pxi\u001b[0m in \u001b[0;36mpandas._libs.hashtable.PyObjectHashTable.get_item\u001b[1;34m()\u001b[0m\n",
      "\u001b[1;32mpandas\\_libs\\hashtable_class_helper.pxi\u001b[0m in \u001b[0;36mpandas._libs.hashtable.PyObjectHashTable.get_item\u001b[1;34m()\u001b[0m\n",
      "\u001b[1;31mKeyError\u001b[0m: 1"
     ]
    }
   ],
   "source": [
    "test[1]"
   ]
  },
  {
   "cell_type": "code",
   "execution_count": 99,
   "metadata": {},
   "outputs": [
    {
     "data": {
      "text/html": [
       "<div>\n",
       "<style scoped>\n",
       "    .dataframe tbody tr th:only-of-type {\n",
       "        vertical-align: middle;\n",
       "    }\n",
       "\n",
       "    .dataframe tbody tr th {\n",
       "        vertical-align: top;\n",
       "    }\n",
       "\n",
       "    .dataframe thead th {\n",
       "        text-align: right;\n",
       "    }\n",
       "</style>\n",
       "<table border=\"1\" class=\"dataframe\">\n",
       "  <thead>\n",
       "    <tr style=\"text-align: right;\">\n",
       "      <th></th>\n",
       "      <th>0</th>\n",
       "      <th>1</th>\n",
       "      <th>2</th>\n",
       "      <th>3</th>\n",
       "      <th>4</th>\n",
       "      <th>5</th>\n",
       "      <th>6</th>\n",
       "      <th>7</th>\n",
       "      <th>8</th>\n",
       "      <th>9</th>\n",
       "    </tr>\n",
       "  </thead>\n",
       "  <tbody>\n",
       "    <tr>\n",
       "      <td>2193</td>\n",
       "      <td>0.0</td>\n",
       "      <td>0.0</td>\n",
       "      <td>0.0</td>\n",
       "      <td>0.0</td>\n",
       "      <td>0.0</td>\n",
       "      <td>1.0</td>\n",
       "      <td>0.0</td>\n",
       "      <td>0.0</td>\n",
       "      <td>0.0</td>\n",
       "      <td>0.0</td>\n",
       "    </tr>\n",
       "    <tr>\n",
       "      <td>3510</td>\n",
       "      <td>0.0</td>\n",
       "      <td>0.0</td>\n",
       "      <td>0.0</td>\n",
       "      <td>0.0</td>\n",
       "      <td>0.0</td>\n",
       "      <td>0.0</td>\n",
       "      <td>0.0</td>\n",
       "      <td>0.0</td>\n",
       "      <td>1.0</td>\n",
       "      <td>0.0</td>\n",
       "    </tr>\n",
       "  </tbody>\n",
       "</table>\n",
       "</div>"
      ],
      "text/plain": [
       "        0    1    2    3    4    5    6    7    8    9\n",
       "2193  0.0  0.0  0.0  0.0  0.0  1.0  0.0  0.0  0.0  0.0\n",
       "3510  0.0  0.0  0.0  0.0  0.0  0.0  0.0  0.0  1.0  0.0"
      ]
     },
     "execution_count": 99,
     "metadata": {},
     "output_type": "execute_result"
    }
   ],
   "source": [
    "y_test.head(2)"
   ]
  },
  {
   "cell_type": "code",
   "execution_count": null,
   "metadata": {},
   "outputs": [],
   "source": []
  }
 ],
 "metadata": {
  "kernelspec": {
   "display_name": "Python 3",
   "language": "python",
   "name": "python3"
  },
  "language_info": {
   "codemirror_mode": {
    "name": "ipython",
    "version": 3
   },
   "file_extension": ".py",
   "mimetype": "text/x-python",
   "name": "python",
   "nbconvert_exporter": "python",
   "pygments_lexer": "ipython3",
   "version": "3.7.0"
  }
 },
 "nbformat": 4,
 "nbformat_minor": 2
}
