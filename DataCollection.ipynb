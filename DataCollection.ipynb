{
 "cells": [
  {
   "cell_type": "markdown",
   "metadata": {},
   "source": [
    "Currently this notebook can be used to record one person's keystroke pattern once. In the same format as is needed by the model that was trained at CMU.\n",
    "\n",
    "Next Steps by Susmeet:\n",
    " - Remove the hardcodings\n",
    " - Improve the code to record multiple entries from multiple people\n",
    " - Add a simple GUI\n",
    " \n",
    "Susmeet would need help for the following:\n",
    " - Making the code object oriented"
   ]
  },
  {
   "cell_type": "code",
   "execution_count": 1,
   "metadata": {},
   "outputs": [],
   "source": [
    "from pynput import keyboard\n",
    "import time\n",
    "\n",
    "import pandas as pd"
   ]
  },
  {
   "cell_type": "markdown",
   "metadata": {},
   "source": [
    "#### defining our fixed variables for this project"
   ]
  },
  {
   "cell_type": "code",
   "execution_count": 2,
   "metadata": {},
   "outputs": [],
   "source": [
    "cols = ['key', 'action', 'time']\n",
    "PASSWORD = '.tie5Roanl'"
   ]
  },
  {
   "cell_type": "markdown",
   "metadata": {},
   "source": [
    "#### Supporting Functions"
   ]
  },
  {
   "cell_type": "code",
   "execution_count": 3,
   "metadata": {},
   "outputs": [],
   "source": [
    "def get_key_name(key):\n",
    "    \"\"\"\n",
    "    returns the key that the usr has pressed\n",
    "    \"\"\"\n",
    "    if isinstance(key, keyboard.KeyCode):\n",
    "        return key.char\n",
    "    else:\n",
    "        return str(key)\n",
    "\n",
    "def record_keystroke(keystroke_info):\n",
    "    \"\"\"\n",
    "    stores the information on pressed keys along with timestamps for press and release\n",
    "    \"\"\"\n",
    "    global data\n",
    "    data = data.append(keystroke_info, ignore_index=True)\n",
    "\n",
    "def on_press(key):\n",
    "    \"\"\"\n",
    "    gets called when a key is pressed\n",
    "    aborts the process when the esc key is pressed\n",
    "    \"\"\"\n",
    "    t = time.time()\n",
    "    key_name = get_key_name(key)\n",
    "    if key_name == 'Key.esc':\n",
    "        print('Exiting...')\n",
    "        return False\n",
    "    record_keystroke({'key' : key_name, 'action' : 'press', 'time' : t})\n",
    "\n",
    "def on_release(key):\n",
    "    \"\"\"\n",
    "    gets called when key is released\n",
    "    \"\"\"\n",
    "    t = time.time()\n",
    "    key_name = get_key_name(key)\n",
    "    record_keystroke({'key' : key_name, 'action' : 'release', 'time' : t})"
   ]
  },
  {
   "cell_type": "markdown",
   "metadata": {},
   "source": [
    "#### The listener function\n",
    "Run this function and strictly follow these steps:\n",
    " - Type the following password\n",
    "` .tie5Roanl `\n",
    "followed by the Enter key.\n",
    "\n",
    " - Make sure you use the shift key for typing a capital 'R' and not capslock.\n",
    "\n",
    " - Once you are done, press the escape key"
   ]
  },
  {
   "cell_type": "code",
   "execution_count": 4,
   "metadata": {
    "scrolled": true
   },
   "outputs": [
    {
     "name": "stdout",
     "output_type": "stream",
     "text": [
      "Exiting...\n"
     ]
    }
   ],
   "source": [
    "data = pd.DataFrame(columns = cols)\n",
    "\n",
    "with keyboard.Listener(\n",
    "    on_press = on_press,\n",
    "    on_release = on_release) as listener:\n",
    "    listener.join()"
   ]
  },
  {
   "cell_type": "code",
   "execution_count": null,
   "metadata": {},
   "outputs": [],
   "source": []
  },
  {
   "cell_type": "markdown",
   "metadata": {},
   "source": [
    "##### "
   ]
  },
  {
   "cell_type": "markdown",
   "metadata": {},
   "source": [
    "##### "
   ]
  },
  {
   "cell_type": "markdown",
   "metadata": {},
   "source": [
    "##### "
   ]
  },
  {
   "cell_type": "markdown",
   "metadata": {},
   "source": [
    "#### Data Preparation"
   ]
  },
  {
   "cell_type": "code",
   "execution_count": 5,
   "metadata": {},
   "outputs": [],
   "source": [
    "# Seperating the release and press data into different dataframes to process seperately\n",
    "release_times = data.loc[data['action'] == 'release'].copy()\n",
    "release_times.drop('action', inplace=True, axis=1)\n",
    "release_times.rename({'time' : 'release'}, inplace=True, axis=1)\n",
    "\n",
    "press_times = data.loc[data['action'] == 'press'].copy()\n",
    "press_times.drop('action', inplace=True, axis=1)\n",
    "press_times.rename({'time' : 'press'}, inplace=True, axis=1)"
   ]
  },
  {
   "cell_type": "code",
   "execution_count": 6,
   "metadata": {},
   "outputs": [],
   "source": [
    "# Merge the shift and R keys in case the listener records them differently, this ends up happening sometimes\n",
    "try:\n",
    "    release_merge_indices = release_times[release_times['key'].isin(['R', 'Key.shift'])].index\n",
    "    release_times.drop(release_merge_indices[0], inplace=True)\n",
    "    release_times.loc[release_merge_indices[-1], 'key'] = 'Shift.r'\n",
    "\n",
    "    press_del_index = press_times.loc[press_times['key'] == 'R'].index\n",
    "    press_times.drop(press_del_index, inplace=True)\n",
    "    press_times.loc[press_times['key'] == 'Key.shift', 'key'] = 'Shift.r'\n",
    "except:\n",
    "    pass"
   ]
  },
  {
   "cell_type": "code",
   "execution_count": 7,
   "metadata": {
    "scrolled": true
   },
   "outputs": [],
   "source": [
    "# merge the press and release data again\n",
    "combined_data = pd.merge(press_times, release_times, on = 'key')\n",
    "\n",
    "# another hardcoding, change the '.' to 'period', that's how it is recorded at CMU\n",
    "combined_data.loc[0,'key'] = 'period'\n",
    "\n",
    "combined_data.set_index('key', inplace=True)"
   ]
  },
  {
   "cell_type": "markdown",
   "metadata": {},
   "source": [
    "#### Feature Engineering"
   ]
  },
  {
   "cell_type": "code",
   "execution_count": null,
   "metadata": {},
   "outputs": [],
   "source": [
    "engineered_features = pd.Series()\n",
    "\n",
    "for key, time in combined_data.iterrows():\n",
    "    \n",
    "    H_feature = 'H.' + str(key)\n",
    "    engineered_features[H_feature] = time['release'] - time['press']\n",
    "    \n",
    "    try:\n",
    "        UD_feature = 'UD.' + str(prev_key) + '.' + str(key)\n",
    "        engineered_features[UD_feature] = time['press'] - prev_time['release']\n",
    "        DD_feature = 'DD.' + str(prev_key) + '.' + str(key)\n",
    "        engineered_features[DD_feature] = time['press'] - prev_time['press']\n",
    "    except:\n",
    "        pass\n",
    "        \n",
    "    prev_key = key\n",
    "    prev_time = time"
   ]
  },
  {
   "cell_type": "code",
   "execution_count": 12,
   "metadata": {},
   "outputs": [
    {
     "data": {
      "text/plain": [
       "H.period          0.137387\n",
       "H.t               0.127401\n",
       "UD.period.t       0.118614\n",
       "DD.period.t       0.256001\n",
       "H.i               0.122062\n",
       "UD.t.i            0.271895\n",
       "DD.t.i            0.399296\n",
       "H.e               0.132734\n",
       "UD.i.e            0.125989\n",
       "DD.i.e            0.248051\n",
       "H.5               0.094826\n",
       "UD.e.5            0.819843\n",
       "DD.e.5            0.952577\n",
       "H.Shift.r         0.783378\n",
       "UD.5.Shift.r      3.149976\n",
       "DD.5.Shift.r      3.244802\n",
       "H.o               0.116522\n",
       "UD.Shift.r.o      4.785663\n",
       "DD.Shift.r.o      5.569041\n",
       "H.a               0.175586\n",
       "UD.o.a            0.319842\n",
       "DD.o.a            0.436365\n",
       "H.n               0.121719\n",
       "UD.a.n            0.777663\n",
       "DD.a.n            0.953249\n",
       "H.l               0.138052\n",
       "UD.n.l            0.517390\n",
       "DD.n.l            0.639109\n",
       "H.Key.enter       0.100811\n",
       "UD.l.Key.enter    1.464071\n",
       "DD.l.Key.enter    1.602123\n",
       "dtype: float64"
      ]
     },
     "execution_count": 12,
     "metadata": {},
     "output_type": "execute_result"
    }
   ],
   "source": [
    "engineered_features"
   ]
  }
 ],
 "metadata": {
  "kernelspec": {
   "display_name": "Python 3",
   "language": "python",
   "name": "python3"
  },
  "language_info": {
   "codemirror_mode": {
    "name": "ipython",
    "version": 3
   },
   "file_extension": ".py",
   "mimetype": "text/x-python",
   "name": "python",
   "nbconvert_exporter": "python",
   "pygments_lexer": "ipython3",
   "version": "3.7.0"
  }
 },
 "nbformat": 4,
 "nbformat_minor": 2
}
