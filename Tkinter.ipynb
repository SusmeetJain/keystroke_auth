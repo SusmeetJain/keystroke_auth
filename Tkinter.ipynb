{
 "cells": [
  {
   "cell_type": "markdown",
   "metadata": {},
   "source": [
    "# Tkinter GUI Test Notebook\n",
    "#### Author: Mayank\n",
    "### This first part of the notebook aims to run a generate a simple form to enter text that can be accessed using a GUI\n",
    "### The second part of the notebook aims to capture keystroke times as entered in the GUI using pynput in the backend \n",
    "---"
   ]
  },
  {
   "cell_type": "markdown",
   "metadata": {},
   "source": [
    "## PART 1"
   ]
  },
  {
   "cell_type": "markdown",
   "metadata": {},
   "source": [
    "[tkinter tutorial - Geeks for Geeks](https://www.geeksforgeeks.org/python-gui-tkinter/)\n",
    "\n",
    "[Run tkinter simultaneously with pynput - StackOverflow](https://stackoverflow.com/questions/56871975/how-to-run-pynput-listener-simultaneously-with-tkinter-tk-mainloop)"
   ]
  },
  {
   "cell_type": "code",
   "execution_count": 4,
   "metadata": {},
   "outputs": [],
   "source": [
    "import tkinter\n",
    "m = tkinter.Tk()\n",
    "m.title('Hello world!')\n",
    "#widgets are added here\n",
    "m.mainloop()"
   ]
  },
  {
   "cell_type": "code",
   "execution_count": null,
   "metadata": {},
   "outputs": [],
   "source": []
  }
 ],
 "metadata": {
  "kernelspec": {
   "display_name": "Python 3",
   "language": "python",
   "name": "python3"
  },
  "language_info": {
   "codemirror_mode": {
    "name": "ipython",
    "version": 3
   },
   "file_extension": ".py",
   "mimetype": "text/x-python",
   "name": "python",
   "nbconvert_exporter": "python",
   "pygments_lexer": "ipython3",
   "version": "3.7.4"
  }
 },
 "nbformat": 4,
 "nbformat_minor": 4
}
