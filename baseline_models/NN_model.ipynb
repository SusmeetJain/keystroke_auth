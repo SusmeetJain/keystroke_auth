{
 "cells": [
  {
   "cell_type": "code",
   "execution_count": 1,
   "metadata": {},
   "outputs": [],
   "source": [
    "import pandas as pd\n",
    "import numpy as np\n",
    "from matplotlib import pyplot as plt\n",
    "\n",
    "%matplotlib inline"
   ]
  },
  {
   "cell_type": "code",
   "execution_count": 2,
   "metadata": {},
   "outputs": [],
   "source": [
    "data = pd.read_csv('DSL-StrongPasswordData.csv')"
   ]
  },
  {
   "cell_type": "code",
   "execution_count": 3,
   "metadata": {},
   "outputs": [
    {
     "data": {
      "text/html": [
       "<div>\n",
       "<style scoped>\n",
       "    .dataframe tbody tr th:only-of-type {\n",
       "        vertical-align: middle;\n",
       "    }\n",
       "\n",
       "    .dataframe tbody tr th {\n",
       "        vertical-align: top;\n",
       "    }\n",
       "\n",
       "    .dataframe thead th {\n",
       "        text-align: right;\n",
       "    }\n",
       "</style>\n",
       "<table border=\"1\" class=\"dataframe\">\n",
       "  <thead>\n",
       "    <tr style=\"text-align: right;\">\n",
       "      <th></th>\n",
       "      <th>subject</th>\n",
       "      <th>sessionIndex</th>\n",
       "      <th>rep</th>\n",
       "      <th>H.period</th>\n",
       "      <th>DD.period.t</th>\n",
       "      <th>UD.period.t</th>\n",
       "      <th>H.t</th>\n",
       "      <th>DD.t.i</th>\n",
       "      <th>UD.t.i</th>\n",
       "      <th>H.i</th>\n",
       "      <th>...</th>\n",
       "      <th>H.a</th>\n",
       "      <th>DD.a.n</th>\n",
       "      <th>UD.a.n</th>\n",
       "      <th>H.n</th>\n",
       "      <th>DD.n.l</th>\n",
       "      <th>UD.n.l</th>\n",
       "      <th>H.l</th>\n",
       "      <th>DD.l.Return</th>\n",
       "      <th>UD.l.Return</th>\n",
       "      <th>H.Return</th>\n",
       "    </tr>\n",
       "  </thead>\n",
       "  <tbody>\n",
       "    <tr>\n",
       "      <td>0</td>\n",
       "      <td>s002</td>\n",
       "      <td>1</td>\n",
       "      <td>1</td>\n",
       "      <td>0.1491</td>\n",
       "      <td>0.3979</td>\n",
       "      <td>0.2488</td>\n",
       "      <td>0.1069</td>\n",
       "      <td>0.1674</td>\n",
       "      <td>0.0605</td>\n",
       "      <td>0.1169</td>\n",
       "      <td>...</td>\n",
       "      <td>0.1349</td>\n",
       "      <td>0.1484</td>\n",
       "      <td>0.0135</td>\n",
       "      <td>0.0932</td>\n",
       "      <td>0.3515</td>\n",
       "      <td>0.2583</td>\n",
       "      <td>0.1338</td>\n",
       "      <td>0.3509</td>\n",
       "      <td>0.2171</td>\n",
       "      <td>0.0742</td>\n",
       "    </tr>\n",
       "    <tr>\n",
       "      <td>1</td>\n",
       "      <td>s002</td>\n",
       "      <td>1</td>\n",
       "      <td>2</td>\n",
       "      <td>0.1111</td>\n",
       "      <td>0.3451</td>\n",
       "      <td>0.2340</td>\n",
       "      <td>0.0694</td>\n",
       "      <td>0.1283</td>\n",
       "      <td>0.0589</td>\n",
       "      <td>0.0908</td>\n",
       "      <td>...</td>\n",
       "      <td>0.1412</td>\n",
       "      <td>0.2558</td>\n",
       "      <td>0.1146</td>\n",
       "      <td>0.1146</td>\n",
       "      <td>0.2642</td>\n",
       "      <td>0.1496</td>\n",
       "      <td>0.0839</td>\n",
       "      <td>0.2756</td>\n",
       "      <td>0.1917</td>\n",
       "      <td>0.0747</td>\n",
       "    </tr>\n",
       "    <tr>\n",
       "      <td>2</td>\n",
       "      <td>s002</td>\n",
       "      <td>1</td>\n",
       "      <td>3</td>\n",
       "      <td>0.1328</td>\n",
       "      <td>0.2072</td>\n",
       "      <td>0.0744</td>\n",
       "      <td>0.0731</td>\n",
       "      <td>0.1291</td>\n",
       "      <td>0.0560</td>\n",
       "      <td>0.0821</td>\n",
       "      <td>...</td>\n",
       "      <td>0.1621</td>\n",
       "      <td>0.2332</td>\n",
       "      <td>0.0711</td>\n",
       "      <td>0.1172</td>\n",
       "      <td>0.2705</td>\n",
       "      <td>0.1533</td>\n",
       "      <td>0.1085</td>\n",
       "      <td>0.2847</td>\n",
       "      <td>0.1762</td>\n",
       "      <td>0.0945</td>\n",
       "    </tr>\n",
       "    <tr>\n",
       "      <td>3</td>\n",
       "      <td>s002</td>\n",
       "      <td>1</td>\n",
       "      <td>4</td>\n",
       "      <td>0.1291</td>\n",
       "      <td>0.2515</td>\n",
       "      <td>0.1224</td>\n",
       "      <td>0.1059</td>\n",
       "      <td>0.2495</td>\n",
       "      <td>0.1436</td>\n",
       "      <td>0.1040</td>\n",
       "      <td>...</td>\n",
       "      <td>0.1457</td>\n",
       "      <td>0.1629</td>\n",
       "      <td>0.0172</td>\n",
       "      <td>0.0866</td>\n",
       "      <td>0.2341</td>\n",
       "      <td>0.1475</td>\n",
       "      <td>0.0845</td>\n",
       "      <td>0.3232</td>\n",
       "      <td>0.2387</td>\n",
       "      <td>0.0813</td>\n",
       "    </tr>\n",
       "    <tr>\n",
       "      <td>4</td>\n",
       "      <td>s002</td>\n",
       "      <td>1</td>\n",
       "      <td>5</td>\n",
       "      <td>0.1249</td>\n",
       "      <td>0.2317</td>\n",
       "      <td>0.1068</td>\n",
       "      <td>0.0895</td>\n",
       "      <td>0.1676</td>\n",
       "      <td>0.0781</td>\n",
       "      <td>0.0903</td>\n",
       "      <td>...</td>\n",
       "      <td>0.1312</td>\n",
       "      <td>0.1582</td>\n",
       "      <td>0.0270</td>\n",
       "      <td>0.0884</td>\n",
       "      <td>0.2517</td>\n",
       "      <td>0.1633</td>\n",
       "      <td>0.0903</td>\n",
       "      <td>0.2517</td>\n",
       "      <td>0.1614</td>\n",
       "      <td>0.0818</td>\n",
       "    </tr>\n",
       "  </tbody>\n",
       "</table>\n",
       "<p>5 rows × 34 columns</p>\n",
       "</div>"
      ],
      "text/plain": [
       "  subject  sessionIndex  rep  H.period  DD.period.t  UD.period.t     H.t  \\\n",
       "0    s002             1    1    0.1491       0.3979       0.2488  0.1069   \n",
       "1    s002             1    2    0.1111       0.3451       0.2340  0.0694   \n",
       "2    s002             1    3    0.1328       0.2072       0.0744  0.0731   \n",
       "3    s002             1    4    0.1291       0.2515       0.1224  0.1059   \n",
       "4    s002             1    5    0.1249       0.2317       0.1068  0.0895   \n",
       "\n",
       "   DD.t.i  UD.t.i     H.i  ...     H.a  DD.a.n  UD.a.n     H.n  DD.n.l  \\\n",
       "0  0.1674  0.0605  0.1169  ...  0.1349  0.1484  0.0135  0.0932  0.3515   \n",
       "1  0.1283  0.0589  0.0908  ...  0.1412  0.2558  0.1146  0.1146  0.2642   \n",
       "2  0.1291  0.0560  0.0821  ...  0.1621  0.2332  0.0711  0.1172  0.2705   \n",
       "3  0.2495  0.1436  0.1040  ...  0.1457  0.1629  0.0172  0.0866  0.2341   \n",
       "4  0.1676  0.0781  0.0903  ...  0.1312  0.1582  0.0270  0.0884  0.2517   \n",
       "\n",
       "   UD.n.l     H.l  DD.l.Return  UD.l.Return  H.Return  \n",
       "0  0.2583  0.1338       0.3509       0.2171    0.0742  \n",
       "1  0.1496  0.0839       0.2756       0.1917    0.0747  \n",
       "2  0.1533  0.1085       0.2847       0.1762    0.0945  \n",
       "3  0.1475  0.0845       0.3232       0.2387    0.0813  \n",
       "4  0.1633  0.0903       0.2517       0.1614    0.0818  \n",
       "\n",
       "[5 rows x 34 columns]"
      ]
     },
     "execution_count": 3,
     "metadata": {},
     "output_type": "execute_result"
    }
   ],
   "source": [
    "data.head()"
   ]
  },
  {
   "cell_type": "code",
   "execution_count": 4,
   "metadata": {},
   "outputs": [
    {
     "data": {
      "text/plain": [
       "(20400, 34)"
      ]
     },
     "execution_count": 4,
     "metadata": {},
     "output_type": "execute_result"
    }
   ],
   "source": [
    "data.shape"
   ]
  },
  {
   "cell_type": "code",
   "execution_count": 5,
   "metadata": {},
   "outputs": [],
   "source": [
    "X = data.iloc[:,3:]\n",
    "y = data.iloc[:,0]"
   ]
  },
  {
   "cell_type": "code",
   "execution_count": 6,
   "metadata": {},
   "outputs": [
    {
     "name": "stdout",
     "output_type": "stream",
     "text": [
      "(20400, 51)\n"
     ]
    }
   ],
   "source": [
    "y_onehot = pd.get_dummies(y).values\n",
    "\n",
    "print(y_onehot.shape)"
   ]
  },
  {
   "cell_type": "code",
   "execution_count": 7,
   "metadata": {},
   "outputs": [],
   "source": [
    "from sklearn.model_selection import train_test_split\n",
    "import random"
   ]
  },
  {
   "cell_type": "code",
   "execution_count": 8,
   "metadata": {},
   "outputs": [
    {
     "name": "stdout",
     "output_type": "stream",
     "text": [
      "(12240, 31)\n",
      "(12240, 51)\n",
      "(8160, 31)\n",
      "(8160, 51)\n"
     ]
    }
   ],
   "source": [
    "random.seed(42)\n",
    "X_train, X_test, y_train, y_test = train_test_split(X, y_onehot, test_size=0.4, random_state=0, stratify=y_onehot)\n",
    "\n",
    "print(X_train.shape)\n",
    "print(y_train.shape)\n",
    "print(X_test.shape)\n",
    "print(y_test.shape)"
   ]
  },
  {
   "cell_type": "code",
   "execution_count": 9,
   "metadata": {},
   "outputs": [
    {
     "data": {
      "text/plain": [
       "array([[0, 0, 0, ..., 0, 0, 0],\n",
       "       [0, 0, 0, ..., 0, 0, 0],\n",
       "       [0, 0, 0, ..., 0, 0, 1],\n",
       "       ...,\n",
       "       [0, 0, 0, ..., 0, 0, 0],\n",
       "       [0, 0, 0, ..., 0, 0, 0],\n",
       "       [0, 0, 0, ..., 0, 1, 0]], dtype=uint8)"
      ]
     },
     "execution_count": 9,
     "metadata": {},
     "output_type": "execute_result"
    }
   ],
   "source": [
    "y_test"
   ]
  },
  {
   "cell_type": "code",
   "execution_count": 10,
   "metadata": {},
   "outputs": [],
   "source": [
    "# #preparing the data for training\n",
    "# n=400  #number of samples to be considered per user\n",
    "# tS = 0.6 #training %\n",
    "# tot = 51 #number of users\n",
    "\n",
    "# X_train = np.zeros((int(tS*n)*tot,31))\n",
    "# y_train = np.zeros((int(tS*n)*tot,tot))\n",
    "# X_test = np.zeros((int((1-tS)*n)*tot,31))\n",
    "# y_test = np.zeros((int((1-tS)*n)*tot,tot))\n",
    "\n",
    "# for i in range(1,tot):\n",
    "#     #print((i-1)*n,n+(i-1)*n)\n",
    "#     a = X.iloc[(i-1)*n:n+(i-1)*n,:]\n",
    "#     b = y_onehot[(i-1)*n:n+(i-1)*n,:]\n",
    "#     X_tn, X_tt, y_tn, y_tt = train_test_split(a, b, test_size=0.4,random_state=42,shuffle=True)\n",
    "#     s = int(0.6*n)\n",
    "#     s1 = int(0.4*n)\n",
    "#     #print(y_tn)\n",
    "#     X_train[(i-1)*s:s+(i-1)*s,:] = X_tn\n",
    "#     y_train[(i-1)*s:s+(i-1)*s,:] = y_tn\n",
    "#     X_test[(i-1)*s1:s1+(i-1)*s1,:] = X_tt\n",
    "#     y_test[(i-1)*s1:s1+(i-1)*s1,:] = y_tt\n",
    "    \n",
    "# print(X_train.shape)\n",
    "# print(y_train.shape)\n",
    "# print(X_test.shape)\n",
    "# print(y_test.shape)\n"
   ]
  },
  {
   "cell_type": "code",
   "execution_count": 11,
   "metadata": {},
   "outputs": [],
   "source": [
    "import tensorflow as tf\n",
    "from tensorflow.keras.models import Sequential\n",
    "from tensorflow.keras.layers import Dense, BatchNormalization,Dropout,Activation"
   ]
  },
  {
   "cell_type": "code",
   "execution_count": 12,
   "metadata": {},
   "outputs": [
    {
     "name": "stdout",
     "output_type": "stream",
     "text": [
      "Model: \"sequential\"\n",
      "_________________________________________________________________\n",
      "Layer (type)                 Output Shape              Param #   \n",
      "=================================================================\n",
      "dense (Dense)                (None, 30)                960       \n",
      "_________________________________________________________________\n",
      "batch_normalization (BatchNo (None, 30)                120       \n",
      "_________________________________________________________________\n",
      "activation (Activation)      (None, 30)                0         \n",
      "_________________________________________________________________\n",
      "dense_1 (Dense)              (None, 25)                775       \n",
      "_________________________________________________________________\n",
      "batch_normalization_1 (Batch (None, 25)                100       \n",
      "_________________________________________________________________\n",
      "activation_1 (Activation)    (None, 25)                0         \n",
      "_________________________________________________________________\n",
      "dense_2 (Dense)              (None, 51)                1326      \n",
      "=================================================================\n",
      "Total params: 3,281\n",
      "Trainable params: 3,171\n",
      "Non-trainable params: 110\n",
      "_________________________________________________________________\n"
     ]
    }
   ],
   "source": [
    "model = Sequential() \n",
    "\n",
    "model.add( Dense(units=30,input_shape=(31,)))\n",
    "model.add(BatchNormalization())\n",
    "model.add(Activation('relu'))\n",
    "model.add(Dense(units=25))\n",
    "model.add(BatchNormalization())\n",
    "model.add(Activation('relu'))\n",
    "\n",
    "model.add(Dense(units =51,activation=\"softmax\"))\n",
    "\n",
    "model.summary()"
   ]
  },
  {
   "cell_type": "code",
   "execution_count": null,
   "metadata": {},
   "outputs": [],
   "source": []
  },
  {
   "cell_type": "code",
   "execution_count": 13,
   "metadata": {},
   "outputs": [
    {
     "name": "stdout",
     "output_type": "stream",
     "text": [
      "WARNING:tensorflow:Falling back from v2 loop because of error: Failed to find data adapter that can handle input: <class 'pandas.core.frame.DataFrame'>, <class 'NoneType'>\n",
      "Train on 9792 samples, validate on 2448 samples\n",
      "Epoch 1/100\n",
      "9792/9792 [==============================] - 3s 308us/sample - loss: 0.0182 - accuracy: 0.1486 - val_loss: 0.0174 - val_accuracy: 0.2443\n",
      "Epoch 2/100\n",
      "9792/9792 [==============================] - 2s 255us/sample - loss: 0.0151 - accuracy: 0.3713 - val_loss: 0.0138 - val_accuracy: 0.4943\n",
      "Epoch 3/100\n",
      "9792/9792 [==============================] - 2s 230us/sample - loss: 0.0122 - accuracy: 0.5261 - val_loss: 0.0106 - val_accuracy: 0.6471\n",
      "Epoch 4/100\n",
      "9792/9792 [==============================] - 3s 274us/sample - loss: 0.0103 - accuracy: 0.6151 - val_loss: 0.0089 - val_accuracy: 0.6916\n",
      "Epoch 5/100\n",
      "9792/9792 [==============================] - 3s 272us/sample - loss: 0.0090 - accuracy: 0.6706 - val_loss: 0.0094 - val_accuracy: 0.6712\n",
      "Epoch 6/100\n",
      "9792/9792 [==============================] - 3s 268us/sample - loss: 0.0082 - accuracy: 0.7023 - val_loss: 0.0073 - val_accuracy: 0.7373\n",
      "Epoch 7/100\n",
      "9792/9792 [==============================] - 2s 247us/sample - loss: 0.0076 - accuracy: 0.7258 - val_loss: 0.0069 - val_accuracy: 0.7533\n",
      "Epoch 8/100\n",
      "9792/9792 [==============================] - 2s 232us/sample - loss: 0.0071 - accuracy: 0.7393 - val_loss: 0.0065 - val_accuracy: 0.7672\n",
      "Epoch 9/100\n",
      "9792/9792 [==============================] - 3s 263us/sample - loss: 0.0069 - accuracy: 0.7510 - val_loss: 0.0062 - val_accuracy: 0.7802\n",
      "Epoch 10/100\n",
      "9792/9792 [==============================] - 3s 263us/sample - loss: 0.0066 - accuracy: 0.7593 - val_loss: 0.0063 - val_accuracy: 0.7786\n",
      "Epoch 11/100\n",
      "9792/9792 [==============================] - 3s 258us/sample - loss: 0.0063 - accuracy: 0.7697 - val_loss: 0.0053 - val_accuracy: 0.8141\n",
      "Epoch 12/100\n",
      "9792/9792 [==============================] - 3s 259us/sample - loss: 0.0061 - accuracy: 0.7790 - val_loss: 0.0056 - val_accuracy: 0.8100\n",
      "Epoch 13/100\n",
      "9792/9792 [==============================] - 2s 211us/sample - loss: 0.0061 - accuracy: 0.7829 - val_loss: 0.0053 - val_accuracy: 0.8125\n",
      "Epoch 14/100\n",
      "9792/9792 [==============================] - 3s 258us/sample - loss: 0.0058 - accuracy: 0.7919 - val_loss: 0.0049 - val_accuracy: 0.8337\n",
      "Epoch 15/100\n",
      "9792/9792 [==============================] - 3s 288us/sample - loss: 0.0056 - accuracy: 0.7997 - val_loss: 0.0051 - val_accuracy: 0.8215\n",
      "Epoch 16/100\n",
      "9792/9792 [==============================] - 3s 292us/sample - loss: 0.0056 - accuracy: 0.7968 - val_loss: 0.0050 - val_accuracy: 0.8211\n",
      "Epoch 17/100\n",
      "9792/9792 [==============================] - 3s 294us/sample - loss: 0.0054 - accuracy: 0.8081 - val_loss: 0.0048 - val_accuracy: 0.8370\n",
      "Epoch 18/100\n",
      "9792/9792 [==============================] - 3s 321us/sample - loss: 0.0054 - accuracy: 0.8085 - val_loss: 0.0049 - val_accuracy: 0.8297\n",
      "Epoch 19/100\n",
      "9792/9792 [==============================] - 3s 287us/sample - loss: 0.0053 - accuracy: 0.8109 - val_loss: 0.0048 - val_accuracy: 0.8342\n",
      "Epoch 20/100\n",
      "9792/9792 [==============================] - 3s 294us/sample - loss: 0.0051 - accuracy: 0.8187 - val_loss: 0.0049 - val_accuracy: 0.8276\n",
      "Epoch 21/100\n",
      "9792/9792 [==============================] - 3s 292us/sample - loss: 0.0050 - accuracy: 0.8203 - val_loss: 0.0046 - val_accuracy: 0.8333\n",
      "Epoch 22/100\n",
      "9792/9792 [==============================] - 3s 303us/sample - loss: 0.0049 - accuracy: 0.8272 - val_loss: 0.0045 - val_accuracy: 0.8399\n",
      "Epoch 23/100\n",
      "9792/9792 [==============================] - 3s 340us/sample - loss: 0.0049 - accuracy: 0.8247 - val_loss: 0.0046 - val_accuracy: 0.8431\n",
      "Epoch 24/100\n",
      "9792/9792 [==============================] - 3s 291us/sample - loss: 0.0049 - accuracy: 0.8266 - val_loss: 0.0042 - val_accuracy: 0.8497\n",
      "Epoch 25/100\n",
      "9792/9792 [==============================] - 2s 226us/sample - loss: 0.0048 - accuracy: 0.8303 - val_loss: 0.0045 - val_accuracy: 0.8399\n",
      "Epoch 26/100\n",
      "9792/9792 [==============================] - 3s 291us/sample - loss: 0.0048 - accuracy: 0.8337 - val_loss: 0.0039 - val_accuracy: 0.8644\n",
      "Epoch 27/100\n",
      "9792/9792 [==============================] - 3s 294us/sample - loss: 0.0047 - accuracy: 0.8369 - val_loss: 0.0042 - val_accuracy: 0.8546\n",
      "Epoch 28/100\n",
      "9792/9792 [==============================] - 3s 320us/sample - loss: 0.0046 - accuracy: 0.8368 - val_loss: 0.0045 - val_accuracy: 0.8386\n",
      "Epoch 29/100\n",
      "9792/9792 [==============================] - 3s 284us/sample - loss: 0.0047 - accuracy: 0.8333 - val_loss: 0.0041 - val_accuracy: 0.8603\n",
      "Epoch 30/100\n",
      "9792/9792 [==============================] - 3s 288us/sample - loss: 0.0047 - accuracy: 0.8362 - val_loss: 0.0041 - val_accuracy: 0.8599\n",
      "Epoch 31/100\n",
      "9792/9792 [==============================] - 3s 292us/sample - loss: 0.0045 - accuracy: 0.8401 - val_loss: 0.0045 - val_accuracy: 0.8362\n",
      "Epoch 32/100\n",
      "9792/9792 [==============================] - 2s 201us/sample - loss: 0.0044 - accuracy: 0.8418 - val_loss: 0.0039 - val_accuracy: 0.8619\n",
      "Epoch 33/100\n",
      "9792/9792 [==============================] - 2s 221us/sample - loss: 0.0044 - accuracy: 0.8450 - val_loss: 0.0044 - val_accuracy: 0.8497\n",
      "Epoch 34/100\n",
      "9792/9792 [==============================] - 3s 309us/sample - loss: 0.0044 - accuracy: 0.8426 - val_loss: 0.0041 - val_accuracy: 0.8517\n",
      "Epoch 35/100\n",
      "9792/9792 [==============================] - 3s 298us/sample - loss: 0.0044 - accuracy: 0.8423 - val_loss: 0.0039 - val_accuracy: 0.8632\n",
      "Epoch 36/100\n",
      "9792/9792 [==============================] - 3s 270us/sample - loss: 0.0045 - accuracy: 0.8431 - val_loss: 0.0042 - val_accuracy: 0.8542\n",
      "Epoch 37/100\n",
      "9792/9792 [==============================] - 3s 349us/sample - loss: 0.0045 - accuracy: 0.8395 - val_loss: 0.0043 - val_accuracy: 0.8542\n",
      "Epoch 38/100\n",
      "9792/9792 [==============================] - 3s 293us/sample - loss: 0.0044 - accuracy: 0.8463 - val_loss: 0.0036 - val_accuracy: 0.8779\n",
      "Epoch 39/100\n",
      "9792/9792 [==============================] - 3s 301us/sample - loss: 0.0044 - accuracy: 0.8459 - val_loss: 0.0038 - val_accuracy: 0.8705\n",
      "Epoch 40/100\n",
      "9792/9792 [==============================] - 3s 299us/sample - loss: 0.0045 - accuracy: 0.8408 - val_loss: 0.0037 - val_accuracy: 0.8770\n",
      "Epoch 41/100\n",
      "9792/9792 [==============================] - 3s 297us/sample - loss: 0.0043 - accuracy: 0.8472 - val_loss: 0.0037 - val_accuracy: 0.8770\n",
      "Epoch 42/100\n",
      "9792/9792 [==============================] - 3s 342us/sample - loss: 0.0043 - accuracy: 0.8482 - val_loss: 0.0038 - val_accuracy: 0.8652\n",
      "Epoch 43/100\n",
      "9792/9792 [==============================] - 3s 321us/sample - loss: 0.0042 - accuracy: 0.8528 - val_loss: 0.0039 - val_accuracy: 0.8611\n",
      "Epoch 44/100\n",
      "9792/9792 [==============================] - 3s 293us/sample - loss: 0.0042 - accuracy: 0.8496 - val_loss: 0.0038 - val_accuracy: 0.8656\n",
      "Epoch 45/100\n",
      "9792/9792 [==============================] - 3s 285us/sample - loss: 0.0041 - accuracy: 0.8559 - val_loss: 0.0047 - val_accuracy: 0.8321\n",
      "Epoch 46/100\n",
      "9792/9792 [==============================] - 3s 300us/sample - loss: 0.0042 - accuracy: 0.8506 - val_loss: 0.0042 - val_accuracy: 0.8533\n",
      "Epoch 47/100\n",
      "9792/9792 [==============================] - 3s 295us/sample - loss: 0.0041 - accuracy: 0.8554 - val_loss: 0.0037 - val_accuracy: 0.8742\n",
      "Epoch 48/100\n",
      "9792/9792 [==============================] - 3s 296us/sample - loss: 0.0041 - accuracy: 0.8571 - val_loss: 0.0040 - val_accuracy: 0.8583\n",
      "Epoch 49/100\n",
      "9792/9792 [==============================] - 3s 296us/sample - loss: 0.0041 - accuracy: 0.8597 - val_loss: 0.0040 - val_accuracy: 0.8623\n",
      "Epoch 50/100\n",
      "9792/9792 [==============================] - 2s 219us/sample - loss: 0.0042 - accuracy: 0.8518 - val_loss: 0.0037 - val_accuracy: 0.8681\n",
      "Epoch 51/100\n",
      "9792/9792 [==============================] - 3s 337us/sample - loss: 0.0041 - accuracy: 0.8557 - val_loss: 0.0040 - val_accuracy: 0.8574\n",
      "Epoch 52/100\n",
      "9792/9792 [==============================] - 3s 353us/sample - loss: 0.0041 - accuracy: 0.8542 - val_loss: 0.0041 - val_accuracy: 0.8550\n",
      "Epoch 53/100\n",
      "9792/9792 [==============================] - 3s 280us/sample - loss: 0.0041 - accuracy: 0.8557 - val_loss: 0.0041 - val_accuracy: 0.8533\n",
      "Epoch 54/100\n",
      "9792/9792 [==============================] - 3s 299us/sample - loss: 0.0041 - accuracy: 0.8536 - val_loss: 0.0039 - val_accuracy: 0.8660\n",
      "Epoch 55/100\n",
      "9792/9792 [==============================] - 3s 326us/sample - loss: 0.0040 - accuracy: 0.8587 - val_loss: 0.0038 - val_accuracy: 0.8681\n",
      "Epoch 56/100\n",
      "9792/9792 [==============================] - 3s 308us/sample - loss: 0.0040 - accuracy: 0.8618 - val_loss: 0.0041 - val_accuracy: 0.8542\n",
      "Epoch 57/100\n",
      "9792/9792 [==============================] - 3s 302us/sample - loss: 0.0040 - accuracy: 0.8620 - val_loss: 0.0038 - val_accuracy: 0.8668\n",
      "Epoch 58/100\n",
      "9792/9792 [==============================] - 3s 338us/sample - loss: 0.0039 - accuracy: 0.8608 - val_loss: 0.0040 - val_accuracy: 0.8627\n",
      "Epoch 59/100\n",
      "9792/9792 [==============================] - 3s 346us/sample - loss: 0.0040 - accuracy: 0.8595 - val_loss: 0.0044 - val_accuracy: 0.8513\n",
      "Epoch 60/100\n",
      "9792/9792 [==============================] - 3s 318us/sample - loss: 0.0041 - accuracy: 0.8563 - val_loss: 0.0037 - val_accuracy: 0.8701\n",
      "Epoch 61/100\n",
      "9792/9792 [==============================] - 3s 330us/sample - loss: 0.0040 - accuracy: 0.8589 - val_loss: 0.0036 - val_accuracy: 0.8742\n",
      "Epoch 62/100\n",
      "9792/9792 [==============================] - 3s 302us/sample - loss: 0.0040 - accuracy: 0.8584 - val_loss: 0.0040 - val_accuracy: 0.8591\n",
      "Epoch 63/100\n",
      "9792/9792 [==============================] - 3s 316us/sample - loss: 0.0039 - accuracy: 0.8597 - val_loss: 0.0038 - val_accuracy: 0.8664\n",
      "Epoch 64/100\n",
      "9792/9792 [==============================] - 3s 307us/sample - loss: 0.0039 - accuracy: 0.8647 - val_loss: 0.0034 - val_accuracy: 0.8803\n",
      "Epoch 65/100\n",
      "9792/9792 [==============================] - 3s 338us/sample - loss: 0.0040 - accuracy: 0.8610 - val_loss: 0.0046 - val_accuracy: 0.8407\n",
      "Epoch 66/100\n",
      "9792/9792 [==============================] - 2s 213us/sample - loss: 0.0039 - accuracy: 0.8614 - val_loss: 0.0035 - val_accuracy: 0.8762\n",
      "Epoch 67/100\n",
      "9792/9792 [==============================] - 2s 195us/sample - loss: 0.0040 - accuracy: 0.8602 - val_loss: 0.0038 - val_accuracy: 0.8713\n",
      "Epoch 68/100\n",
      "9792/9792 [==============================] - 2s 249us/sample - loss: 0.0039 - accuracy: 0.8573 - val_loss: 0.0035 - val_accuracy: 0.8770\n",
      "Epoch 69/100\n",
      "9792/9792 [==============================] - 3s 282us/sample - loss: 0.0039 - accuracy: 0.8613 - val_loss: 0.0037 - val_accuracy: 0.8766\n",
      "Epoch 70/100\n",
      "9792/9792 [==============================] - 3s 272us/sample - loss: 0.0039 - accuracy: 0.8641 - val_loss: 0.0035 - val_accuracy: 0.8770\n",
      "Epoch 71/100\n",
      "9792/9792 [==============================] - 3s 295us/sample - loss: 0.0040 - accuracy: 0.8601 - val_loss: 0.0034 - val_accuracy: 0.8770\n",
      "Epoch 72/100\n",
      "9792/9792 [==============================] - 3s 315us/sample - loss: 0.0039 - accuracy: 0.8642 - val_loss: 0.0039 - val_accuracy: 0.8656\n",
      "Epoch 73/100\n",
      "9792/9792 [==============================] - 3s 281us/sample - loss: 0.0039 - accuracy: 0.8654 - val_loss: 0.0038 - val_accuracy: 0.8660\n",
      "Epoch 74/100\n",
      "9792/9792 [==============================] - 2s 220us/sample - loss: 0.0039 - accuracy: 0.8618 - val_loss: 0.0041 - val_accuracy: 0.8558\n",
      "Epoch 75/100\n",
      "9792/9792 [==============================] - 2s 237us/sample - loss: 0.0039 - accuracy: 0.8631 - val_loss: 0.0038 - val_accuracy: 0.8693\n",
      "Epoch 76/100\n",
      "9792/9792 [==============================] - 3s 270us/sample - loss: 0.0039 - accuracy: 0.8658 - val_loss: 0.0036 - val_accuracy: 0.8791\n",
      "Epoch 77/100\n",
      "9792/9792 [==============================] - 3s 299us/sample - loss: 0.0038 - accuracy: 0.8651 - val_loss: 0.0035 - val_accuracy: 0.8779\n",
      "Epoch 78/100\n",
      "9792/9792 [==============================] - 3s 328us/sample - loss: 0.0037 - accuracy: 0.8686 - val_loss: 0.0038 - val_accuracy: 0.8693\n",
      "Epoch 79/100\n",
      "9792/9792 [==============================] - 3s 300us/sample - loss: 0.0038 - accuracy: 0.8661 - val_loss: 0.0035 - val_accuracy: 0.8734\n",
      "Epoch 80/100\n",
      "9792/9792 [==============================] - 3s 347us/sample - loss: 0.0038 - accuracy: 0.8666 - val_loss: 0.0039 - val_accuracy: 0.8627\n",
      "Epoch 81/100\n",
      "9792/9792 [==============================] - 3s 353us/sample - loss: 0.0039 - accuracy: 0.8637 - val_loss: 0.0033 - val_accuracy: 0.8897\n",
      "Epoch 82/100\n",
      "9792/9792 [==============================] - 3s 292us/sample - loss: 0.0038 - accuracy: 0.8652 - val_loss: 0.0039 - val_accuracy: 0.8644\n",
      "Epoch 83/100\n",
      "9792/9792 [==============================] - 3s 310us/sample - loss: 0.0036 - accuracy: 0.8736 - val_loss: 0.0036 - val_accuracy: 0.8738\n",
      "Epoch 84/100\n",
      "9792/9792 [==============================] - 3s 314us/sample - loss: 0.0038 - accuracy: 0.8651 - val_loss: 0.0035 - val_accuracy: 0.8811\n",
      "Epoch 85/100\n",
      "9792/9792 [==============================] - 3s 342us/sample - loss: 0.0038 - accuracy: 0.8669 - val_loss: 0.0038 - val_accuracy: 0.8681\n",
      "Epoch 86/100\n",
      "9792/9792 [==============================] - 3s 321us/sample - loss: 0.0038 - accuracy: 0.8680 - val_loss: 0.0037 - val_accuracy: 0.8676\n",
      "Epoch 87/100\n",
      "9792/9792 [==============================] - 3s 302us/sample - loss: 0.0038 - accuracy: 0.8663 - val_loss: 0.0034 - val_accuracy: 0.8799\n",
      "Epoch 88/100\n",
      "9792/9792 [==============================] - 3s 300us/sample - loss: 0.0037 - accuracy: 0.8707 - val_loss: 0.0036 - val_accuracy: 0.8681\n",
      "Epoch 89/100\n",
      "9792/9792 [==============================] - 3s 315us/sample - loss: 0.0037 - accuracy: 0.8692 - val_loss: 0.0036 - val_accuracy: 0.8758\n",
      "Epoch 90/100\n",
      "9792/9792 [==============================] - 3s 257us/sample - loss: 0.0036 - accuracy: 0.8746 - val_loss: 0.0033 - val_accuracy: 0.8828\n",
      "Epoch 91/100\n",
      "9792/9792 [==============================] - 3s 278us/sample - loss: 0.0037 - accuracy: 0.8693 - val_loss: 0.0036 - val_accuracy: 0.8738\n",
      "Epoch 92/100\n",
      "9792/9792 [==============================] - 3s 296us/sample - loss: 0.0037 - accuracy: 0.8702 - val_loss: 0.0036 - val_accuracy: 0.8734\n",
      "Epoch 93/100\n",
      "9792/9792 [==============================] - 3s 308us/sample - loss: 0.0037 - accuracy: 0.8723 - val_loss: 0.0039 - val_accuracy: 0.8599\n",
      "Epoch 94/100\n",
      "9792/9792 [==============================] - 3s 343us/sample - loss: 0.0037 - accuracy: 0.8681 - val_loss: 0.0039 - val_accuracy: 0.8611\n",
      "Epoch 95/100\n",
      "9792/9792 [==============================] - 3s 286us/sample - loss: 0.0037 - accuracy: 0.8705 - val_loss: 0.0036 - val_accuracy: 0.8734\n",
      "Epoch 96/100\n",
      "9792/9792 [==============================] - 3s 294us/sample - loss: 0.0037 - accuracy: 0.8710 - val_loss: 0.0035 - val_accuracy: 0.8799\n",
      "Epoch 97/100\n",
      "9792/9792 [==============================] - 3s 296us/sample - loss: 0.0037 - accuracy: 0.8667 - val_loss: 0.0039 - val_accuracy: 0.8636\n",
      "Epoch 98/100\n",
      "9792/9792 [==============================] - 3s 295us/sample - loss: 0.0037 - accuracy: 0.8684 - val_loss: 0.0037 - val_accuracy: 0.8738\n",
      "Epoch 99/100\n",
      "9792/9792 [==============================] - 3s 299us/sample - loss: 0.0038 - accuracy: 0.8685 - val_loss: 0.0031 - val_accuracy: 0.8938\n",
      "Epoch 100/100\n",
      "9792/9792 [==============================] - 3s 339us/sample - loss: 0.0037 - accuracy: 0.8721 - val_loss: 0.0034 - val_accuracy: 0.8828\n"
     ]
    }
   ],
   "source": [
    "model.compile(loss='mean_squared_error',optimizer='adam', metrics = ['accuracy'])\n",
    "history = model.fit(X_train,y_train,epochs=100,batch_size=20,validation_split=0.2)"
   ]
  },
  {
   "cell_type": "code",
   "execution_count": 14,
   "metadata": {},
   "outputs": [
    {
     "data": {
      "image/png": "[encoded data removed]",
      "text/plain": [
       "<Figure size 432x288 with 1 Axes>"
      ]
     },
     "metadata": {
      "needs_background": "light"
     },
     "output_type": "display_data"
    },
    {
     "data": {
      "image/png": "[encoded data removed]",
      "text/plain": [
       "<Figure size 432x288 with 1 Axes>"
      ]
     },
     "metadata": {
      "needs_background": "light"
     },
     "output_type": "display_data"
    }
   ],
   "source": [
    "plt.plot(history.history['accuracy'])\n",
    "plt.plot(history.history['val_accuracy'])\n",
    "plt.title('model accuracy')\n",
    "plt.ylabel('accuracy')\n",
    "plt.xlabel('epoch')\n",
    "plt.legend(['train', 'val'], loc='upper left')\n",
    "plt.show()\n",
    "# Summarize history for loss\n",
    "plt.plot(history.history['loss'])\n",
    "plt.plot(history.history['val_loss'])\n",
    "plt.title('model loss')\n",
    "plt.ylabel('loss')\n",
    "plt.xlabel('epoch')\n",
    "plt.legend(['train', 'val'], loc='upper left')\n",
    "plt.show()"
   ]
  },
  {
   "cell_type": "code",
   "execution_count": 15,
   "metadata": {},
   "outputs": [
    {
     "name": "stdout",
     "output_type": "stream",
     "text": [
      "WARNING:tensorflow:Falling back from v2 loop because of error: Failed to find data adapter that can handle input: <class 'pandas.core.frame.DataFrame'>, <class 'NoneType'>\n"
     ]
    },
    {
     "data": {
      "text/plain": [
       "0.8835784"
      ]
     },
     "execution_count": 15,
     "metadata": {},
     "output_type": "execute_result"
    }
   ],
   "source": [
    "model.evaluate(X_test, y_test,verbose=False)[1]"
   ]
  },
  {
   "cell_type": "code",
   "execution_count": 29,
   "metadata": {},
   "outputs": [],
   "source": [
    "\n",
    "from sklearn.metrics import roc_curve, auc,confusion_matrix"
   ]
  },
  {
   "cell_type": "code",
   "execution_count": 27,
   "metadata": {},
   "outputs": [
    {
     "name": "stdout",
     "output_type": "stream",
     "text": [
      "WARNING:tensorflow:Falling back from v2 loop because of error: Failed to find data adapter that can handle input: <class 'pandas.core.frame.DataFrame'>, <class 'NoneType'>\n",
      "[[121   1   2 ...   0   0   0]\n",
      " [  1 137   3 ...   0   0   0]\n",
      " [  1   2 142 ...   0   0   0]\n",
      " ...\n",
      " [  3   0   0 ... 146   2   0]\n",
      " [  2   0   0 ...   3 138   0]\n",
      " [  0   0   0 ...   0   0 120]]\n"
     ]
    }
   ],
   "source": [
    "pred = model.predict(X_test)\n",
    "y_hat = np.asarray([np.argmax(line) for line in pred])\n",
    "y_test1 = np.asarray([np.argmax(line) for line in y_test])\n",
    "matrix = confusion_matrix(y_test1,y_hat )\n",
    "print(matrix)"
   ]
  },
  {
   "cell_type": "code",
   "execution_count": 31,
   "metadata": {},
   "outputs": [
    {
     "ename": "ValueError",
     "evalue": "multiclass format is not supported",
     "output_type": "error",
     "traceback": [
      "\u001b[1;31m---------------------------------------------------------------------------\u001b[0m",
      "\u001b[1;31mValueError\u001b[0m                                Traceback (most recent call last)",
      "\u001b[1;32m<ipython-input-31-442d9e81ce3c>\u001b[0m in \u001b[0;36m<module>\u001b[1;34m\u001b[0m\n\u001b[1;32m----> 1\u001b[1;33m \u001b[0mfpr2\u001b[0m\u001b[1;33m,\u001b[0m \u001b[0mtpr2\u001b[0m\u001b[1;33m,\u001b[0m \u001b[0mthreshold\u001b[0m \u001b[1;33m=\u001b[0m \u001b[0mroc_curve\u001b[0m\u001b[1;33m(\u001b[0m\u001b[0my_test1\u001b[0m\u001b[1;33m,\u001b[0m\u001b[0my_hat\u001b[0m\u001b[1;33m)\u001b[0m\u001b[1;33m\u001b[0m\u001b[1;33m\u001b[0m\u001b[0m\n\u001b[0m",
      "\u001b[1;32m~\\.conda\\envs\\data-x\\lib\\site-packages\\sklearn\\metrics\\ranking.py\u001b[0m in \u001b[0;36mroc_curve\u001b[1;34m(y_true, y_score, pos_label, sample_weight, drop_intermediate)\u001b[0m\n\u001b[0;32m    620\u001b[0m     \"\"\"\n\u001b[0;32m    621\u001b[0m     fps, tps, thresholds = _binary_clf_curve(\n\u001b[1;32m--> 622\u001b[1;33m         y_true, y_score, pos_label=pos_label, sample_weight=sample_weight)\n\u001b[0m\u001b[0;32m    623\u001b[0m \u001b[1;33m\u001b[0m\u001b[0m\n\u001b[0;32m    624\u001b[0m     \u001b[1;31m# Attempt to drop thresholds corresponding to points in between and\u001b[0m\u001b[1;33m\u001b[0m\u001b[1;33m\u001b[0m\u001b[1;33m\u001b[0m\u001b[0m\n",
      "\u001b[1;32m~\\.conda\\envs\\data-x\\lib\\site-packages\\sklearn\\metrics\\ranking.py\u001b[0m in \u001b[0;36m_binary_clf_curve\u001b[1;34m(y_true, y_score, pos_label, sample_weight)\u001b[0m\n\u001b[0;32m    394\u001b[0m     if not (y_type == \"binary\" or\n\u001b[0;32m    395\u001b[0m             (y_type == \"multiclass\" and pos_label is not None)):\n\u001b[1;32m--> 396\u001b[1;33m         \u001b[1;32mraise\u001b[0m \u001b[0mValueError\u001b[0m\u001b[1;33m(\u001b[0m\u001b[1;34m\"{0} format is not supported\"\u001b[0m\u001b[1;33m.\u001b[0m\u001b[0mformat\u001b[0m\u001b[1;33m(\u001b[0m\u001b[0my_type\u001b[0m\u001b[1;33m)\u001b[0m\u001b[1;33m)\u001b[0m\u001b[1;33m\u001b[0m\u001b[1;33m\u001b[0m\u001b[0m\n\u001b[0m\u001b[0;32m    397\u001b[0m \u001b[1;33m\u001b[0m\u001b[0m\n\u001b[0;32m    398\u001b[0m     \u001b[0mcheck_consistent_length\u001b[0m\u001b[1;33m(\u001b[0m\u001b[0my_true\u001b[0m\u001b[1;33m,\u001b[0m \u001b[0my_score\u001b[0m\u001b[1;33m,\u001b[0m \u001b[0msample_weight\u001b[0m\u001b[1;33m)\u001b[0m\u001b[1;33m\u001b[0m\u001b[1;33m\u001b[0m\u001b[0m\n",
      "\u001b[1;31mValueError\u001b[0m: multiclass format is not supported"
     ]
    }
   ],
   "source": [
    "fpr2, tpr2, threshold = roc_curve(y_test1,y_hat)"
   ]
  },
  {
   "cell_type": "code",
   "execution_count": null,
   "metadata": {},
   "outputs": [],
   "source": []
  }
 ],
 "metadata": {
  "kernelspec": {
   "display_name": "Python 3",
   "language": "python",
   "name": "python3"
  },
  "language_info": {
   "codemirror_mode": {
    "name": "ipython",
    "version": 3
   },
   "file_extension": ".py",
   "mimetype": "text/x-python",
   "name": "python",
   "nbconvert_exporter": "python",
   "pygments_lexer": "ipython3",
   "version": "3.6.9"
  }
 },
 "nbformat": 4,
 "nbformat_minor": 4
}
