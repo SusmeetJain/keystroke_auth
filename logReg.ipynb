{
 "cells": [
  {
   "cell_type": "code",
   "execution_count": 1,
   "metadata": {},
   "outputs": [],
   "source": [
    "import pandas as pd\n",
    "import numpy as np\n",
    "import matplotlib.pyplot as plt\n",
    "\n",
    "%matplotlib inline\n",
    "\n",
    "# Hide warnings\n",
    "import warnings\n",
    "warnings.filterwarnings('ignore')"
   ]
  },
  {
   "cell_type": "code",
   "execution_count": 2,
   "metadata": {},
   "outputs": [],
   "source": [
    "data = pd.read_csv(\"DSL-StrongPasswordData.csv\")"
   ]
  },
  {
   "cell_type": "code",
   "execution_count": 3,
   "metadata": {},
   "outputs": [],
   "source": [
    "X = data.iloc[:,3:]\n",
    "y = data.iloc[:,0]"
   ]
  },
  {
   "cell_type": "code",
   "execution_count": null,
   "metadata": {},
   "outputs": [],
   "source": []
  },
  {
   "cell_type": "code",
   "execution_count": 4,
   "metadata": {},
   "outputs": [
    {
     "name": "stdout",
     "output_type": "stream",
     "text": [
      "(20400, 51)\n"
     ]
    }
   ],
   "source": [
    "y_onehot = pd.get_dummies(y).values\n",
    "\n",
    "print(y_onehot.shape)"
   ]
  },
  {
   "cell_type": "code",
   "execution_count": 5,
   "metadata": {},
   "outputs": [],
   "source": [
    "from sklearn.model_selection import train_test_split\n",
    "import tensorflow as tf\n",
    "from tensorflow.keras.models import Sequential\n",
    "from tensorflow.keras.layers import Dense, BatchNormalization,Dropout,Activation\n",
    "import random"
   ]
  },
  {
   "cell_type": "code",
   "execution_count": 6,
   "metadata": {},
   "outputs": [
    {
     "name": "stdout",
     "output_type": "stream",
     "text": [
      "(12240, 31)\n",
      "(12240, 51)\n",
      "(8160, 31)\n",
      "(8160, 51)\n"
     ]
    }
   ],
   "source": [
    "random.seed(42)\n",
    "X_train, X_test, y_train, y_test = train_test_split(X, y_onehot, test_size=0.4, random_state=0, stratify=y_onehot)\n",
    "\n",
    "print(X_train.shape)\n",
    "print(y_train.shape)\n",
    "print(X_test.shape)\n",
    "print(y_test.shape)"
   ]
  },
  {
   "cell_type": "code",
   "execution_count": 7,
   "metadata": {},
   "outputs": [],
   "source": [
    "model = Sequential()\n",
    "\n",
    "model.add(Dense(units =51,input_shape=(31,),activation='softmax'))\n",
    "\n"
   ]
  },
  {
   "cell_type": "code",
   "execution_count": 8,
   "metadata": {},
   "outputs": [
    {
     "name": "stdout",
     "output_type": "stream",
     "text": [
      "Model: \"sequential\"\n",
      "_________________________________________________________________\n",
      "Layer (type)                 Output Shape              Param #   \n",
      "=================================================================\n",
      "dense (Dense)                (None, 51)                1632      \n",
      "=================================================================\n",
      "Total params: 1,632\n",
      "Trainable params: 1,632\n",
      "Non-trainable params: 0\n",
      "_________________________________________________________________\n"
     ]
    }
   ],
   "source": [
    "model.summary()"
   ]
  },
  {
   "cell_type": "code",
   "execution_count": 9,
   "metadata": {},
   "outputs": [],
   "source": [
    "#model.compile(loss='mean_squared_error',optimizer='adam', metrics = ['accuracy'])\n",
    "model.compile(optimizer='sgd',loss='categorical_crossentropy',metrics=['accuracy'])"
   ]
  },
  {
   "cell_type": "code",
   "execution_count": 10,
   "metadata": {},
   "outputs": [
    {
     "name": "stdout",
     "output_type": "stream",
     "text": [
      "WARNING:tensorflow:Falling back from v2 loop because of error: Failed to find data adapter that can handle input: <class 'pandas.core.frame.DataFrame'>, <class 'NoneType'>\n",
      "Train on 9792 samples, validate on 2448 samples\n",
      "Epoch 1/100\n",
      "9792/9792 [==============================] - 1s 144us/sample - loss: 3.9221 - accuracy: 0.0190 - val_loss: 3.9029 - val_accuracy: 0.0245\n",
      "Epoch 2/100\n",
      "9792/9792 [==============================] - 1s 111us/sample - loss: 3.8966 - accuracy: 0.0249 - val_loss: 3.8831 - val_accuracy: 0.0208\n",
      "Epoch 3/100\n",
      "9792/9792 [==============================] - 1s 113us/sample - loss: 3.8753 - accuracy: 0.0265 - val_loss: 3.8664 - val_accuracy: 0.0237\n",
      "Epoch 4/100\n",
      "9792/9792 [==============================] - 1s 111us/sample - loss: 3.8571 - accuracy: 0.0311 - val_loss: 3.8518 - val_accuracy: 0.0319\n",
      "Epoch 5/100\n",
      "9792/9792 [==============================] - 1s 112us/sample - loss: 3.8411 - accuracy: 0.0416 - val_loss: 3.8385 - val_accuracy: 0.0376\n",
      "Epoch 6/100\n",
      "9792/9792 [==============================] - 1s 111us/sample - loss: 3.8266 - accuracy: 0.0488 - val_loss: 3.8262 - val_accuracy: 0.0417\n",
      "Epoch 7/100\n",
      "9792/9792 [==============================] - 1s 110us/sample - loss: 3.8131 - accuracy: 0.0496 - val_loss: 3.8146 - val_accuracy: 0.0466\n",
      "Epoch 8/100\n",
      "9792/9792 [==============================] - 1s 110us/sample - loss: 3.8005 - accuracy: 0.0539 - val_loss: 3.8034 - val_accuracy: 0.0482\n",
      "Epoch 9/100\n",
      "9792/9792 [==============================] - 1s 110us/sample - loss: 3.7884 - accuracy: 0.0573 - val_loss: 3.7925 - val_accuracy: 0.0527\n",
      "Epoch 10/100\n",
      "9792/9792 [==============================] - 1s 119us/sample - loss: 3.7768 - accuracy: 0.0632 - val_loss: 3.7818 - val_accuracy: 0.0596\n",
      "Epoch 11/100\n",
      "9792/9792 [==============================] - 1s 112us/sample - loss: 3.7655 - accuracy: 0.0723 - val_loss: 3.7714 - val_accuracy: 0.0711\n",
      "Epoch 12/100\n",
      "9792/9792 [==============================] - 2s 155us/sample - loss: 3.7546 - accuracy: 0.0829 - val_loss: 3.7612 - val_accuracy: 0.0813\n",
      "Epoch 13/100\n",
      "9792/9792 [==============================] - 1s 152us/sample - loss: 3.7439 - accuracy: 0.0922 - val_loss: 3.7513 - val_accuracy: 0.0882\n",
      "Epoch 14/100\n",
      "9792/9792 [==============================] - 2s 165us/sample - loss: 3.7335 - accuracy: 0.0994 - val_loss: 3.7415 - val_accuracy: 0.0919\n",
      "Epoch 15/100\n",
      "9792/9792 [==============================] - 1s 117us/sample - loss: 3.7234 - accuracy: 0.1100 - val_loss: 3.7319 - val_accuracy: 0.1025\n",
      "Epoch 16/100\n",
      "9792/9792 [==============================] - 1s 144us/sample - loss: 3.7134 - accuracy: 0.1168 - val_loss: 3.7226 - val_accuracy: 0.1103\n",
      "Epoch 17/100\n",
      "9792/9792 [==============================] - 1s 133us/sample - loss: 3.7037 - accuracy: 0.1257 - val_loss: 3.7133 - val_accuracy: 0.1193\n",
      "Epoch 18/100\n",
      "9792/9792 [==============================] - 1s 149us/sample - loss: 3.6942 - accuracy: 0.1339 - val_loss: 3.7043 - val_accuracy: 0.1303\n",
      "Epoch 19/100\n",
      "9792/9792 [==============================] - 2s 167us/sample - loss: 3.6849 - accuracy: 0.1385 - val_loss: 3.6954 - val_accuracy: 0.1393\n",
      "Epoch 20/100\n",
      "9792/9792 [==============================] - 2s 172us/sample - loss: 3.6757 - accuracy: 0.1467 - val_loss: 3.6867 - val_accuracy: 0.1434\n",
      "Epoch 21/100\n",
      "9792/9792 [==============================] - 1s 130us/sample - loss: 3.6667 - accuracy: 0.1546 - val_loss: 3.6782 - val_accuracy: 0.1528\n",
      "Epoch 22/100\n",
      "9792/9792 [==============================] - 1s 129us/sample - loss: 3.6579 - accuracy: 0.1627 - val_loss: 3.6697 - val_accuracy: 0.1597\n",
      "Epoch 23/100\n",
      "9792/9792 [==============================] - 2s 157us/sample - loss: 3.6493 - accuracy: 0.1735 - val_loss: 3.6615 - val_accuracy: 0.1654\n",
      "Epoch 24/100\n",
      "9792/9792 [==============================] - 1s 108us/sample - loss: 3.6408 - accuracy: 0.1820 - val_loss: 3.6534 - val_accuracy: 0.1724\n",
      "Epoch 25/100\n",
      "9792/9792 [==============================] - 1s 140us/sample - loss: 3.6325 - accuracy: 0.1900 - val_loss: 3.6454 - val_accuracy: 0.1785\n",
      "Epoch 26/100\n",
      "9792/9792 [==============================] - 1s 125us/sample - loss: 3.6243 - accuracy: 0.1958 - val_loss: 3.6376 - val_accuracy: 0.1883\n",
      "Epoch 27/100\n",
      "9792/9792 [==============================] - 1s 112us/sample - loss: 3.6163 - accuracy: 0.2040 - val_loss: 3.6299 - val_accuracy: 0.1961\n",
      "Epoch 28/100\n",
      "9792/9792 [==============================] - 1s 114us/sample - loss: 3.6084 - accuracy: 0.2105 - val_loss: 3.6223 - val_accuracy: 0.2059\n",
      "Epoch 29/100\n",
      "9792/9792 [==============================] - 1s 115us/sample - loss: 3.6007 - accuracy: 0.2184 - val_loss: 3.6149 - val_accuracy: 0.2161\n",
      "Epoch 30/100\n",
      "9792/9792 [==============================] - 1s 117us/sample - loss: 3.5930 - accuracy: 0.2299 - val_loss: 3.6076 - val_accuracy: 0.2226\n",
      "Epoch 31/100\n",
      "9792/9792 [==============================] - 2s 168us/sample - loss: 3.5855 - accuracy: 0.2359 - val_loss: 3.6004 - val_accuracy: 0.2292\n",
      "Epoch 32/100\n",
      "9792/9792 [==============================] - 1s 125us/sample - loss: 3.5782 - accuracy: 0.2481 - val_loss: 3.5933 - val_accuracy: 0.2365\n",
      "Epoch 33/100\n",
      "9792/9792 [==============================] - 2s 202us/sample - loss: 3.5709 - accuracy: 0.2547 - val_loss: 3.5863 - val_accuracy: 0.2459\n",
      "Epoch 34/100\n",
      "9792/9792 [==============================] - 1s 128us/sample - loss: 3.5637 - accuracy: 0.2634 - val_loss: 3.5795 - val_accuracy: 0.2500\n",
      "Epoch 35/100\n",
      "9792/9792 [==============================] - 1s 129us/sample - loss: 3.5567 - accuracy: 0.2686 - val_loss: 3.5727 - val_accuracy: 0.2561\n",
      "Epoch 36/100\n",
      "9792/9792 [==============================] - 2s 171us/sample - loss: 3.5497 - accuracy: 0.2731 - val_loss: 3.5660 - val_accuracy: 0.2680\n",
      "Epoch 37/100\n",
      "9792/9792 [==============================] - 1s 132us/sample - loss: 3.5429 - accuracy: 0.2824 - val_loss: 3.5594 - val_accuracy: 0.2737\n",
      "Epoch 38/100\n",
      "9792/9792 [==============================] - 1s 140us/sample - loss: 3.5361 - accuracy: 0.2895 - val_loss: 3.5529 - val_accuracy: 0.2810\n",
      "Epoch 39/100\n",
      "9792/9792 [==============================] - 2s 217us/sample - loss: 3.5295 - accuracy: 0.2948 - val_loss: 3.5465 - val_accuracy: 0.2868\n",
      "Epoch 40/100\n",
      "9792/9792 [==============================] - 2s 165us/sample - loss: 3.5229 - accuracy: 0.2993 - val_loss: 3.5402 - val_accuracy: 0.2925\n",
      "Epoch 41/100\n",
      "9792/9792 [==============================] - 1s 109us/sample - loss: 3.5165 - accuracy: 0.3039 - val_loss: 3.5340 - val_accuracy: 0.2974\n",
      "Epoch 42/100\n",
      "9792/9792 [==============================] - 1s 112us/sample - loss: 3.5101 - accuracy: 0.3094 - val_loss: 3.5279 - val_accuracy: 0.3023\n",
      "Epoch 43/100\n",
      "9792/9792 [==============================] - 1s 112us/sample - loss: 3.5038 - accuracy: 0.3158 - val_loss: 3.5218 - val_accuracy: 0.3068\n",
      "Epoch 44/100\n",
      "9792/9792 [==============================] - 2s 161us/sample - loss: 3.4976 - accuracy: 0.3228 - val_loss: 3.5158 - val_accuracy: 0.3133\n",
      "Epoch 45/100\n",
      "9792/9792 [==============================] - 2s 176us/sample - loss: 3.4914 - accuracy: 0.3244 - val_loss: 3.5098 - val_accuracy: 0.3141\n",
      "Epoch 46/100\n",
      "9792/9792 [==============================] - 1s 146us/sample - loss: 3.4854 - accuracy: 0.3315 - val_loss: 3.5039 - val_accuracy: 0.3170\n",
      "Epoch 47/100\n",
      "9792/9792 [==============================] - 1s 110us/sample - loss: 3.4794 - accuracy: 0.3300 - val_loss: 3.4982 - val_accuracy: 0.3211\n",
      "Epoch 48/100\n",
      "9792/9792 [==============================] - 1s 114us/sample - loss: 3.4735 - accuracy: 0.3378 - val_loss: 3.4925 - val_accuracy: 0.3219\n",
      "Epoch 49/100\n",
      "9792/9792 [==============================] - 2s 164us/sample - loss: 3.4677 - accuracy: 0.3396 - val_loss: 3.4869 - val_accuracy: 0.3252\n",
      "Epoch 50/100\n",
      "9792/9792 [==============================] - 2s 182us/sample - loss: 3.4619 - accuracy: 0.3443 - val_loss: 3.4813 - val_accuracy: 0.3276\n",
      "Epoch 51/100\n",
      "9792/9792 [==============================] - 2s 193us/sample - loss: 3.4562 - accuracy: 0.3467 - val_loss: 3.4758 - val_accuracy: 0.3325\n",
      "Epoch 52/100\n",
      "9792/9792 [==============================] - 1s 113us/sample - loss: 3.4506 - accuracy: 0.3479 - val_loss: 3.4704 - val_accuracy: 0.3358\n",
      "Epoch 53/100\n",
      "9792/9792 [==============================] - 1s 109us/sample - loss: 3.4450 - accuracy: 0.3523 - val_loss: 3.4651 - val_accuracy: 0.3386\n",
      "Epoch 54/100\n"
     ]
    },
    {
     "name": "stdout",
     "output_type": "stream",
     "text": [
      "9792/9792 [==============================] - 1s 113us/sample - loss: 3.4395 - accuracy: 0.3539 - val_loss: 3.4598 - val_accuracy: 0.3391\n",
      "Epoch 55/100\n",
      "9792/9792 [==============================] - 1s 116us/sample - loss: 3.4341 - accuracy: 0.3574 - val_loss: 3.4545 - val_accuracy: 0.3431\n",
      "Epoch 56/100\n",
      "9792/9792 [==============================] - 2s 188us/sample - loss: 3.4287 - accuracy: 0.3579 - val_loss: 3.4493 - val_accuracy: 0.3464\n",
      "Epoch 57/100\n",
      "9792/9792 [==============================] - 2s 218us/sample - loss: 3.4234 - accuracy: 0.3610 - val_loss: 3.4441 - val_accuracy: 0.3489\n",
      "Epoch 58/100\n",
      "9792/9792 [==============================] - 1s 142us/sample - loss: 3.4181 - accuracy: 0.3612 - val_loss: 3.4391 - val_accuracy: 0.3484\n",
      "Epoch 59/100\n",
      "9792/9792 [==============================] - 1s 142us/sample - loss: 3.4129 - accuracy: 0.3648 - val_loss: 3.4340 - val_accuracy: 0.3501\n",
      "Epoch 60/100\n",
      "9792/9792 [==============================] - 1s 115us/sample - loss: 3.4078 - accuracy: 0.3676 - val_loss: 3.4291 - val_accuracy: 0.3525\n",
      "Epoch 61/100\n",
      "9792/9792 [==============================] - 1s 113us/sample - loss: 3.4027 - accuracy: 0.3677 - val_loss: 3.4241 - val_accuracy: 0.3558\n",
      "Epoch 62/100\n",
      "9792/9792 [==============================] - 1s 118us/sample - loss: 3.3976 - accuracy: 0.3686 - val_loss: 3.4193 - val_accuracy: 0.3562\n",
      "Epoch 63/100\n",
      "9792/9792 [==============================] - 1s 114us/sample - loss: 3.3927 - accuracy: 0.3732 - val_loss: 3.4144 - val_accuracy: 0.3599\n",
      "Epoch 64/100\n",
      "9792/9792 [==============================] - 1s 113us/sample - loss: 3.3877 - accuracy: 0.3767 - val_loss: 3.4097 - val_accuracy: 0.3619\n",
      "Epoch 65/100\n",
      "9792/9792 [==============================] - 1s 135us/sample - loss: 3.3829 - accuracy: 0.3767 - val_loss: 3.4050 - val_accuracy: 0.3615\n",
      "Epoch 66/100\n",
      "9792/9792 [==============================] - 1s 114us/sample - loss: 3.3780 - accuracy: 0.3789 - val_loss: 3.4003 - val_accuracy: 0.3632\n",
      "Epoch 67/100\n",
      "9792/9792 [==============================] - 1s 134us/sample - loss: 3.3732 - accuracy: 0.3796 - val_loss: 3.3957 - val_accuracy: 0.3652\n",
      "Epoch 68/100\n",
      "9792/9792 [==============================] - 1s 116us/sample - loss: 3.3685 - accuracy: 0.3821 - val_loss: 3.3911 - val_accuracy: 0.3660\n",
      "Epoch 69/100\n",
      "9792/9792 [==============================] - 1s 117us/sample - loss: 3.3638 - accuracy: 0.3824 - val_loss: 3.3866 - val_accuracy: 0.3685\n",
      "Epoch 70/100\n",
      "9792/9792 [==============================] - 1s 140us/sample - loss: 3.3592 - accuracy: 0.3844 - val_loss: 3.3820 - val_accuracy: 0.3701\n",
      "Epoch 71/100\n",
      "9792/9792 [==============================] - 2s 160us/sample - loss: 3.3546 - accuracy: 0.3868 - val_loss: 3.3776 - val_accuracy: 0.3709\n",
      "Epoch 72/100\n",
      "9792/9792 [==============================] - 1s 113us/sample - loss: 3.3500 - accuracy: 0.3873 - val_loss: 3.3731 - val_accuracy: 0.3734\n",
      "Epoch 73/100\n",
      "9792/9792 [==============================] - 1s 107us/sample - loss: 3.3455 - accuracy: 0.3881 - val_loss: 3.3688 - val_accuracy: 0.3754\n",
      "Epoch 74/100\n",
      "9792/9792 [==============================] - 1s 107us/sample - loss: 3.3410 - accuracy: 0.3926 - val_loss: 3.3645 - val_accuracy: 0.3775\n",
      "Epoch 75/100\n",
      "9792/9792 [==============================] - 1s 106us/sample - loss: 3.3366 - accuracy: 0.3916 - val_loss: 3.3602 - val_accuracy: 0.3795\n",
      "Epoch 76/100\n",
      "9792/9792 [==============================] - 1s 107us/sample - loss: 3.3322 - accuracy: 0.3953 - val_loss: 3.3559 - val_accuracy: 0.3815\n",
      "Epoch 77/100\n",
      "9792/9792 [==============================] - 1s 116us/sample - loss: 3.3278 - accuracy: 0.3963 - val_loss: 3.3517 - val_accuracy: 0.3832\n",
      "Epoch 78/100\n",
      "9792/9792 [==============================] - 1s 113us/sample - loss: 3.3235 - accuracy: 0.4015 - val_loss: 3.3476 - val_accuracy: 0.3856\n",
      "Epoch 79/100\n",
      "9792/9792 [==============================] - 1s 153us/sample - loss: 3.3192 - accuracy: 0.3996 - val_loss: 3.3434 - val_accuracy: 0.3881\n",
      "Epoch 80/100\n",
      "9792/9792 [==============================] - 1s 109us/sample - loss: 3.3150 - accuracy: 0.4039 - val_loss: 3.3393 - val_accuracy: 0.3881\n",
      "Epoch 81/100\n",
      "9792/9792 [==============================] - 1s 150us/sample - loss: 3.3108 - accuracy: 0.4030 - val_loss: 3.3353 - val_accuracy: 0.3917\n",
      "Epoch 82/100\n",
      "9792/9792 [==============================] - 2s 201us/sample - loss: 3.3066 - accuracy: 0.4064 - val_loss: 3.3312 - val_accuracy: 0.3917\n",
      "Epoch 83/100\n",
      "9792/9792 [==============================] - 1s 107us/sample - loss: 3.3025 - accuracy: 0.4084 - val_loss: 3.3272 - val_accuracy: 0.3938\n",
      "Epoch 84/100\n",
      "9792/9792 [==============================] - 1s 107us/sample - loss: 3.2984 - accuracy: 0.4098 - val_loss: 3.3233 - val_accuracy: 0.3954\n",
      "Epoch 85/100\n",
      "9792/9792 [==============================] - 1s 107us/sample - loss: 3.2943 - accuracy: 0.4095 - val_loss: 3.3193 - val_accuracy: 0.3979\n",
      "Epoch 86/100\n",
      "9792/9792 [==============================] - 1s 112us/sample - loss: 3.2902 - accuracy: 0.4136 - val_loss: 3.3153 - val_accuracy: 0.3983\n",
      "Epoch 87/100\n",
      "9792/9792 [==============================] - 1s 107us/sample - loss: 3.2862 - accuracy: 0.4123 - val_loss: 3.3114 - val_accuracy: 0.3991\n",
      "Epoch 88/100\n",
      "9792/9792 [==============================] - 1s 107us/sample - loss: 3.2822 - accuracy: 0.4178 - val_loss: 3.3076 - val_accuracy: 0.3999\n",
      "Epoch 89/100\n",
      "9792/9792 [==============================] - 1s 107us/sample - loss: 3.2783 - accuracy: 0.4190 - val_loss: 3.3038 - val_accuracy: 0.4020\n",
      "Epoch 90/100\n",
      "9792/9792 [==============================] - 1s 108us/sample - loss: 3.2744 - accuracy: 0.4185 - val_loss: 3.3000 - val_accuracy: 0.4044\n",
      "Epoch 91/100\n",
      "9792/9792 [==============================] - 1s 108us/sample - loss: 3.2705 - accuracy: 0.4195 - val_loss: 3.2962 - val_accuracy: 0.4044\n",
      "Epoch 92/100\n",
      "9792/9792 [==============================] - 1s 108us/sample - loss: 3.2666 - accuracy: 0.4225 - val_loss: 3.2925 - val_accuracy: 0.4056\n",
      "Epoch 93/100\n",
      "9792/9792 [==============================] - 1s 107us/sample - loss: 3.2628 - accuracy: 0.4225 - val_loss: 3.2888 - val_accuracy: 0.4073\n",
      "Epoch 94/100\n",
      "9792/9792 [==============================] - 1s 112us/sample - loss: 3.2590 - accuracy: 0.4241 - val_loss: 3.2851 - val_accuracy: 0.4101\n",
      "Epoch 95/100\n",
      "9792/9792 [==============================] - 1s 108us/sample - loss: 3.2552 - accuracy: 0.4245 - val_loss: 3.2815 - val_accuracy: 0.4114\n",
      "Epoch 96/100\n",
      "9792/9792 [==============================] - 1s 109us/sample - loss: 3.2515 - accuracy: 0.4270 - val_loss: 3.2779 - val_accuracy: 0.4118\n",
      "Epoch 97/100\n",
      "9792/9792 [==============================] - 1s 109us/sample - loss: 3.2478 - accuracy: 0.4264 - val_loss: 3.2742 - val_accuracy: 0.4114\n",
      "Epoch 98/100\n",
      "9792/9792 [==============================] - 1s 108us/sample - loss: 3.2441 - accuracy: 0.4274 - val_loss: 3.2707 - val_accuracy: 0.4126\n",
      "Epoch 99/100\n",
      "9792/9792 [==============================] - 1s 107us/sample - loss: 3.2405 - accuracy: 0.4329 - val_loss: 3.2672 - val_accuracy: 0.4130\n",
      "Epoch 100/100\n",
      "9792/9792 [==============================] - 1s 107us/sample - loss: 3.2368 - accuracy: 0.4328 - val_loss: 3.2637 - val_accuracy: 0.4126\n"
     ]
    }
   ],
   "source": [
    "history = model.fit(X_train,y_train,epochs=100,batch_size=20,validation_split=0.2)"
   ]
  },
  {
   "cell_type": "code",
   "execution_count": 11,
   "metadata": {},
   "outputs": [
    {
     "data": {
      "image/png": "[encoded data removed]",
      "text/plain": [
       "<Figure size 432x288 with 1 Axes>"
      ]
     },
     "metadata": {
      "needs_background": "light"
     },
     "output_type": "display_data"
    },
    {
     "data": {
      "image/png": "[encoded data removed]",
      "text/plain": [
       "<Figure size 432x288 with 1 Axes>"
      ]
     },
     "metadata": {
      "needs_background": "light"
     },
     "output_type": "display_data"
    }
   ],
   "source": [
    "plt.plot(history.history['accuracy'])\n",
    "plt.plot(history.history['val_accuracy'])\n",
    "plt.title('model accuracy')\n",
    "plt.ylabel('accuracy')\n",
    "plt.xlabel('epoch')\n",
    "plt.legend(['train', 'val'], loc='upper left')\n",
    "plt.show()\n",
    "# Summarize history for loss\n",
    "plt.plot(history.history['loss'])\n",
    "plt.plot(history.history['val_loss'])\n",
    "plt.title('model loss')\n",
    "plt.ylabel('loss')\n",
    "plt.xlabel('epoch')\n",
    "plt.legend(['train', 'val'], loc='upper left')\n",
    "plt.show()"
   ]
  },
  {
   "cell_type": "code",
   "execution_count": 12,
   "metadata": {},
   "outputs": [
    {
     "name": "stdout",
     "output_type": "stream",
     "text": [
      "WARNING:tensorflow:Falling back from v2 loop because of error: Failed to find data adapter that can handle input: <class 'pandas.core.frame.DataFrame'>, <class 'NoneType'>\n"
     ]
    },
    {
     "data": {
      "text/plain": [
       "0.42034313"
      ]
     },
     "execution_count": 12,
     "metadata": {},
     "output_type": "execute_result"
    }
   ],
   "source": [
    "model.evaluate(X_test, y_test,verbose=False)[1]"
   ]
  },
  {
   "cell_type": "code",
   "execution_count": null,
   "metadata": {},
   "outputs": [],
   "source": []
  }
 ],
 "metadata": {
  "kernelspec": {
   "display_name": "Python 3",
   "language": "python",
   "name": "python3"
  },
  "language_info": {
   "codemirror_mode": {
    "name": "ipython",
    "version": 3
   },
   "file_extension": ".py",
   "mimetype": "text/x-python",
   "name": "python",
   "nbconvert_exporter": "python",
   "pygments_lexer": "ipython3",
   "version": "3.7.4"
  }
 },
 "nbformat": 4,
 "nbformat_minor": 2
}
