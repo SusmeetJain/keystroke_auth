{
 "cells": [
  {
   "cell_type": "markdown",
   "metadata": {},
   "source": [
    "### Siamese Neural Network \n",
    "\n",
    "This model is trained on http://www.cs.cmu.edu/~keystroke/ dataset by creating a huge sample of 24000 data that is balanced in having equal number of genuine and imposter pairs. "
   ]
  },
  {
   "cell_type": "code",
   "execution_count": 1,
   "metadata": {},
   "outputs": [],
   "source": [
    "import pandas as pd\n",
    "import numpy as np\n",
    "from matplotlib import pyplot as plt\n",
    "from sklearn.model_selection import train_test_split\n",
    "import tensorflow as tf\n",
    "from tensorflow.keras.models import Sequential, Model, model_from_json\n",
    "from tensorflow.keras.layers import Dense, Activation, Input, Lambda, BatchNormalization, Activation\n",
    "from tensorflow.keras import backend as K\n",
    "from sklearn.metrics.pairwise import cosine_distances\n",
    "from sklearn.metrics import confusion_matrix\n",
    "import random\n",
    "\n",
    "%matplotlib inline"
   ]
  },
  {
   "cell_type": "code",
   "execution_count": 2,
   "metadata": {},
   "outputs": [],
   "source": [
    "data = pd.read_csv('DSL-StrongPasswordData.csv')"
   ]
  },
  {
   "cell_type": "code",
   "execution_count": 3,
   "metadata": {},
   "outputs": [
    {
     "data": {
      "text/html": [
       "<div>\n",
       "<style scoped>\n",
       "    .dataframe tbody tr th:only-of-type {\n",
       "        vertical-align: middle;\n",
       "    }\n",
       "\n",
       "    .dataframe tbody tr th {\n",
       "        vertical-align: top;\n",
       "    }\n",
       "\n",
       "    .dataframe thead th {\n",
       "        text-align: right;\n",
       "    }\n",
       "</style>\n",
       "<table border=\"1\" class=\"dataframe\">\n",
       "  <thead>\n",
       "    <tr style=\"text-align: right;\">\n",
       "      <th></th>\n",
       "      <th>subject</th>\n",
       "      <th>sessionIndex</th>\n",
       "      <th>rep</th>\n",
       "      <th>H.period</th>\n",
       "      <th>DD.period.t</th>\n",
       "      <th>UD.period.t</th>\n",
       "      <th>H.t</th>\n",
       "      <th>DD.t.i</th>\n",
       "      <th>UD.t.i</th>\n",
       "      <th>H.i</th>\n",
       "      <th>...</th>\n",
       "      <th>H.a</th>\n",
       "      <th>DD.a.n</th>\n",
       "      <th>UD.a.n</th>\n",
       "      <th>H.n</th>\n",
       "      <th>DD.n.l</th>\n",
       "      <th>UD.n.l</th>\n",
       "      <th>H.l</th>\n",
       "      <th>DD.l.Return</th>\n",
       "      <th>UD.l.Return</th>\n",
       "      <th>H.Return</th>\n",
       "    </tr>\n",
       "  </thead>\n",
       "  <tbody>\n",
       "    <tr>\n",
       "      <th>0</th>\n",
       "      <td>s002</td>\n",
       "      <td>1</td>\n",
       "      <td>1</td>\n",
       "      <td>0.1491</td>\n",
       "      <td>0.3979</td>\n",
       "      <td>0.2488</td>\n",
       "      <td>0.1069</td>\n",
       "      <td>0.1674</td>\n",
       "      <td>0.0605</td>\n",
       "      <td>0.1169</td>\n",
       "      <td>...</td>\n",
       "      <td>0.1349</td>\n",
       "      <td>0.1484</td>\n",
       "      <td>0.0135</td>\n",
       "      <td>0.0932</td>\n",
       "      <td>0.3515</td>\n",
       "      <td>0.2583</td>\n",
       "      <td>0.1338</td>\n",
       "      <td>0.3509</td>\n",
       "      <td>0.2171</td>\n",
       "      <td>0.0742</td>\n",
       "    </tr>\n",
       "    <tr>\n",
       "      <th>1</th>\n",
       "      <td>s002</td>\n",
       "      <td>1</td>\n",
       "      <td>2</td>\n",
       "      <td>0.1111</td>\n",
       "      <td>0.3451</td>\n",
       "      <td>0.2340</td>\n",
       "      <td>0.0694</td>\n",
       "      <td>0.1283</td>\n",
       "      <td>0.0589</td>\n",
       "      <td>0.0908</td>\n",
       "      <td>...</td>\n",
       "      <td>0.1412</td>\n",
       "      <td>0.2558</td>\n",
       "      <td>0.1146</td>\n",
       "      <td>0.1146</td>\n",
       "      <td>0.2642</td>\n",
       "      <td>0.1496</td>\n",
       "      <td>0.0839</td>\n",
       "      <td>0.2756</td>\n",
       "      <td>0.1917</td>\n",
       "      <td>0.0747</td>\n",
       "    </tr>\n",
       "    <tr>\n",
       "      <th>2</th>\n",
       "      <td>s002</td>\n",
       "      <td>1</td>\n",
       "      <td>3</td>\n",
       "      <td>0.1328</td>\n",
       "      <td>0.2072</td>\n",
       "      <td>0.0744</td>\n",
       "      <td>0.0731</td>\n",
       "      <td>0.1291</td>\n",
       "      <td>0.0560</td>\n",
       "      <td>0.0821</td>\n",
       "      <td>...</td>\n",
       "      <td>0.1621</td>\n",
       "      <td>0.2332</td>\n",
       "      <td>0.0711</td>\n",
       "      <td>0.1172</td>\n",
       "      <td>0.2705</td>\n",
       "      <td>0.1533</td>\n",
       "      <td>0.1085</td>\n",
       "      <td>0.2847</td>\n",
       "      <td>0.1762</td>\n",
       "      <td>0.0945</td>\n",
       "    </tr>\n",
       "    <tr>\n",
       "      <th>3</th>\n",
       "      <td>s002</td>\n",
       "      <td>1</td>\n",
       "      <td>4</td>\n",
       "      <td>0.1291</td>\n",
       "      <td>0.2515</td>\n",
       "      <td>0.1224</td>\n",
       "      <td>0.1059</td>\n",
       "      <td>0.2495</td>\n",
       "      <td>0.1436</td>\n",
       "      <td>0.1040</td>\n",
       "      <td>...</td>\n",
       "      <td>0.1457</td>\n",
       "      <td>0.1629</td>\n",
       "      <td>0.0172</td>\n",
       "      <td>0.0866</td>\n",
       "      <td>0.2341</td>\n",
       "      <td>0.1475</td>\n",
       "      <td>0.0845</td>\n",
       "      <td>0.3232</td>\n",
       "      <td>0.2387</td>\n",
       "      <td>0.0813</td>\n",
       "    </tr>\n",
       "    <tr>\n",
       "      <th>4</th>\n",
       "      <td>s002</td>\n",
       "      <td>1</td>\n",
       "      <td>5</td>\n",
       "      <td>0.1249</td>\n",
       "      <td>0.2317</td>\n",
       "      <td>0.1068</td>\n",
       "      <td>0.0895</td>\n",
       "      <td>0.1676</td>\n",
       "      <td>0.0781</td>\n",
       "      <td>0.0903</td>\n",
       "      <td>...</td>\n",
       "      <td>0.1312</td>\n",
       "      <td>0.1582</td>\n",
       "      <td>0.0270</td>\n",
       "      <td>0.0884</td>\n",
       "      <td>0.2517</td>\n",
       "      <td>0.1633</td>\n",
       "      <td>0.0903</td>\n",
       "      <td>0.2517</td>\n",
       "      <td>0.1614</td>\n",
       "      <td>0.0818</td>\n",
       "    </tr>\n",
       "  </tbody>\n",
       "</table>\n",
       "<p>5 rows × 34 columns</p>\n",
       "</div>"
      ],
      "text/plain": [
       "  subject  sessionIndex  rep  H.period  DD.period.t  UD.period.t     H.t  \\\n",
       "0    s002             1    1    0.1491       0.3979       0.2488  0.1069   \n",
       "1    s002             1    2    0.1111       0.3451       0.2340  0.0694   \n",
       "2    s002             1    3    0.1328       0.2072       0.0744  0.0731   \n",
       "3    s002             1    4    0.1291       0.2515       0.1224  0.1059   \n",
       "4    s002             1    5    0.1249       0.2317       0.1068  0.0895   \n",
       "\n",
       "   DD.t.i  UD.t.i     H.i  ...     H.a  DD.a.n  UD.a.n     H.n  DD.n.l  \\\n",
       "0  0.1674  0.0605  0.1169  ...  0.1349  0.1484  0.0135  0.0932  0.3515   \n",
       "1  0.1283  0.0589  0.0908  ...  0.1412  0.2558  0.1146  0.1146  0.2642   \n",
       "2  0.1291  0.0560  0.0821  ...  0.1621  0.2332  0.0711  0.1172  0.2705   \n",
       "3  0.2495  0.1436  0.1040  ...  0.1457  0.1629  0.0172  0.0866  0.2341   \n",
       "4  0.1676  0.0781  0.0903  ...  0.1312  0.1582  0.0270  0.0884  0.2517   \n",
       "\n",
       "   UD.n.l     H.l  DD.l.Return  UD.l.Return  H.Return  \n",
       "0  0.2583  0.1338       0.3509       0.2171    0.0742  \n",
       "1  0.1496  0.0839       0.2756       0.1917    0.0747  \n",
       "2  0.1533  0.1085       0.2847       0.1762    0.0945  \n",
       "3  0.1475  0.0845       0.3232       0.2387    0.0813  \n",
       "4  0.1633  0.0903       0.2517       0.1614    0.0818  \n",
       "\n",
       "[5 rows x 34 columns]"
      ]
     },
     "execution_count": 3,
     "metadata": {},
     "output_type": "execute_result"
    }
   ],
   "source": [
    "data.head()"
   ]
  },
  {
   "cell_type": "code",
   "execution_count": 4,
   "metadata": {},
   "outputs": [
    {
     "data": {
      "text/plain": [
       "array(['s002', 's003', 's004', 's005', 's007', 's008', 's010', 's011',\n",
       "       's012', 's013', 's015', 's016', 's017', 's018', 's019', 's020',\n",
       "       's021', 's022', 's024', 's025', 's026', 's027', 's028', 's029',\n",
       "       's030', 's031', 's032', 's033', 's034', 's035', 's036', 's037',\n",
       "       's038', 's039', 's040', 's041', 's042', 's043', 's044', 's046',\n",
       "       's047', 's048', 's049', 's050', 's051', 's052', 's053', 's054',\n",
       "       's055', 's056', 's057'], dtype=object)"
      ]
     },
     "execution_count": 4,
     "metadata": {},
     "output_type": "execute_result"
    }
   ],
   "source": [
    "subjects = data[\"subject\"].unique()\n",
    "subjects"
   ]
  },
  {
   "cell_type": "code",
   "execution_count": 5,
   "metadata": {},
   "outputs": [],
   "source": [
    "#this piece of code creates paired data to be fed as input to the model. \n",
    "random.seed(42)\n",
    "subject_count = 50\n",
    "data_count = 400\n",
    "count = 0\n",
    "genuine_data = np.zeros([12000,2,31])\n",
    "y_genuine = []\n",
    "for i in range(subject_count):\n",
    "    for j in range(int(12000/subject_count)):\n",
    "        ind1 = 0\n",
    "        ind2 = 0\n",
    "        while ind1 == ind2:\n",
    "            ind1 = np.random.randint(data_count)\n",
    "            ind2 = np.random.randint(data_count)\n",
    "        x1 = data.loc[data.subject == subjects[i], 'H.period':'H.Return'][ind1:ind1+1]\n",
    "        x2 = data.loc[data.subject == subjects[i], 'H.period':'H.Return'][ind2:ind2+1]\n",
    "        genuine_data[count,0,:] = x1\n",
    "        genuine_data[count,1,:] = x2\n",
    "        y_genuine.append(1)\n",
    "        count += 1\n",
    "imposter_data = np.zeros([12000,2,31])\n",
    "y_imposter = []\n",
    "count = 0\n",
    "for i in range(int(12000/data_count)):\n",
    "    for j in range(data_count):\n",
    "        while True:\n",
    "            ind1 = np.random.randint(subject_count)\n",
    "            ind2 = np.random.randint(subject_count)\n",
    "            if ind1 != ind2:\n",
    "                break\n",
    "        x1 = data.loc[data.subject == subjects[ind1], 'H.period':'H.Return'][j:j+1]\n",
    "        x2 = data.loc[data.subject == subjects[ind2], 'H.period':'H.Return'][j:j+1]\n",
    "        imposter_data[count,0,:] = x1\n",
    "        imposter_data[count,1,:] = x2\n",
    "        y_imposter.append(0) \n",
    "        count += 1\n",
    "X = np.concatenate([genuine_data, imposter_data], axis=0)\n",
    "Y = pd.DataFrame(y_genuine + y_imposter)       "
   ]
  },
  {
   "cell_type": "code",
   "execution_count": 6,
   "metadata": {},
   "outputs": [
    {
     "data": {
      "text/plain": [
       "(24000, 2, 31)"
      ]
     },
     "execution_count": 6,
     "metadata": {},
     "output_type": "execute_result"
    }
   ],
   "source": [
    "X.shape"
   ]
  },
  {
   "cell_type": "code",
   "execution_count": 7,
   "metadata": {},
   "outputs": [
    {
     "data": {
      "text/plain": [
       "(24000, 1)"
      ]
     },
     "execution_count": 7,
     "metadata": {},
     "output_type": "execute_result"
    }
   ],
   "source": [
    "Y.shape"
   ]
  },
  {
   "cell_type": "code",
   "execution_count": 8,
   "metadata": {},
   "outputs": [],
   "source": [
    "random.seed(42)\n",
    "x_train, x_test, y_train, y_test = train_test_split(X, Y, test_size=.2, stratify=Y)"
   ]
  },
  {
   "cell_type": "code",
   "execution_count": 9,
   "metadata": {},
   "outputs": [
    {
     "name": "stdout",
     "output_type": "stream",
     "text": [
      "x_train shape (19200, 2, 31)\n",
      "y_train shape (19200, 1)\n",
      "x_test shape (4800, 2, 31)\n",
      "y_test shape (4800, 1)\n"
     ]
    }
   ],
   "source": [
    "print('x_train shape',x_train.shape)\n",
    "print('y_train shape', y_train.shape)\n",
    "print('x_test shape',x_test.shape)\n",
    "print('y_test shape', y_test.shape)"
   ]
  },
  {
   "cell_type": "code",
   "execution_count": 10,
   "metadata": {},
   "outputs": [],
   "source": [
    "def build_base_network():\n",
    "    network = Sequential()\n",
    "    network.add(Dense(100,input_dim=31,activation='relu'))\n",
    "    network.add(Dense(50))\n",
    "    network.add(BatchNormalization())\n",
    "    network.add(Activation('relu'))\n",
    "    network.add(Dense(25))\n",
    "    network.add(BatchNormalization())\n",
    "    network.add(Activation('relu'))\n",
    "    return network"
   ]
  },
  {
   "cell_type": "code",
   "execution_count": 11,
   "metadata": {},
   "outputs": [
    {
     "name": "stdout",
     "output_type": "stream",
     "text": [
      "input_dim (31,)\n"
     ]
    }
   ],
   "source": [
    "input_dim = x_train.shape[2:]\n",
    "stroke_a = Input(shape=input_dim)\n",
    "stroke_b = Input(shape=input_dim)\n",
    "print('input_dim',input_dim)"
   ]
  },
  {
   "cell_type": "code",
   "execution_count": 12,
   "metadata": {},
   "outputs": [
    {
     "name": "stdout",
     "output_type": "stream",
     "text": [
      "WARNING:tensorflow:From C:\\Users\\Karthika\\Anaconda3\\envs\\jupyter36\\lib\\site-packages\\tensorflow_core\\python\\ops\\resource_variable_ops.py:1630: calling BaseResourceVariable.__init__ (from tensorflow.python.ops.resource_variable_ops) with constraint is deprecated and will be removed in a future version.\n",
      "Instructions for updating:\n",
      "If using Keras pass *_constraint arguments to layers.\n"
     ]
    }
   ],
   "source": [
    "base_network = build_base_network()\n",
    "feat_vecs_a = base_network(stroke_a)\n",
    "feat_vecs_b = base_network(stroke_b)"
   ]
  },
  {
   "cell_type": "code",
   "execution_count": 13,
   "metadata": {},
   "outputs": [],
   "source": [
    "# 3 different distance function that can be tried for the Lambda layer\n",
    "\n",
    "def cosine_distance(vests):\n",
    "    x, y = vests\n",
    "    x = K.l2_normalize(x, axis=-1)\n",
    "    y = K.l2_normalize(y, axis=-1)\n",
    "    return -K.mean(x * y, axis=-1, keepdims=True)\n",
    "\n",
    "def abs_diff(x): return K.abs(x[0] - x[1])\n",
    "\n",
    "def euclidean_distance(x):\n",
    "    return K.sqrt(K.sum(K.square(x[0] - x[1]), axis=1, keepdims=True))"
   ]
  },
  {
   "cell_type": "code",
   "execution_count": 14,
   "metadata": {},
   "outputs": [],
   "source": [
    "diff = Lambda(function=euclidean_distance,output_shape=lambda x: x[0])([feat_vecs_a, feat_vecs_b])"
   ]
  },
  {
   "cell_type": "code",
   "execution_count": 15,
   "metadata": {},
   "outputs": [],
   "source": [
    "def contrastive_loss(y_true, y_pred):\n",
    "    margin = 1\n",
    "    return K.mean(y_true * K.square(y_pred) + (1 - y_true) * K.square(K.maximum(margin - y_pred, 0)))"
   ]
  },
  {
   "cell_type": "code",
   "execution_count": 16,
   "metadata": {},
   "outputs": [],
   "source": [
    "pred1 = Dense(25, activation = 'relu')(diff)\n",
    "pred2 = Dense(10)(diff)\n",
    "norm = BatchNormalization()(pred2)\n",
    "act = Activation('relu')(norm)\n",
    "prediction = Dense(1, activation='sigmoid')(act)"
   ]
  },
  {
   "cell_type": "code",
   "execution_count": 17,
   "metadata": {},
   "outputs": [],
   "source": [
    "model = Model([stroke_a, stroke_b], prediction)"
   ]
  },
  {
   "cell_type": "code",
   "execution_count": 18,
   "metadata": {},
   "outputs": [
    {
     "name": "stdout",
     "output_type": "stream",
     "text": [
      "WARNING:tensorflow:From C:\\Users\\Karthika\\Anaconda3\\envs\\jupyter36\\lib\\site-packages\\tensorflow_core\\python\\ops\\nn_impl.py:183: where (from tensorflow.python.ops.array_ops) is deprecated and will be removed in a future version.\n",
      "Instructions for updating:\n",
      "Use tf.where in 2.0, which has the same broadcast rule as np.where\n"
     ]
    }
   ],
   "source": [
    "model.compile(loss='binary_crossentropy',optimizer='adam', metrics = ['accuracy'])"
   ]
  },
  {
   "cell_type": "code",
   "execution_count": 19,
   "metadata": {},
   "outputs": [
    {
     "name": "stdout",
     "output_type": "stream",
     "text": [
      "Model: \"model\"\n",
      "__________________________________________________________________________________________________\n",
      "Layer (type)                    Output Shape         Param #     Connected to                     \n",
      "==================================================================================================\n",
      "input_1 (InputLayer)            [(None, 31)]         0                                            \n",
      "__________________________________________________________________________________________________\n",
      "input_2 (InputLayer)            [(None, 31)]         0                                            \n",
      "__________________________________________________________________________________________________\n",
      "sequential (Sequential)         (None, 25)           9825        input_1[0][0]                    \n",
      "                                                                 input_2[0][0]                    \n",
      "__________________________________________________________________________________________________\n",
      "lambda (Lambda)                 (None, 1)            0           sequential[1][0]                 \n",
      "                                                                 sequential[2][0]                 \n",
      "__________________________________________________________________________________________________\n",
      "dense_4 (Dense)                 (None, 10)           20          lambda[0][0]                     \n",
      "__________________________________________________________________________________________________\n",
      "batch_normalization_2 (BatchNor (None, 10)           40          dense_4[0][0]                    \n",
      "__________________________________________________________________________________________________\n",
      "activation_2 (Activation)       (None, 10)           0           batch_normalization_2[0][0]      \n",
      "__________________________________________________________________________________________________\n",
      "dense_5 (Dense)                 (None, 1)            11          activation_2[0][0]               \n",
      "==================================================================================================\n",
      "Total params: 9,896\n",
      "Trainable params: 9,726\n",
      "Non-trainable params: 170\n",
      "__________________________________________________________________________________________________\n"
     ]
    }
   ],
   "source": [
    "model.summary()"
   ]
  },
  {
   "cell_type": "code",
   "execution_count": 20,
   "metadata": {},
   "outputs": [
    {
     "data": {
      "text/plain": [
       "(19200, 31)"
      ]
     },
     "execution_count": 20,
     "metadata": {},
     "output_type": "execute_result"
    }
   ],
   "source": [
    "stroke_1 = np.array(x_train[:, 0])\n",
    "stroke_2 = np.array(x_train[:, 1])\n",
    "stroke_1.shape"
   ]
  },
  {
   "cell_type": "code",
   "execution_count": 21,
   "metadata": {},
   "outputs": [
    {
     "name": "stdout",
     "output_type": "stream",
     "text": [
      "Train on 15360 samples, validate on 3840 samples\n",
      "Epoch 1/50\n",
      "15360/15360 [==============================] - 4s 290us/sample - loss: 0.5669 - acc: 0.7085 - val_loss: 0.5930 - val_acc: 0.6419\n",
      "Epoch 2/50\n",
      "15360/15360 [==============================] - 2s 134us/sample - loss: 0.4150 - acc: 0.8130 - val_loss: 0.4086 - val_acc: 0.8177\n",
      "Epoch 3/50\n",
      "15360/15360 [==============================] - 2s 154us/sample - loss: 0.3625 - acc: 0.8398 - val_loss: 0.3658 - val_acc: 0.8398\n",
      "Epoch 4/50\n",
      "15360/15360 [==============================] - 2s 127us/sample - loss: 0.3287 - acc: 0.8559 - val_loss: 0.3552 - val_acc: 0.8456\n",
      "Epoch 5/50\n",
      "15360/15360 [==============================] - 2s 118us/sample - loss: 0.3052 - acc: 0.8691 - val_loss: 0.3379 - val_acc: 0.8557\n",
      "Epoch 6/50\n",
      "15360/15360 [==============================] - 2s 115us/sample - loss: 0.2857 - acc: 0.8802 - val_loss: 0.3247 - val_acc: 0.8570\n",
      "Epoch 7/50\n",
      "15360/15360 [==============================] - 2s 122us/sample - loss: 0.2710 - acc: 0.8884 - val_loss: 0.3156 - val_acc: 0.8690\n",
      "Epoch 8/50\n",
      "15360/15360 [==============================] - 2s 116us/sample - loss: 0.2629 - acc: 0.8915 - val_loss: 0.3043 - val_acc: 0.8633\n",
      "Epoch 9/50\n",
      "15360/15360 [==============================] - 2s 121us/sample - loss: 0.2494 - acc: 0.8979 - val_loss: 0.2851 - val_acc: 0.8813\n",
      "Epoch 10/50\n",
      "15360/15360 [==============================] - 2s 114us/sample - loss: 0.2424 - acc: 0.9007 - val_loss: 0.3010 - val_acc: 0.8703\n",
      "Epoch 11/50\n",
      "15360/15360 [==============================] - 2s 101us/sample - loss: 0.2353 - acc: 0.9037 - val_loss: 0.3014 - val_acc: 0.8745\n",
      "Epoch 12/50\n",
      "15360/15360 [==============================] - 2s 115us/sample - loss: 0.2303 - acc: 0.9073 - val_loss: 0.2795 - val_acc: 0.8831\n",
      "Epoch 13/50\n",
      "15360/15360 [==============================] - 2s 135us/sample - loss: 0.2177 - acc: 0.9104 - val_loss: 0.2733 - val_acc: 0.8891\n",
      "Epoch 14/50\n",
      "15360/15360 [==============================] - 2s 105us/sample - loss: 0.2124 - acc: 0.9145 - val_loss: 0.2786 - val_acc: 0.8865\n",
      "Epoch 15/50\n",
      "15360/15360 [==============================] - 2s 99us/sample - loss: 0.2091 - acc: 0.9146 - val_loss: 0.2843 - val_acc: 0.8818\n",
      "Epoch 16/50\n",
      "15360/15360 [==============================] - 1s 96us/sample - loss: 0.2020 - acc: 0.9176 - val_loss: 0.2614 - val_acc: 0.8932\n",
      "Epoch 17/50\n",
      "15360/15360 [==============================] - 2s 114us/sample - loss: 0.1978 - acc: 0.9214 - val_loss: 0.2635 - val_acc: 0.8904\n",
      "Epoch 18/50\n",
      "15360/15360 [==============================] - 2s 106us/sample - loss: 0.1936 - acc: 0.9222 - val_loss: 0.2856 - val_acc: 0.8880\n",
      "Epoch 19/50\n",
      "15360/15360 [==============================] - 1s 96us/sample - loss: 0.1847 - acc: 0.9257 - val_loss: 0.2548 - val_acc: 0.8938\n",
      "Epoch 20/50\n",
      "15360/15360 [==============================] - 2s 108us/sample - loss: 0.1783 - acc: 0.9305 - val_loss: 0.2929 - val_acc: 0.8914\n",
      "Epoch 21/50\n",
      "15360/15360 [==============================] - 2s 108us/sample - loss: 0.1875 - acc: 0.9246 - val_loss: 0.2662 - val_acc: 0.8969\n",
      "Epoch 22/50\n",
      "15360/15360 [==============================] - 2s 101us/sample - loss: 0.1746 - acc: 0.9288 - val_loss: 0.2640 - val_acc: 0.8938\n",
      "Epoch 23/50\n",
      "15360/15360 [==============================] - 2s 161us/sample - loss: 0.1718 - acc: 0.9311 - val_loss: 0.2554 - val_acc: 0.8974\n",
      "Epoch 24/50\n",
      "15360/15360 [==============================] - 2s 154us/sample - loss: 0.1674 - acc: 0.9348 - val_loss: 0.2911 - val_acc: 0.8940\n",
      "Epoch 25/50\n",
      "15360/15360 [==============================] - 2s 121us/sample - loss: 0.1648 - acc: 0.9363 - val_loss: 0.2577 - val_acc: 0.8990\n",
      "Epoch 26/50\n",
      "15360/15360 [==============================] - 2s 122us/sample - loss: 0.1610 - acc: 0.9364 - val_loss: 0.2704 - val_acc: 0.9023\n",
      "Epoch 27/50\n",
      "15360/15360 [==============================] - 2s 118us/sample - loss: 0.1568 - acc: 0.9373 - val_loss: 0.2600 - val_acc: 0.8990\n",
      "Epoch 28/50\n",
      "15360/15360 [==============================] - 2s 132us/sample - loss: 0.1554 - acc: 0.9408 - val_loss: 0.2484 - val_acc: 0.9044\n",
      "Epoch 29/50\n",
      "15360/15360 [==============================] - 2s 148us/sample - loss: 0.1511 - acc: 0.9403 - val_loss: 0.2587 - val_acc: 0.9018\n",
      "Epoch 30/50\n",
      "15360/15360 [==============================] - 2s 155us/sample - loss: 0.1488 - acc: 0.9432 - val_loss: 0.2437 - val_acc: 0.9076\n",
      "Epoch 31/50\n",
      "15360/15360 [==============================] - 2s 130us/sample - loss: 0.1444 - acc: 0.9430 - val_loss: 0.2582 - val_acc: 0.9052\n",
      "Epoch 32/50\n",
      "15360/15360 [==============================] - 2s 122us/sample - loss: 0.1435 - acc: 0.9451 - val_loss: 0.2537 - val_acc: 0.8971\n",
      "Epoch 33/50\n",
      "15360/15360 [==============================] - 2s 130us/sample - loss: 0.1439 - acc: 0.9436 - val_loss: 0.2590 - val_acc: 0.8992\n",
      "Epoch 34/50\n",
      "15360/15360 [==============================] - 2s 129us/sample - loss: 0.1351 - acc: 0.9478 - val_loss: 0.2443 - val_acc: 0.9078\n",
      "Epoch 35/50\n",
      "15360/15360 [==============================] - 2s 137us/sample - loss: 0.1342 - acc: 0.9470 - val_loss: 0.2537 - val_acc: 0.9060\n",
      "Epoch 36/50\n",
      "15360/15360 [==============================] - 2s 156us/sample - loss: 0.1316 - acc: 0.9497 - val_loss: 0.2678 - val_acc: 0.9062\n",
      "Epoch 37/50\n",
      "15360/15360 [==============================] - 2s 159us/sample - loss: 0.1293 - acc: 0.9502 - val_loss: 0.2517 - val_acc: 0.9086\n",
      "Epoch 38/50\n",
      "15360/15360 [==============================] - 2s 158us/sample - loss: 0.1261 - acc: 0.9525 - val_loss: 0.2557 - val_acc: 0.9070\n",
      "Epoch 39/50\n",
      "15360/15360 [==============================] - 2s 136us/sample - loss: 0.1289 - acc: 0.9492 - val_loss: 0.2585 - val_acc: 0.9055\n",
      "Epoch 40/50\n",
      "15360/15360 [==============================] - 2s 140us/sample - loss: 0.1267 - acc: 0.9519 - val_loss: 0.2468 - val_acc: 0.9060\n",
      "Epoch 41/50\n",
      "15360/15360 [==============================] - 2s 124us/sample - loss: 0.1204 - acc: 0.9533 - val_loss: 0.2619 - val_acc: 0.9052\n",
      "Epoch 42/50\n",
      "15360/15360 [==============================] - 2s 148us/sample - loss: 0.1178 - acc: 0.9538 - val_loss: 0.2613 - val_acc: 0.9055\n",
      "Epoch 43/50\n",
      "15360/15360 [==============================] - 2s 126us/sample - loss: 0.1152 - acc: 0.9559 - val_loss: 0.2458 - val_acc: 0.9081\n",
      "Epoch 44/50\n",
      "15360/15360 [==============================] - 2s 108us/sample - loss: 0.1191 - acc: 0.9533 - val_loss: 0.2597 - val_acc: 0.9068\n",
      "Epoch 45/50\n",
      "15360/15360 [==============================] - 2s 113us/sample - loss: 0.1151 - acc: 0.9551 - val_loss: 0.2391 - val_acc: 0.9125\n",
      "Epoch 46/50\n",
      "15360/15360 [==============================] - 2s 124us/sample - loss: 0.1114 - acc: 0.9582 - val_loss: 0.2515 - val_acc: 0.9115\n",
      "Epoch 47/50\n",
      "15360/15360 [==============================] - 2s 126us/sample - loss: 0.1089 - acc: 0.9574 - val_loss: 0.2695 - val_acc: 0.9104\n",
      "Epoch 48/50\n",
      "15360/15360 [==============================] - 2s 135us/sample - loss: 0.1126 - acc: 0.9571 - val_loss: 0.2475 - val_acc: 0.9083\n",
      "Epoch 49/50\n",
      "15360/15360 [==============================] - 2s 148us/sample - loss: 0.1077 - acc: 0.9571 - val_loss: 0.2759 - val_acc: 0.9065\n",
      "Epoch 50/50\n",
      "15360/15360 [==============================] - 2s 149us/sample - loss: 0.1089 - acc: 0.9572 - val_loss: 0.2567 - val_acc: 0.9135\n"
     ]
    }
   ],
   "source": [
    "history = model.fit([stroke_1, stroke_2],np.array(y_train),epochs=50,batch_size=100, validation_split=0.2)"
   ]
  },
  {
   "cell_type": "code",
   "execution_count": 22,
   "metadata": {},
   "outputs": [
    {
     "data": {
      "text/plain": [
       "array([[1.],\n",
       "       [1.],\n",
       "       [1.],\n",
       "       ...,\n",
       "       [1.],\n",
       "       [0.],\n",
       "       [0.]], dtype=float32)"
      ]
     },
     "execution_count": 22,
     "metadata": {},
     "output_type": "execute_result"
    }
   ],
   "source": [
    "pred = np.rint(model.predict([x_test[:, 0], x_test[:, 1]]))\n",
    "pred"
   ]
  },
  {
   "cell_type": "code",
   "execution_count": 23,
   "metadata": {},
   "outputs": [
    {
     "data": {
      "text/html": [
       "<div>\n",
       "<style scoped>\n",
       "    .dataframe tbody tr th:only-of-type {\n",
       "        vertical-align: middle;\n",
       "    }\n",
       "\n",
       "    .dataframe tbody tr th {\n",
       "        vertical-align: top;\n",
       "    }\n",
       "\n",
       "    .dataframe thead th {\n",
       "        text-align: right;\n",
       "    }\n",
       "</style>\n",
       "<table border=\"1\" class=\"dataframe\">\n",
       "  <thead>\n",
       "    <tr style=\"text-align: right;\">\n",
       "      <th></th>\n",
       "      <th>0</th>\n",
       "    </tr>\n",
       "  </thead>\n",
       "  <tbody>\n",
       "    <tr>\n",
       "      <th>6151</th>\n",
       "      <td>1</td>\n",
       "    </tr>\n",
       "    <tr>\n",
       "      <th>20036</th>\n",
       "      <td>0</td>\n",
       "    </tr>\n",
       "    <tr>\n",
       "      <th>7301</th>\n",
       "      <td>1</td>\n",
       "    </tr>\n",
       "    <tr>\n",
       "      <th>16931</th>\n",
       "      <td>0</td>\n",
       "    </tr>\n",
       "    <tr>\n",
       "      <th>8055</th>\n",
       "      <td>1</td>\n",
       "    </tr>\n",
       "    <tr>\n",
       "      <th>...</th>\n",
       "      <td>...</td>\n",
       "    </tr>\n",
       "    <tr>\n",
       "      <th>1089</th>\n",
       "      <td>1</td>\n",
       "    </tr>\n",
       "    <tr>\n",
       "      <th>11165</th>\n",
       "      <td>1</td>\n",
       "    </tr>\n",
       "    <tr>\n",
       "      <th>9856</th>\n",
       "      <td>1</td>\n",
       "    </tr>\n",
       "    <tr>\n",
       "      <th>19424</th>\n",
       "      <td>0</td>\n",
       "    </tr>\n",
       "    <tr>\n",
       "      <th>14567</th>\n",
       "      <td>0</td>\n",
       "    </tr>\n",
       "  </tbody>\n",
       "</table>\n",
       "<p>4800 rows × 1 columns</p>\n",
       "</div>"
      ],
      "text/plain": [
       "       0\n",
       "6151   1\n",
       "20036  0\n",
       "7301   1\n",
       "16931  0\n",
       "8055   1\n",
       "...   ..\n",
       "1089   1\n",
       "11165  1\n",
       "9856   1\n",
       "19424  0\n",
       "14567  0\n",
       "\n",
       "[4800 rows x 1 columns]"
      ]
     },
     "execution_count": 23,
     "metadata": {},
     "output_type": "execute_result"
    }
   ],
   "source": [
    "y_test"
   ]
  },
  {
   "cell_type": "code",
   "execution_count": 24,
   "metadata": {},
   "outputs": [
    {
     "name": "stdout",
     "output_type": "stream",
     "text": [
      "Test accuracy: 0.91083336\n"
     ]
    }
   ],
   "source": [
    "test_scores = model.evaluate([x_test[:, 0], x_test[:, 1]], y_test, verbose = 0)\n",
    "print('Test accuracy:', test_scores[1])"
   ]
  },
  {
   "cell_type": "code",
   "execution_count": 25,
   "metadata": {},
   "outputs": [
    {
     "data": {
      "image/png": "[encoded data removed]",
      "text/plain": [
       "<Figure size 432x288 with 1 Axes>"
      ]
     },
     "metadata": {
      "needs_background": "light"
     },
     "output_type": "display_data"
    },
    {
     "data": {
      "image/png": "[encoded data removed]",
      "text/plain": [
       "<Figure size 432x288 with 1 Axes>"
      ]
     },
     "metadata": {
      "needs_background": "light"
     },
     "output_type": "display_data"
    }
   ],
   "source": [
    "acc = history.history['acc']\n",
    "val_acc = history.history['val_acc']\n",
    "loss = history.history['loss']\n",
    "val_loss = history.history['val_loss']\n",
    "epochs = range(1, len(acc) + 1)\n",
    "#Train and validation accuracy\n",
    "plt.plot(epochs, acc, 'b', label='Training accurarcy')\n",
    "plt.plot(epochs, val_acc, 'r', label='Validation accurarcy')\n",
    "plt.title('Training and Validation accurarcy')\n",
    "plt.legend()\n",
    "\n",
    "plt.figure()\n",
    "#Train and validation loss\n",
    "plt.plot(epochs, loss, 'b', label='Training loss')\n",
    "plt.plot(epochs, val_loss, 'r', label='Validation loss')\n",
    "plt.title('Training and Validation loss')\n",
    "plt.legend()\n",
    "plt.show()"
   ]
  },
  {
   "cell_type": "code",
   "execution_count": 26,
   "metadata": {},
   "outputs": [
    {
     "data": {
      "text/plain": [
       "array([[2136,  164],\n",
       "       [ 264, 2236]], dtype=int64)"
      ]
     },
     "execution_count": 26,
     "metadata": {},
     "output_type": "execute_result"
    }
   ],
   "source": [
    "confusion_matrix(pred,y_test)"
   ]
  },
  {
   "cell_type": "code",
   "execution_count": 27,
   "metadata": {},
   "outputs": [
    {
     "name": "stdout",
     "output_type": "stream",
     "text": [
      "saved\n"
     ]
    }
   ],
   "source": [
    "# Save Weights + Architecture\n",
    "model.save_weights('model_weights.h5')\n",
    "with open('model_architecture.json', 'w') as f:\n",
    "    f.write(model.to_json())\n",
    "print('saved')"
   ]
  },
  {
   "cell_type": "code",
   "execution_count": 28,
   "metadata": {},
   "outputs": [
    {
     "name": "stdout",
     "output_type": "stream",
     "text": [
      "WARNING:tensorflow:From C:\\Users\\Karthika\\Anaconda3\\envs\\jupyter36\\lib\\site-packages\\tensorflow_core\\python\\ops\\init_ops.py:97: calling GlorotUniform.__init__ (from tensorflow.python.ops.init_ops) with dtype is deprecated and will be removed in a future version.\n",
      "Instructions for updating:\n",
      "Call initializer instance with the dtype argument instead of passing it to the constructor\n",
      "WARNING:tensorflow:From C:\\Users\\Karthika\\Anaconda3\\envs\\jupyter36\\lib\\site-packages\\tensorflow_core\\python\\ops\\init_ops.py:97: calling Zeros.__init__ (from tensorflow.python.ops.init_ops) with dtype is deprecated and will be removed in a future version.\n",
      "Instructions for updating:\n",
      "Call initializer instance with the dtype argument instead of passing it to the constructor\n",
      "WARNING:tensorflow:From C:\\Users\\Karthika\\Anaconda3\\envs\\jupyter36\\lib\\site-packages\\tensorflow_core\\python\\ops\\init_ops.py:97: calling Ones.__init__ (from tensorflow.python.ops.init_ops) with dtype is deprecated and will be removed in a future version.\n",
      "Instructions for updating:\n",
      "Call initializer instance with the dtype argument instead of passing it to the constructor\n",
      "Loaded model from disk\n",
      "acc: 91.08%\n"
     ]
    }
   ],
   "source": [
    "#load the model\n",
    "\n",
    "json_file = open('model_architecture.json', 'r')\n",
    "loaded_model_json = json_file.read()\n",
    "json_file.close()\n",
    "loaded_model = model_from_json(loaded_model_json)\n",
    "# load weights into new model\n",
    "loaded_model.load_weights(\"model_weights.h5\")\n",
    "print(\"Loaded model from disk\")\n",
    " \n",
    "# evaluate loaded model on test data\n",
    "loaded_model.compile(loss='binary_crossentropy', optimizer='adam', metrics=['accuracy'])\n",
    "score = loaded_model.evaluate([x_test[:, 0], x_test[:, 1]], y_test, verbose = 0)\n",
    "print(\"%s: %.2f%%\" % (loaded_model.metrics_names[1], score[1]*100))"
   ]
  },
  {
   "cell_type": "code",
   "execution_count": 29,
   "metadata": {},
   "outputs": [
    {
     "data": {
      "text/plain": [
       "array([[1.]], dtype=float32)"
      ]
     },
     "execution_count": 29,
     "metadata": {},
     "output_type": "execute_result"
    }
   ],
   "source": [
    "# through EDA observation from t-SNE plot we find s002 and s003 subjects forming clusters \n",
    "# nearby and quite overlapping, telling us their patterns being quite similar, and this model \n",
    "# finds it actually difficult to differentiate both giving us prediction of 1 that is both same \n",
    "\n",
    "x1 = np.array(data.loc[data.subject == 's003', 'H.period':'H.Return'][1:2])\n",
    "x2 = np.array(data.loc[data.subject == 's002', 'H.period':'H.Return'][1:2])\n",
    "pred = loaded_model.predict([x1,x2])\n",
    "np.rint(pred)"
   ]
  },
  {
   "cell_type": "code",
   "execution_count": 33,
   "metadata": {},
   "outputs": [
    {
     "name": "stdout",
     "output_type": "stream",
     "text": [
      "x1 and x2:  [[0.]]\n",
      "x1 and x3:  [[1.]]\n"
     ]
    }
   ],
   "source": [
    "# another case as seen from t-SNE plot done in EDA shows s054 subject has 2 very different styles of typing \n",
    "# hence x1 and x2 give 0 that is diffrent while x1 and x3 give same that is 1 \n",
    "\n",
    "x1 = np.array(data.loc[data.subject == 's054', 'H.period':'H.Return'][1:2])\n",
    "x2 = np.array(data.loc[data.subject == 's054', 'H.period':'H.Return'][25:26])\n",
    "x3 = np.array(data.loc[data.subject == 's054', 'H.period':'H.Return'][250:251])\n",
    "pred = loaded_model.predict([x1,x2])\n",
    "print('x1 and x2: ', np.rint(pred))\n",
    "pred = loaded_model.predict([x1,x3])\n",
    "print('x1 and x3: ', np.rint(pred))"
   ]
  },
  {
   "cell_type": "code",
   "execution_count": null,
   "metadata": {},
   "outputs": [],
   "source": []
  }
 ],
 "metadata": {
  "kernelspec": {
   "display_name": "Python 3",
   "language": "python",
   "name": "python3"
  },
  "language_info": {
   "codemirror_mode": {
    "name": "ipython",
    "version": 3
   },
   "file_extension": ".py",
   "mimetype": "text/x-python",
   "name": "python",
   "nbconvert_exporter": "python",
   "pygments_lexer": "ipython3",
   "version": "3.6.9"
  }
 },
 "nbformat": 4,
 "nbformat_minor": 4
}
